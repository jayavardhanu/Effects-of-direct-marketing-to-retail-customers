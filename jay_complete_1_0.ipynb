{
  "nbformat": 4,
  "nbformat_minor": 0,
  "metadata": {
    "colab": {
      "name": "jay_complete_1.0.ipynb",
      "provenance": []
    },
    "kernelspec": {
      "name": "python3",
      "display_name": "Python 3"
    }
  },
  "cells": [
    {
      "cell_type": "code",
      "metadata": {
        "id": "JoFMrJxjrK7o",
        "colab_type": "code",
        "outputId": "197d9ba4-9780-4118-f4f5-85383964175c",
        "colab": {
          "base_uri": "https://localhost:8080/",
          "height": 34
        }
      },
      "source": [
        "#mounting google drive\n",
        "from google.colab import drive\n",
        "drive.mount('/content/gdrive')"
      ],
      "execution_count": 160,
      "outputs": [
        {
          "output_type": "stream",
          "text": [
            "Drive already mounted at /content/gdrive; to attempt to forcibly remount, call drive.mount(\"/content/gdrive\", force_remount=True).\n"
          ],
          "name": "stdout"
        }
      ]
    },
    {
      "cell_type": "code",
      "metadata": {
        "id": "fVTD_KVDrtNu",
        "colab_type": "code",
        "colab": {}
      },
      "source": [
        "#importing neccesary libraries\n",
        "import pandas as pd\n",
        "import numpy as np\n",
        "import matplotlib.pyplot as plt\n",
        "import seaborn as sns"
      ],
      "execution_count": 0,
      "outputs": []
    },
    {
      "cell_type": "markdown",
      "metadata": {
        "id": "ZTFPbbfo6St9",
        "colab_type": "text"
      },
      "source": [
        "Transaction_data"
      ]
    },
    {
      "cell_type": "code",
      "metadata": {
        "id": "TuTX6PIlr6ce",
        "colab_type": "code",
        "colab": {}
      },
      "source": [
        "trans_data1=pd.read_csv('/content/gdrive/My Drive/dunnhumby_The-Complete-Journey/dunnhumby - The Complete Journey CSV/transaction_data.csv')"
      ],
      "execution_count": 0,
      "outputs": []
    },
    {
      "cell_type": "code",
      "metadata": {
        "id": "8R_dXqqjsRPV",
        "colab_type": "code",
        "outputId": "ea9d9f1a-89a9-4e6e-e801-f70d32fd162d",
        "colab": {
          "base_uri": "https://localhost:8080/",
          "height": 317
        }
      },
      "source": [
        "#summary statistics\n",
        "trans_data1.describe()"
      ],
      "execution_count": 164,
      "outputs": [
        {
          "output_type": "execute_result",
          "data": {
            "text/html": [
              "<div>\n",
              "<style scoped>\n",
              "    .dataframe tbody tr th:only-of-type {\n",
              "        vertical-align: middle;\n",
              "    }\n",
              "\n",
              "    .dataframe tbody tr th {\n",
              "        vertical-align: top;\n",
              "    }\n",
              "\n",
              "    .dataframe thead th {\n",
              "        text-align: right;\n",
              "    }\n",
              "</style>\n",
              "<table border=\"1\" class=\"dataframe\">\n",
              "  <thead>\n",
              "    <tr style=\"text-align: right;\">\n",
              "      <th></th>\n",
              "      <th>household_key</th>\n",
              "      <th>BASKET_ID</th>\n",
              "      <th>DAY</th>\n",
              "      <th>PRODUCT_ID</th>\n",
              "      <th>QUANTITY</th>\n",
              "      <th>SALES_VALUE</th>\n",
              "      <th>STORE_ID</th>\n",
              "      <th>RETAIL_DISC</th>\n",
              "      <th>TRANS_TIME</th>\n",
              "      <th>WEEK_NO</th>\n",
              "      <th>COUPON_DISC</th>\n",
              "      <th>COUPON_MATCH_DISC</th>\n",
              "    </tr>\n",
              "  </thead>\n",
              "  <tbody>\n",
              "    <tr>\n",
              "      <th>count</th>\n",
              "      <td>2.595732e+06</td>\n",
              "      <td>2.595732e+06</td>\n",
              "      <td>2.595732e+06</td>\n",
              "      <td>2.595732e+06</td>\n",
              "      <td>2.595732e+06</td>\n",
              "      <td>2.595732e+06</td>\n",
              "      <td>2.595732e+06</td>\n",
              "      <td>2.595732e+06</td>\n",
              "      <td>2.595732e+06</td>\n",
              "      <td>2.595732e+06</td>\n",
              "      <td>2.595732e+06</td>\n",
              "      <td>2.595732e+06</td>\n",
              "    </tr>\n",
              "    <tr>\n",
              "      <th>mean</th>\n",
              "      <td>1.271953e+03</td>\n",
              "      <td>3.402620e+10</td>\n",
              "      <td>3.887562e+02</td>\n",
              "      <td>2.891435e+06</td>\n",
              "      <td>1.004286e+02</td>\n",
              "      <td>3.104120e+00</td>\n",
              "      <td>3.142673e+03</td>\n",
              "      <td>-5.387054e-01</td>\n",
              "      <td>1.561586e+03</td>\n",
              "      <td>5.622150e+01</td>\n",
              "      <td>-1.641600e-02</td>\n",
              "      <td>-2.918564e-03</td>\n",
              "    </tr>\n",
              "    <tr>\n",
              "      <th>std</th>\n",
              "      <td>7.260660e+02</td>\n",
              "      <td>4.711649e+09</td>\n",
              "      <td>1.897210e+02</td>\n",
              "      <td>3.837404e+06</td>\n",
              "      <td>1.153436e+03</td>\n",
              "      <td>4.182274e+00</td>\n",
              "      <td>8.937113e+03</td>\n",
              "      <td>1.249191e+00</td>\n",
              "      <td>3.998378e+02</td>\n",
              "      <td>2.710223e+01</td>\n",
              "      <td>2.168410e-01</td>\n",
              "      <td>3.969004e-02</td>\n",
              "    </tr>\n",
              "    <tr>\n",
              "      <th>min</th>\n",
              "      <td>1.000000e+00</td>\n",
              "      <td>2.698485e+10</td>\n",
              "      <td>1.000000e+00</td>\n",
              "      <td>2.567100e+04</td>\n",
              "      <td>0.000000e+00</td>\n",
              "      <td>0.000000e+00</td>\n",
              "      <td>1.000000e+00</td>\n",
              "      <td>-1.800000e+02</td>\n",
              "      <td>0.000000e+00</td>\n",
              "      <td>1.000000e+00</td>\n",
              "      <td>-5.593000e+01</td>\n",
              "      <td>-7.700000e+00</td>\n",
              "    </tr>\n",
              "    <tr>\n",
              "      <th>25%</th>\n",
              "      <td>6.560000e+02</td>\n",
              "      <td>3.040805e+10</td>\n",
              "      <td>2.290000e+02</td>\n",
              "      <td>9.174590e+05</td>\n",
              "      <td>1.000000e+00</td>\n",
              "      <td>1.290000e+00</td>\n",
              "      <td>3.300000e+02</td>\n",
              "      <td>-6.900000e-01</td>\n",
              "      <td>1.308000e+03</td>\n",
              "      <td>3.300000e+01</td>\n",
              "      <td>0.000000e+00</td>\n",
              "      <td>0.000000e+00</td>\n",
              "    </tr>\n",
              "    <tr>\n",
              "      <th>50%</th>\n",
              "      <td>1.272000e+03</td>\n",
              "      <td>3.276081e+10</td>\n",
              "      <td>3.900000e+02</td>\n",
              "      <td>1.028816e+06</td>\n",
              "      <td>1.000000e+00</td>\n",
              "      <td>2.000000e+00</td>\n",
              "      <td>3.720000e+02</td>\n",
              "      <td>-1.000000e-02</td>\n",
              "      <td>1.613000e+03</td>\n",
              "      <td>5.600000e+01</td>\n",
              "      <td>0.000000e+00</td>\n",
              "      <td>0.000000e+00</td>\n",
              "    </tr>\n",
              "    <tr>\n",
              "      <th>75%</th>\n",
              "      <td>1.913000e+03</td>\n",
              "      <td>4.012685e+10</td>\n",
              "      <td>5.530000e+02</td>\n",
              "      <td>1.133018e+06</td>\n",
              "      <td>1.000000e+00</td>\n",
              "      <td>3.490000e+00</td>\n",
              "      <td>4.220000e+02</td>\n",
              "      <td>0.000000e+00</td>\n",
              "      <td>1.843000e+03</td>\n",
              "      <td>8.000000e+01</td>\n",
              "      <td>0.000000e+00</td>\n",
              "      <td>0.000000e+00</td>\n",
              "    </tr>\n",
              "    <tr>\n",
              "      <th>max</th>\n",
              "      <td>2.500000e+03</td>\n",
              "      <td>4.230536e+10</td>\n",
              "      <td>7.110000e+02</td>\n",
              "      <td>1.831630e+07</td>\n",
              "      <td>8.963800e+04</td>\n",
              "      <td>8.400000e+02</td>\n",
              "      <td>3.428000e+04</td>\n",
              "      <td>3.990000e+00</td>\n",
              "      <td>2.359000e+03</td>\n",
              "      <td>1.020000e+02</td>\n",
              "      <td>0.000000e+00</td>\n",
              "      <td>0.000000e+00</td>\n",
              "    </tr>\n",
              "  </tbody>\n",
              "</table>\n",
              "</div>"
            ],
            "text/plain": [
              "       household_key     BASKET_ID           DAY    PRODUCT_ID      QUANTITY  \\\n",
              "count   2.595732e+06  2.595732e+06  2.595732e+06  2.595732e+06  2.595732e+06   \n",
              "mean    1.271953e+03  3.402620e+10  3.887562e+02  2.891435e+06  1.004286e+02   \n",
              "std     7.260660e+02  4.711649e+09  1.897210e+02  3.837404e+06  1.153436e+03   \n",
              "min     1.000000e+00  2.698485e+10  1.000000e+00  2.567100e+04  0.000000e+00   \n",
              "25%     6.560000e+02  3.040805e+10  2.290000e+02  9.174590e+05  1.000000e+00   \n",
              "50%     1.272000e+03  3.276081e+10  3.900000e+02  1.028816e+06  1.000000e+00   \n",
              "75%     1.913000e+03  4.012685e+10  5.530000e+02  1.133018e+06  1.000000e+00   \n",
              "max     2.500000e+03  4.230536e+10  7.110000e+02  1.831630e+07  8.963800e+04   \n",
              "\n",
              "        SALES_VALUE      STORE_ID   RETAIL_DISC    TRANS_TIME       WEEK_NO  \\\n",
              "count  2.595732e+06  2.595732e+06  2.595732e+06  2.595732e+06  2.595732e+06   \n",
              "mean   3.104120e+00  3.142673e+03 -5.387054e-01  1.561586e+03  5.622150e+01   \n",
              "std    4.182274e+00  8.937113e+03  1.249191e+00  3.998378e+02  2.710223e+01   \n",
              "min    0.000000e+00  1.000000e+00 -1.800000e+02  0.000000e+00  1.000000e+00   \n",
              "25%    1.290000e+00  3.300000e+02 -6.900000e-01  1.308000e+03  3.300000e+01   \n",
              "50%    2.000000e+00  3.720000e+02 -1.000000e-02  1.613000e+03  5.600000e+01   \n",
              "75%    3.490000e+00  4.220000e+02  0.000000e+00  1.843000e+03  8.000000e+01   \n",
              "max    8.400000e+02  3.428000e+04  3.990000e+00  2.359000e+03  1.020000e+02   \n",
              "\n",
              "        COUPON_DISC  COUPON_MATCH_DISC  \n",
              "count  2.595732e+06       2.595732e+06  \n",
              "mean  -1.641600e-02      -2.918564e-03  \n",
              "std    2.168410e-01       3.969004e-02  \n",
              "min   -5.593000e+01      -7.700000e+00  \n",
              "25%    0.000000e+00       0.000000e+00  \n",
              "50%    0.000000e+00       0.000000e+00  \n",
              "75%    0.000000e+00       0.000000e+00  \n",
              "max    0.000000e+00       0.000000e+00  "
            ]
          },
          "metadata": {
            "tags": []
          },
          "execution_count": 164
        }
      ]
    },
    {
      "cell_type": "code",
      "metadata": {
        "id": "JLpJ4sTWsW-W",
        "colab_type": "code",
        "outputId": "98c9dfca-7f3b-41ff-f8e8-6aa8194ebbf1",
        "colab": {
          "base_uri": "https://localhost:8080/",
          "height": 204
        }
      },
      "source": [
        "trans_data1.head()"
      ],
      "execution_count": 165,
      "outputs": [
        {
          "output_type": "execute_result",
          "data": {
            "text/html": [
              "<div>\n",
              "<style scoped>\n",
              "    .dataframe tbody tr th:only-of-type {\n",
              "        vertical-align: middle;\n",
              "    }\n",
              "\n",
              "    .dataframe tbody tr th {\n",
              "        vertical-align: top;\n",
              "    }\n",
              "\n",
              "    .dataframe thead th {\n",
              "        text-align: right;\n",
              "    }\n",
              "</style>\n",
              "<table border=\"1\" class=\"dataframe\">\n",
              "  <thead>\n",
              "    <tr style=\"text-align: right;\">\n",
              "      <th></th>\n",
              "      <th>household_key</th>\n",
              "      <th>BASKET_ID</th>\n",
              "      <th>DAY</th>\n",
              "      <th>PRODUCT_ID</th>\n",
              "      <th>QUANTITY</th>\n",
              "      <th>SALES_VALUE</th>\n",
              "      <th>STORE_ID</th>\n",
              "      <th>RETAIL_DISC</th>\n",
              "      <th>TRANS_TIME</th>\n",
              "      <th>WEEK_NO</th>\n",
              "      <th>COUPON_DISC</th>\n",
              "      <th>COUPON_MATCH_DISC</th>\n",
              "    </tr>\n",
              "  </thead>\n",
              "  <tbody>\n",
              "    <tr>\n",
              "      <th>0</th>\n",
              "      <td>2375</td>\n",
              "      <td>26984851472</td>\n",
              "      <td>1</td>\n",
              "      <td>1004906</td>\n",
              "      <td>1</td>\n",
              "      <td>1.39</td>\n",
              "      <td>364</td>\n",
              "      <td>-0.60</td>\n",
              "      <td>1631</td>\n",
              "      <td>1</td>\n",
              "      <td>0.0</td>\n",
              "      <td>0.0</td>\n",
              "    </tr>\n",
              "    <tr>\n",
              "      <th>1</th>\n",
              "      <td>2375</td>\n",
              "      <td>26984851472</td>\n",
              "      <td>1</td>\n",
              "      <td>1033142</td>\n",
              "      <td>1</td>\n",
              "      <td>0.82</td>\n",
              "      <td>364</td>\n",
              "      <td>0.00</td>\n",
              "      <td>1631</td>\n",
              "      <td>1</td>\n",
              "      <td>0.0</td>\n",
              "      <td>0.0</td>\n",
              "    </tr>\n",
              "    <tr>\n",
              "      <th>2</th>\n",
              "      <td>2375</td>\n",
              "      <td>26984851472</td>\n",
              "      <td>1</td>\n",
              "      <td>1036325</td>\n",
              "      <td>1</td>\n",
              "      <td>0.99</td>\n",
              "      <td>364</td>\n",
              "      <td>-0.30</td>\n",
              "      <td>1631</td>\n",
              "      <td>1</td>\n",
              "      <td>0.0</td>\n",
              "      <td>0.0</td>\n",
              "    </tr>\n",
              "    <tr>\n",
              "      <th>3</th>\n",
              "      <td>2375</td>\n",
              "      <td>26984851472</td>\n",
              "      <td>1</td>\n",
              "      <td>1082185</td>\n",
              "      <td>1</td>\n",
              "      <td>1.21</td>\n",
              "      <td>364</td>\n",
              "      <td>0.00</td>\n",
              "      <td>1631</td>\n",
              "      <td>1</td>\n",
              "      <td>0.0</td>\n",
              "      <td>0.0</td>\n",
              "    </tr>\n",
              "    <tr>\n",
              "      <th>4</th>\n",
              "      <td>2375</td>\n",
              "      <td>26984851472</td>\n",
              "      <td>1</td>\n",
              "      <td>8160430</td>\n",
              "      <td>1</td>\n",
              "      <td>1.50</td>\n",
              "      <td>364</td>\n",
              "      <td>-0.39</td>\n",
              "      <td>1631</td>\n",
              "      <td>1</td>\n",
              "      <td>0.0</td>\n",
              "      <td>0.0</td>\n",
              "    </tr>\n",
              "  </tbody>\n",
              "</table>\n",
              "</div>"
            ],
            "text/plain": [
              "   household_key    BASKET_ID  DAY  PRODUCT_ID  QUANTITY  SALES_VALUE  \\\n",
              "0           2375  26984851472    1     1004906         1         1.39   \n",
              "1           2375  26984851472    1     1033142         1         0.82   \n",
              "2           2375  26984851472    1     1036325         1         0.99   \n",
              "3           2375  26984851472    1     1082185         1         1.21   \n",
              "4           2375  26984851472    1     8160430         1         1.50   \n",
              "\n",
              "   STORE_ID  RETAIL_DISC  TRANS_TIME  WEEK_NO  COUPON_DISC  COUPON_MATCH_DISC  \n",
              "0       364        -0.60        1631        1          0.0                0.0  \n",
              "1       364         0.00        1631        1          0.0                0.0  \n",
              "2       364        -0.30        1631        1          0.0                0.0  \n",
              "3       364         0.00        1631        1          0.0                0.0  \n",
              "4       364        -0.39        1631        1          0.0                0.0  "
            ]
          },
          "metadata": {
            "tags": []
          },
          "execution_count": 165
        }
      ]
    },
    {
      "cell_type": "code",
      "metadata": {
        "id": "N-v0EFoAAfAu",
        "colab_type": "code",
        "outputId": "b6a5dff5-90f5-49da-e002-a394bb6c4eca",
        "colab": {
          "base_uri": "https://localhost:8080/",
          "height": 34
        }
      },
      "source": [
        "len(trans_data1['household_key'].unique())"
      ],
      "execution_count": 166,
      "outputs": [
        {
          "output_type": "execute_result",
          "data": {
            "text/plain": [
              "2500"
            ]
          },
          "metadata": {
            "tags": []
          },
          "execution_count": 166
        }
      ]
    },
    {
      "cell_type": "code",
      "metadata": {
        "id": "X6jEvKzPOFuj",
        "colab_type": "code",
        "outputId": "e71f98cd-217b-4293-f220-0d20d5baed51",
        "colab": {
          "base_uri": "https://localhost:8080/",
          "height": 297
        }
      },
      "source": [
        "sns.distplot(trans_data1['TRANS_TIME'])"
      ],
      "execution_count": 167,
      "outputs": [
        {
          "output_type": "execute_result",
          "data": {
            "text/plain": [
              "<matplotlib.axes._subplots.AxesSubplot at 0x7fc140f59cc0>"
            ]
          },
          "metadata": {
            "tags": []
          },
          "execution_count": 167
        },
        {
          "output_type": "display_data",
          "data": {
            "image/png": "[encoded data removed]",
            "text/plain": [
              "<Figure size 432x288 with 1 Axes>"
            ]
          },
          "metadata": {
            "tags": []
          }
        }
      ]
    },
    {
      "cell_type": "code",
      "metadata": {
        "id": "gaXoUwgTPKpt",
        "colab_type": "code",
        "outputId": "5080b6cb-c92b-4cc1-bf6a-874e40229518",
        "colab": {
          "base_uri": "https://localhost:8080/",
          "height": 170
        }
      },
      "source": [
        "trans_data1['TRANS_TIME'].describe()"
      ],
      "execution_count": 168,
      "outputs": [
        {
          "output_type": "execute_result",
          "data": {
            "text/plain": [
              "count    2.595732e+06\n",
              "mean     1.561586e+03\n",
              "std      3.998378e+02\n",
              "min      0.000000e+00\n",
              "25%      1.308000e+03\n",
              "50%      1.613000e+03\n",
              "75%      1.843000e+03\n",
              "max      2.359000e+03\n",
              "Name: TRANS_TIME, dtype: float64"
            ]
          },
          "metadata": {
            "tags": []
          },
          "execution_count": 168
        }
      ]
    },
    {
      "cell_type": "code",
      "metadata": {
        "id": "cikUcP1JsZeF",
        "colab_type": "code",
        "outputId": "2a8b3215-96fe-401c-abac-e374b956dbb4",
        "colab": {
          "base_uri": "https://localhost:8080/",
          "height": 34
        }
      },
      "source": [
        "trans_data1.shape"
      ],
      "execution_count": 169,
      "outputs": [
        {
          "output_type": "execute_result",
          "data": {
            "text/plain": [
              "(2595732, 12)"
            ]
          },
          "metadata": {
            "tags": []
          },
          "execution_count": 169
        }
      ]
    },
    {
      "cell_type": "code",
      "metadata": {
        "id": "O4AMd5qX6lOE",
        "colab_type": "code",
        "outputId": "6e0031be-24b4-4559-c869-94a28edd49e0",
        "colab": {
          "base_uri": "https://localhost:8080/",
          "height": 34
        }
      },
      "source": [
        "trans_data1['DAY'].max()\n",
        "#There were 2595732 transactions on a period of 711 days"
      ],
      "execution_count": 170,
      "outputs": [
        {
          "output_type": "execute_result",
          "data": {
            "text/plain": [
              "711"
            ]
          },
          "metadata": {
            "tags": []
          },
          "execution_count": 170
        }
      ]
    },
    {
      "cell_type": "code",
      "metadata": {
        "id": "ze4S49OJCXyh",
        "colab_type": "code",
        "colab": {}
      },
      "source": [
        "hh=pd.read_csv('/content/gdrive/My Drive/dunnhumby_The-Complete-Journey/dunnhumby - The Complete Journey CSV/hh_demographic.csv')\n",
        "#household information"
      ],
      "execution_count": 0,
      "outputs": []
    },
    {
      "cell_type": "code",
      "metadata": {
        "id": "WZdU9ntsMaGx",
        "colab_type": "code",
        "outputId": "6a9c4c1d-d319-4c82-8f1a-0c92ef64de79",
        "colab": {
          "base_uri": "https://localhost:8080/",
          "height": 34
        }
      },
      "source": [
        "hh.shape"
      ],
      "execution_count": 172,
      "outputs": [
        {
          "output_type": "execute_result",
          "data": {
            "text/plain": [
              "(801, 8)"
            ]
          },
          "metadata": {
            "tags": []
          },
          "execution_count": 172
        }
      ]
    },
    {
      "cell_type": "code",
      "metadata": {
        "id": "Yf19yWArKsqH",
        "colab_type": "code",
        "outputId": "a28fa5bd-250f-40e1-df05-301387367557",
        "colab": {
          "base_uri": "https://localhost:8080/",
          "height": 204
        }
      },
      "source": [
        "hh.head()"
      ],
      "execution_count": 173,
      "outputs": [
        {
          "output_type": "execute_result",
          "data": {
            "text/html": [
              "<div>\n",
              "<style scoped>\n",
              "    .dataframe tbody tr th:only-of-type {\n",
              "        vertical-align: middle;\n",
              "    }\n",
              "\n",
              "    .dataframe tbody tr th {\n",
              "        vertical-align: top;\n",
              "    }\n",
              "\n",
              "    .dataframe thead th {\n",
              "        text-align: right;\n",
              "    }\n",
              "</style>\n",
              "<table border=\"1\" class=\"dataframe\">\n",
              "  <thead>\n",
              "    <tr style=\"text-align: right;\">\n",
              "      <th></th>\n",
              "      <th>AGE_DESC</th>\n",
              "      <th>MARITAL_STATUS_CODE</th>\n",
              "      <th>INCOME_DESC</th>\n",
              "      <th>HOMEOWNER_DESC</th>\n",
              "      <th>HH_COMP_DESC</th>\n",
              "      <th>HOUSEHOLD_SIZE_DESC</th>\n",
              "      <th>KID_CATEGORY_DESC</th>\n",
              "      <th>household_key</th>\n",
              "    </tr>\n",
              "  </thead>\n",
              "  <tbody>\n",
              "    <tr>\n",
              "      <th>0</th>\n",
              "      <td>65+</td>\n",
              "      <td>A</td>\n",
              "      <td>35-49K</td>\n",
              "      <td>Homeowner</td>\n",
              "      <td>2 Adults No Kids</td>\n",
              "      <td>2</td>\n",
              "      <td>None/Unknown</td>\n",
              "      <td>1</td>\n",
              "    </tr>\n",
              "    <tr>\n",
              "      <th>1</th>\n",
              "      <td>45-54</td>\n",
              "      <td>A</td>\n",
              "      <td>50-74K</td>\n",
              "      <td>Homeowner</td>\n",
              "      <td>2 Adults No Kids</td>\n",
              "      <td>2</td>\n",
              "      <td>None/Unknown</td>\n",
              "      <td>7</td>\n",
              "    </tr>\n",
              "    <tr>\n",
              "      <th>2</th>\n",
              "      <td>25-34</td>\n",
              "      <td>U</td>\n",
              "      <td>25-34K</td>\n",
              "      <td>Unknown</td>\n",
              "      <td>2 Adults Kids</td>\n",
              "      <td>3</td>\n",
              "      <td>1</td>\n",
              "      <td>8</td>\n",
              "    </tr>\n",
              "    <tr>\n",
              "      <th>3</th>\n",
              "      <td>25-34</td>\n",
              "      <td>U</td>\n",
              "      <td>75-99K</td>\n",
              "      <td>Homeowner</td>\n",
              "      <td>2 Adults Kids</td>\n",
              "      <td>4</td>\n",
              "      <td>2</td>\n",
              "      <td>13</td>\n",
              "    </tr>\n",
              "    <tr>\n",
              "      <th>4</th>\n",
              "      <td>45-54</td>\n",
              "      <td>B</td>\n",
              "      <td>50-74K</td>\n",
              "      <td>Homeowner</td>\n",
              "      <td>Single Female</td>\n",
              "      <td>1</td>\n",
              "      <td>None/Unknown</td>\n",
              "      <td>16</td>\n",
              "    </tr>\n",
              "  </tbody>\n",
              "</table>\n",
              "</div>"
            ],
            "text/plain": [
              "  AGE_DESC MARITAL_STATUS_CODE INCOME_DESC HOMEOWNER_DESC      HH_COMP_DESC  \\\n",
              "0      65+                   A      35-49K      Homeowner  2 Adults No Kids   \n",
              "1    45-54                   A      50-74K      Homeowner  2 Adults No Kids   \n",
              "2    25-34                   U      25-34K        Unknown     2 Adults Kids   \n",
              "3    25-34                   U      75-99K      Homeowner     2 Adults Kids   \n",
              "4    45-54                   B      50-74K      Homeowner     Single Female   \n",
              "\n",
              "  HOUSEHOLD_SIZE_DESC KID_CATEGORY_DESC  household_key  \n",
              "0                   2      None/Unknown              1  \n",
              "1                   2      None/Unknown              7  \n",
              "2                   3                 1              8  \n",
              "3                   4                 2             13  \n",
              "4                   1      None/Unknown             16  "
            ]
          },
          "metadata": {
            "tags": []
          },
          "execution_count": 173
        }
      ]
    },
    {
      "cell_type": "code",
      "metadata": {
        "id": "gbin9BwEGIjV",
        "colab_type": "code",
        "outputId": "3c29ca30-37a0-4dad-ce85-974e3bd91940",
        "colab": {
          "base_uri": "https://localhost:8080/",
          "height": 51
        }
      },
      "source": [
        "hh['HOMEOWNER_DESC'].unique()"
      ],
      "execution_count": 174,
      "outputs": [
        {
          "output_type": "execute_result",
          "data": {
            "text/plain": [
              "array(['Homeowner', 'Unknown', 'Renter', 'Probable Renter',\n",
              "       'Probable Owner'], dtype=object)"
            ]
          },
          "metadata": {
            "tags": []
          },
          "execution_count": 174
        }
      ]
    },
    {
      "cell_type": "code",
      "metadata": {
        "id": "lUF6k4LzHQGX",
        "colab_type": "code",
        "outputId": "4d6335c0-f4b8-4c2f-c7a4-ad2263c6a767",
        "colab": {
          "base_uri": "https://localhost:8080/",
          "height": 300
        }
      },
      "source": [
        "sns.countplot(hh['AGE_DESC'])"
      ],
      "execution_count": 175,
      "outputs": [
        {
          "output_type": "execute_result",
          "data": {
            "text/plain": [
              "<matplotlib.axes._subplots.AxesSubplot at 0x7fc140dfd048>"
            ]
          },
          "metadata": {
            "tags": []
          },
          "execution_count": 175
        },
        {
          "output_type": "display_data",
          "data": {
            "image/png": "[encoded data removed]",
            "text/plain": [
              "<Figure size 432x288 with 1 Axes>"
            ]
          },
          "metadata": {
            "tags": []
          }
        }
      ]
    },
    {
      "cell_type": "code",
      "metadata": {
        "id": "gMzmdiVcKDDc",
        "colab_type": "code",
        "outputId": "8c52d8fa-e196-44e7-cc8d-0c6e7bba5dc0",
        "colab": {
          "base_uri": "https://localhost:8080/",
          "height": 297
        }
      },
      "source": [
        "sns.countplot(hh['MARITAL_STATUS_CODE'])\n",
        "#U means unknown. This can be imputed based on HH_COMP_DESC"
      ],
      "execution_count": 176,
      "outputs": [
        {
          "output_type": "execute_result",
          "data": {
            "text/plain": [
              "<matplotlib.axes._subplots.AxesSubplot at 0x7fc140dc7a20>"
            ]
          },
          "metadata": {
            "tags": []
          },
          "execution_count": 176
        },
        {
          "output_type": "display_data",
          "data": {
            "image/png": "[encoded data removed]",
            "text/plain": [
              "<Figure size 432x288 with 1 Axes>"
            ]
          },
          "metadata": {
            "tags": []
          }
        }
      ]
    },
    {
      "cell_type": "code",
      "metadata": {
        "id": "jV1R1oVYK5Tm",
        "colab_type": "code",
        "outputId": "e1b16776-2345-45a4-be5a-5c537532a80a",
        "colab": {
          "base_uri": "https://localhost:8080/",
          "height": 300
        }
      },
      "source": [
        "sns.countplot(hh['INCOME_DESC'])"
      ],
      "execution_count": 177,
      "outputs": [
        {
          "output_type": "execute_result",
          "data": {
            "text/plain": [
              "<matplotlib.axes._subplots.AxesSubplot at 0x7fc140d40400>"
            ]
          },
          "metadata": {
            "tags": []
          },
          "execution_count": 177
        },
        {
          "output_type": "display_data",
          "data": {
            "image/png": "[encoded data removed]",
            "text/plain": [
              "<Figure size 432x288 with 1 Axes>"
            ]
          },
          "metadata": {
            "tags": []
          }
        }
      ]
    },
    {
      "cell_type": "code",
      "metadata": {
        "id": "n1X7oa8UK5PO",
        "colab_type": "code",
        "outputId": "53b7ee52-ca7b-4ed5-f896-4940eeb3020c",
        "colab": {
          "base_uri": "https://localhost:8080/",
          "height": 297
        }
      },
      "source": [
        "sns.countplot(hh['HOMEOWNER_DESC'])"
      ],
      "execution_count": 178,
      "outputs": [
        {
          "output_type": "execute_result",
          "data": {
            "text/plain": [
              "<matplotlib.axes._subplots.AxesSubplot at 0x7fc14144f710>"
            ]
          },
          "metadata": {
            "tags": []
          },
          "execution_count": 178
        },
        {
          "output_type": "display_data",
          "data": {
            "image/png": "[encoded data removed]",
            "text/plain": [
              "<Figure size 432x288 with 1 Axes>"
            ]
          },
          "metadata": {
            "tags": []
          }
        }
      ]
    },
    {
      "cell_type": "code",
      "metadata": {
        "id": "Qq8NEde4K5Jg",
        "colab_type": "code",
        "outputId": "2a8b740c-be95-451a-9796-f2c1c2de8308",
        "colab": {
          "base_uri": "https://localhost:8080/",
          "height": 297
        }
      },
      "source": [
        "sns.countplot(hh['HH_COMP_DESC'])"
      ],
      "execution_count": 179,
      "outputs": [
        {
          "output_type": "execute_result",
          "data": {
            "text/plain": [
              "<matplotlib.axes._subplots.AxesSubplot at 0x7fc140c3aef0>"
            ]
          },
          "metadata": {
            "tags": []
          },
          "execution_count": 179
        },
        {
          "output_type": "display_data",
          "data": {
            "image/png": "[encoded data removed]",
            "text/plain": [
              "<Figure size 432x288 with 1 Axes>"
            ]
          },
          "metadata": {
            "tags": []
          }
        }
      ]
    },
    {
      "cell_type": "code",
      "metadata": {
        "id": "zDYdvAaQMAdu",
        "colab_type": "code",
        "outputId": "92e0d18e-d580-44e0-b2e7-23d077d76ad8",
        "colab": {
          "base_uri": "https://localhost:8080/",
          "height": 297
        }
      },
      "source": [
        "sns.countplot(hh['HOUSEHOLD_SIZE_DESC'])"
      ],
      "execution_count": 180,
      "outputs": [
        {
          "output_type": "execute_result",
          "data": {
            "text/plain": [
              "<matplotlib.axes._subplots.AxesSubplot at 0x7fc140c15828>"
            ]
          },
          "metadata": {
            "tags": []
          },
          "execution_count": 180
        },
        {
          "output_type": "display_data",
          "data": {
            "image/png": "[encoded data removed]",
            "text/plain": [
              "<Figure size 432x288 with 1 Axes>"
            ]
          },
          "metadata": {
            "tags": []
          }
        }
      ]
    },
    {
      "cell_type": "code",
      "metadata": {
        "id": "s1TWR2gLSVjF",
        "colab_type": "code",
        "colab": {}
      },
      "source": [
        "hh1=hh['household_key'].unique()"
      ],
      "execution_count": 0,
      "outputs": []
    },
    {
      "cell_type": "code",
      "metadata": {
        "id": "FY_TXfquSs83",
        "colab_type": "code",
        "outputId": "1926b559-e1c8-4ab9-ee67-c0676ee705cd",
        "colab": {
          "base_uri": "https://localhost:8080/",
          "height": 34
        }
      },
      "source": [
        "len(hh1)"
      ],
      "execution_count": 182,
      "outputs": [
        {
          "output_type": "execute_result",
          "data": {
            "text/plain": [
              "801"
            ]
          },
          "metadata": {
            "tags": []
          },
          "execution_count": 182
        }
      ]
    },
    {
      "cell_type": "code",
      "metadata": {
        "id": "DBmxF-6sc69O",
        "colab_type": "code",
        "colab": {}
      },
      "source": [
        "hh1=hh[hh['AGE_DESC']=='65+']"
      ],
      "execution_count": 0,
      "outputs": []
    },
    {
      "cell_type": "code",
      "metadata": {
        "id": "SnWDDMjDdhbT",
        "colab_type": "code",
        "outputId": "5e8c5a58-8ba0-4067-e63d-8b8ae49a8606",
        "colab": {
          "base_uri": "https://localhost:8080/",
          "height": 136
        }
      },
      "source": [
        "hh1['household_key'].unique()"
      ],
      "execution_count": 184,
      "outputs": [
        {
          "output_type": "execute_result",
          "data": {
            "text/plain": [
              "array([   1,   17,   42,   55,   74,   86,  117,  211,  221,  243,  346,\n",
              "        362,  370,  391,  412,  460,  462,  464,  523,  631,  644,  682,\n",
              "        690,  692,  712,  741,  779,  785,  802,  857,  868,  947, 1062,\n",
              "       1137, 1160, 1260, 1272, 1296, 1318, 1354, 1364, 1370, 1389, 1396,\n",
              "       1454, 1468, 1491, 1492, 1494, 1779, 1797, 1804, 1814, 1829, 1850,\n",
              "       1879, 1917, 1962, 1964, 1989, 2100, 2140, 2183, 2188, 2221, 2234,\n",
              "       2272, 2298, 2337, 2397, 2411, 2465])"
            ]
          },
          "metadata": {
            "tags": []
          },
          "execution_count": 184
        }
      ]
    },
    {
      "cell_type": "markdown",
      "metadata": {
        "id": "2l53VogXUvNc",
        "colab_type": "text"
      },
      "source": [
        "From the above calculation household_key is a foreign key in hh_demographics table"
      ]
    },
    {
      "cell_type": "code",
      "metadata": {
        "id": "XuDRyX43Sux-",
        "colab_type": "code",
        "colab": {}
      },
      "source": [
        "campaign_desc=pd.read_csv('/content/gdrive/My Drive/dunnhumby_The-Complete-Journey/dunnhumby - The Complete Journey CSV/campaign_desc.csv')"
      ],
      "execution_count": 0,
      "outputs": []
    },
    {
      "cell_type": "code",
      "metadata": {
        "id": "MDbA2zFIDJT5",
        "colab_type": "code",
        "outputId": "d00260a5-73b1-4f37-cb89-c458fe0538a6",
        "colab": {
          "base_uri": "https://localhost:8080/",
          "height": 34
        }
      },
      "source": [
        "campaign_desc.shape"
      ],
      "execution_count": 186,
      "outputs": [
        {
          "output_type": "execute_result",
          "data": {
            "text/plain": [
              "(30, 4)"
            ]
          },
          "metadata": {
            "tags": []
          },
          "execution_count": 186
        }
      ]
    },
    {
      "cell_type": "code",
      "metadata": {
        "id": "5oQ8mJIHTLb4",
        "colab_type": "code",
        "outputId": "e8e98bb1-e4f8-4f00-c06e-42d04042ebc6",
        "colab": {
          "base_uri": "https://localhost:8080/",
          "height": 204
        }
      },
      "source": [
        "campaign_desc.head()"
      ],
      "execution_count": 187,
      "outputs": [
        {
          "output_type": "execute_result",
          "data": {
            "text/html": [
              "<div>\n",
              "<style scoped>\n",
              "    .dataframe tbody tr th:only-of-type {\n",
              "        vertical-align: middle;\n",
              "    }\n",
              "\n",
              "    .dataframe tbody tr th {\n",
              "        vertical-align: top;\n",
              "    }\n",
              "\n",
              "    .dataframe thead th {\n",
              "        text-align: right;\n",
              "    }\n",
              "</style>\n",
              "<table border=\"1\" class=\"dataframe\">\n",
              "  <thead>\n",
              "    <tr style=\"text-align: right;\">\n",
              "      <th></th>\n",
              "      <th>DESCRIPTION</th>\n",
              "      <th>CAMPAIGN</th>\n",
              "      <th>START_DAY</th>\n",
              "      <th>END_DAY</th>\n",
              "    </tr>\n",
              "  </thead>\n",
              "  <tbody>\n",
              "    <tr>\n",
              "      <th>0</th>\n",
              "      <td>TypeB</td>\n",
              "      <td>24</td>\n",
              "      <td>659</td>\n",
              "      <td>719</td>\n",
              "    </tr>\n",
              "    <tr>\n",
              "      <th>1</th>\n",
              "      <td>TypeC</td>\n",
              "      <td>15</td>\n",
              "      <td>547</td>\n",
              "      <td>708</td>\n",
              "    </tr>\n",
              "    <tr>\n",
              "      <th>2</th>\n",
              "      <td>TypeB</td>\n",
              "      <td>25</td>\n",
              "      <td>659</td>\n",
              "      <td>691</td>\n",
              "    </tr>\n",
              "    <tr>\n",
              "      <th>3</th>\n",
              "      <td>TypeC</td>\n",
              "      <td>20</td>\n",
              "      <td>615</td>\n",
              "      <td>685</td>\n",
              "    </tr>\n",
              "    <tr>\n",
              "      <th>4</th>\n",
              "      <td>TypeB</td>\n",
              "      <td>23</td>\n",
              "      <td>646</td>\n",
              "      <td>684</td>\n",
              "    </tr>\n",
              "  </tbody>\n",
              "</table>\n",
              "</div>"
            ],
            "text/plain": [
              "  DESCRIPTION  CAMPAIGN  START_DAY  END_DAY\n",
              "0       TypeB        24        659      719\n",
              "1       TypeC        15        547      708\n",
              "2       TypeB        25        659      691\n",
              "3       TypeC        20        615      685\n",
              "4       TypeB        23        646      684"
            ]
          },
          "metadata": {
            "tags": []
          },
          "execution_count": 187
        }
      ]
    },
    {
      "cell_type": "markdown",
      "metadata": {
        "id": "ohq8clp_VG8K",
        "colab_type": "text"
      },
      "source": [
        "Campaign column is a foreign key in campaign_desc table"
      ]
    },
    {
      "cell_type": "code",
      "metadata": {
        "id": "6arGlOXkTOUu",
        "colab_type": "code",
        "colab": {}
      },
      "source": [
        "campaign_table=pd.read_csv('/content/gdrive/My Drive/dunnhumby_The-Complete-Journey/dunnhumby - The Complete Journey CSV/campaign_table.csv')"
      ],
      "execution_count": 0,
      "outputs": []
    },
    {
      "cell_type": "code",
      "metadata": {
        "id": "QC5-ycoETcf3",
        "colab_type": "code",
        "outputId": "40fb7411-f0c7-4de6-c8e1-fdda61f55094",
        "colab": {
          "base_uri": "https://localhost:8080/",
          "height": 204
        }
      },
      "source": [
        "campaign_table.head()"
      ],
      "execution_count": 189,
      "outputs": [
        {
          "output_type": "execute_result",
          "data": {
            "text/html": [
              "<div>\n",
              "<style scoped>\n",
              "    .dataframe tbody tr th:only-of-type {\n",
              "        vertical-align: middle;\n",
              "    }\n",
              "\n",
              "    .dataframe tbody tr th {\n",
              "        vertical-align: top;\n",
              "    }\n",
              "\n",
              "    .dataframe thead th {\n",
              "        text-align: right;\n",
              "    }\n",
              "</style>\n",
              "<table border=\"1\" class=\"dataframe\">\n",
              "  <thead>\n",
              "    <tr style=\"text-align: right;\">\n",
              "      <th></th>\n",
              "      <th>DESCRIPTION</th>\n",
              "      <th>household_key</th>\n",
              "      <th>CAMPAIGN</th>\n",
              "    </tr>\n",
              "  </thead>\n",
              "  <tbody>\n",
              "    <tr>\n",
              "      <th>0</th>\n",
              "      <td>TypeA</td>\n",
              "      <td>17</td>\n",
              "      <td>26</td>\n",
              "    </tr>\n",
              "    <tr>\n",
              "      <th>1</th>\n",
              "      <td>TypeA</td>\n",
              "      <td>27</td>\n",
              "      <td>26</td>\n",
              "    </tr>\n",
              "    <tr>\n",
              "      <th>2</th>\n",
              "      <td>TypeA</td>\n",
              "      <td>212</td>\n",
              "      <td>26</td>\n",
              "    </tr>\n",
              "    <tr>\n",
              "      <th>3</th>\n",
              "      <td>TypeA</td>\n",
              "      <td>208</td>\n",
              "      <td>26</td>\n",
              "    </tr>\n",
              "    <tr>\n",
              "      <th>4</th>\n",
              "      <td>TypeA</td>\n",
              "      <td>192</td>\n",
              "      <td>26</td>\n",
              "    </tr>\n",
              "  </tbody>\n",
              "</table>\n",
              "</div>"
            ],
            "text/plain": [
              "  DESCRIPTION  household_key  CAMPAIGN\n",
              "0       TypeA             17        26\n",
              "1       TypeA             27        26\n",
              "2       TypeA            212        26\n",
              "3       TypeA            208        26\n",
              "4       TypeA            192        26"
            ]
          },
          "metadata": {
            "tags": []
          },
          "execution_count": 189
        }
      ]
    },
    {
      "cell_type": "code",
      "metadata": {
        "id": "ii92F4jyTfuN",
        "colab_type": "code",
        "outputId": "eb097df9-f850-4d89-ee55-7d15d59150fc",
        "colab": {
          "base_uri": "https://localhost:8080/",
          "height": 34
        }
      },
      "source": [
        "campaign_table.shape"
      ],
      "execution_count": 190,
      "outputs": [
        {
          "output_type": "execute_result",
          "data": {
            "text/plain": [
              "(7208, 3)"
            ]
          },
          "metadata": {
            "tags": []
          },
          "execution_count": 190
        }
      ]
    },
    {
      "cell_type": "code",
      "metadata": {
        "id": "1deyQVtiTkIl",
        "colab_type": "code",
        "outputId": "595e8ac8-56f7-42e3-ec69-177767dab191",
        "colab": {
          "base_uri": "https://localhost:8080/",
          "height": 34
        }
      },
      "source": [
        "len(campaign_table['household_key'].unique())"
      ],
      "execution_count": 191,
      "outputs": [
        {
          "output_type": "execute_result",
          "data": {
            "text/plain": [
              "1584"
            ]
          },
          "metadata": {
            "tags": []
          },
          "execution_count": 191
        }
      ]
    },
    {
      "cell_type": "code",
      "metadata": {
        "id": "vP0e0L8qTvCV",
        "colab_type": "code",
        "outputId": "a8b2555c-725c-4600-c6a5-caafd1fe987a",
        "colab": {
          "base_uri": "https://localhost:8080/",
          "height": 34
        }
      },
      "source": [
        "len(campaign_table['CAMPAIGN'].unique())"
      ],
      "execution_count": 192,
      "outputs": [
        {
          "output_type": "execute_result",
          "data": {
            "text/plain": [
              "30"
            ]
          },
          "metadata": {
            "tags": []
          },
          "execution_count": 192
        }
      ]
    },
    {
      "cell_type": "markdown",
      "metadata": {
        "id": "k-at2MMRVa55",
        "colab_type": "text"
      },
      "source": [
        "household_key and campaign are foreign keys in campaign_table table"
      ]
    },
    {
      "cell_type": "code",
      "metadata": {
        "id": "4wO40s0jiQ1s",
        "colab_type": "code",
        "colab": {}
      },
      "source": [
        "a=[     1,   17,   42,   55,   74,   86,  117,  211,  221,  243,  346,\n",
        "        362,  370,  391,  412,  460,  462,  464,  523,  631,  644,  682,\n",
        "        690,  692,  712,  741,  779,  785,  802,  857,  868,  947, 1062,\n",
        "       1137, 1160, 1260, 1272, 1296, 1318, 1354, 1364, 1370, 1389, 1396,\n",
        "       1454, 1468, 1491, 1492, 1494, 1779, 1797, 1804, 1814, 1829, 1850,\n",
        "       1879, 1917, 1962, 1964, 1989, 2100, 2140, 2183, 2188, 2221, 2234,\n",
        "       2272, 2298, 2337, 2397, 2411, 2465]"
      ],
      "execution_count": 0,
      "outputs": []
    },
    {
      "cell_type": "code",
      "metadata": {
        "id": "BywVWOVlSpyF",
        "colab_type": "code",
        "colab": {}
      },
      "source": [
        "a1=campaign_table[campaign_table['household_key'].isin(a)]"
      ],
      "execution_count": 0,
      "outputs": []
    },
    {
      "cell_type": "code",
      "metadata": {
        "id": "G0HNO3DbjKSy",
        "colab_type": "code",
        "outputId": "1992da55-7182-40a6-c8a8-1b893b247f4d",
        "colab": {
          "base_uri": "https://localhost:8080/",
          "height": 419
        }
      },
      "source": [
        "a1"
      ],
      "execution_count": 195,
      "outputs": [
        {
          "output_type": "execute_result",
          "data": {
            "text/html": [
              "<div>\n",
              "<style scoped>\n",
              "    .dataframe tbody tr th:only-of-type {\n",
              "        vertical-align: middle;\n",
              "    }\n",
              "\n",
              "    .dataframe tbody tr th {\n",
              "        vertical-align: top;\n",
              "    }\n",
              "\n",
              "    .dataframe thead th {\n",
              "        text-align: right;\n",
              "    }\n",
              "</style>\n",
              "<table border=\"1\" class=\"dataframe\">\n",
              "  <thead>\n",
              "    <tr style=\"text-align: right;\">\n",
              "      <th></th>\n",
              "      <th>DESCRIPTION</th>\n",
              "      <th>household_key</th>\n",
              "      <th>CAMPAIGN</th>\n",
              "    </tr>\n",
              "  </thead>\n",
              "  <tbody>\n",
              "    <tr>\n",
              "      <th>0</th>\n",
              "      <td>TypeA</td>\n",
              "      <td>17</td>\n",
              "      <td>26</td>\n",
              "    </tr>\n",
              "    <tr>\n",
              "      <th>101</th>\n",
              "      <td>TypeA</td>\n",
              "      <td>1364</td>\n",
              "      <td>26</td>\n",
              "    </tr>\n",
              "    <tr>\n",
              "      <th>143</th>\n",
              "      <td>TypeA</td>\n",
              "      <td>947</td>\n",
              "      <td>26</td>\n",
              "    </tr>\n",
              "    <tr>\n",
              "      <th>164</th>\n",
              "      <td>TypeA</td>\n",
              "      <td>785</td>\n",
              "      <td>26</td>\n",
              "    </tr>\n",
              "    <tr>\n",
              "      <th>172</th>\n",
              "      <td>TypeA</td>\n",
              "      <td>712</td>\n",
              "      <td>26</td>\n",
              "    </tr>\n",
              "    <tr>\n",
              "      <th>...</th>\n",
              "      <td>...</td>\n",
              "      <td>...</td>\n",
              "      <td>...</td>\n",
              "    </tr>\n",
              "    <tr>\n",
              "      <th>7066</th>\n",
              "      <td>TypeC</td>\n",
              "      <td>712</td>\n",
              "      <td>20</td>\n",
              "    </tr>\n",
              "    <tr>\n",
              "      <th>7089</th>\n",
              "      <td>TypeC</td>\n",
              "      <td>464</td>\n",
              "      <td>20</td>\n",
              "    </tr>\n",
              "    <tr>\n",
              "      <th>7140</th>\n",
              "      <td>TypeC</td>\n",
              "      <td>1917</td>\n",
              "      <td>6</td>\n",
              "    </tr>\n",
              "    <tr>\n",
              "      <th>7152</th>\n",
              "      <td>TypeC</td>\n",
              "      <td>1491</td>\n",
              "      <td>6</td>\n",
              "    </tr>\n",
              "    <tr>\n",
              "      <th>7158</th>\n",
              "      <td>TypeC</td>\n",
              "      <td>1272</td>\n",
              "      <td>6</td>\n",
              "    </tr>\n",
              "  </tbody>\n",
              "</table>\n",
              "<p>291 rows × 3 columns</p>\n",
              "</div>"
            ],
            "text/plain": [
              "     DESCRIPTION  household_key  CAMPAIGN\n",
              "0          TypeA             17        26\n",
              "101        TypeA           1364        26\n",
              "143        TypeA            947        26\n",
              "164        TypeA            785        26\n",
              "172        TypeA            712        26\n",
              "...          ...            ...       ...\n",
              "7066       TypeC            712        20\n",
              "7089       TypeC            464        20\n",
              "7140       TypeC           1917         6\n",
              "7152       TypeC           1491         6\n",
              "7158       TypeC           1272         6\n",
              "\n",
              "[291 rows x 3 columns]"
            ]
          },
          "metadata": {
            "tags": []
          },
          "execution_count": 195
        }
      ]
    },
    {
      "cell_type": "code",
      "metadata": {
        "id": "2CpFZCHei-HD",
        "colab_type": "code",
        "outputId": "9597a8bd-17cf-4a42-d6b0-8c16fd6b94bd",
        "colab": {
          "base_uri": "https://localhost:8080/",
          "height": 85
        }
      },
      "source": [
        "(a1['DESCRIPTION'].value_counts()/len(a1))*100"
      ],
      "execution_count": 196,
      "outputs": [
        {
          "output_type": "execute_result",
          "data": {
            "text/plain": [
              "TypeA    62.886598\n",
              "TypeB    30.240550\n",
              "TypeC     6.872852\n",
              "Name: DESCRIPTION, dtype: float64"
            ]
          },
          "metadata": {
            "tags": []
          },
          "execution_count": 196
        }
      ]
    },
    {
      "cell_type": "code",
      "metadata": {
        "id": "4J6VrIZVoh08",
        "colab_type": "code",
        "outputId": "16fc477d-46c9-4321-b4a5-f0095fd0fcdc",
        "colab": {
          "base_uri": "https://localhost:8080/",
          "height": 85
        }
      },
      "source": [
        "(campaign_table['DESCRIPTION'].value_counts()/len(campaign_table))*100"
      ],
      "execution_count": 197,
      "outputs": [
        {
          "output_type": "execute_result",
          "data": {
            "text/plain": [
              "TypeA    55.202553\n",
              "TypeB    36.834073\n",
              "TypeC     7.963374\n",
              "Name: DESCRIPTION, dtype: float64"
            ]
          },
          "metadata": {
            "tags": []
          },
          "execution_count": 197
        }
      ]
    },
    {
      "cell_type": "code",
      "metadata": {
        "id": "wUgTSG5Ci-gc",
        "colab_type": "code",
        "outputId": "78cb985e-f724-46e6-f304-7f4e72ac5fd2",
        "colab": {
          "base_uri": "https://localhost:8080/",
          "height": 476
        }
      },
      "source": [
        "(a1['CAMPAIGN'].value_counts()/len(a1))*100"
      ],
      "execution_count": 198,
      "outputs": [
        {
          "output_type": "execute_result",
          "data": {
            "text/plain": [
              "18    20.274914\n",
              "13    18.556701\n",
              "8     15.807560\n",
              "30     4.123711\n",
              "26     4.123711\n",
              "22     4.123711\n",
              "12     3.780069\n",
              "23     3.092784\n",
              "14     2.749141\n",
              "7      2.405498\n",
              "16     2.405498\n",
              "20     2.405498\n",
              "25     2.405498\n",
              "17     2.061856\n",
              "9      2.061856\n",
              "24     1.718213\n",
              "21     1.374570\n",
              "5      1.374570\n",
              "4      1.374570\n",
              "6      1.030928\n",
              "19     0.687285\n",
              "29     0.687285\n",
              "11     0.343643\n",
              "27     0.343643\n",
              "3      0.343643\n",
              "2      0.343643\n",
              "Name: CAMPAIGN, dtype: float64"
            ]
          },
          "metadata": {
            "tags": []
          },
          "execution_count": 198
        }
      ]
    },
    {
      "cell_type": "code",
      "metadata": {
        "id": "t0a06Wb4i-Vs",
        "colab_type": "code",
        "colab": {}
      },
      "source": [
        ""
      ],
      "execution_count": 0,
      "outputs": []
    },
    {
      "cell_type": "code",
      "metadata": {
        "id": "oGfb4yWxT6tN",
        "colab_type": "code",
        "colab": {}
      },
      "source": [
        "causal=pd.read_csv('/content/gdrive/My Drive/dunnhumby_The-Complete-Journey/dunnhumby - The Complete Journey CSV/causal_data.csv')"
      ],
      "execution_count": 0,
      "outputs": []
    },
    {
      "cell_type": "code",
      "metadata": {
        "id": "4fbinY14VjhI",
        "colab_type": "code",
        "outputId": "b16f6e85-dd70-425d-8c4b-5542698f350d",
        "colab": {
          "base_uri": "https://localhost:8080/",
          "height": 204
        }
      },
      "source": [
        "causal.head()"
      ],
      "execution_count": 200,
      "outputs": [
        {
          "output_type": "execute_result",
          "data": {
            "text/html": [
              "<div>\n",
              "<style scoped>\n",
              "    .dataframe tbody tr th:only-of-type {\n",
              "        vertical-align: middle;\n",
              "    }\n",
              "\n",
              "    .dataframe tbody tr th {\n",
              "        vertical-align: top;\n",
              "    }\n",
              "\n",
              "    .dataframe thead th {\n",
              "        text-align: right;\n",
              "    }\n",
              "</style>\n",
              "<table border=\"1\" class=\"dataframe\">\n",
              "  <thead>\n",
              "    <tr style=\"text-align: right;\">\n",
              "      <th></th>\n",
              "      <th>PRODUCT_ID</th>\n",
              "      <th>STORE_ID</th>\n",
              "      <th>WEEK_NO</th>\n",
              "      <th>display</th>\n",
              "      <th>mailer</th>\n",
              "    </tr>\n",
              "  </thead>\n",
              "  <tbody>\n",
              "    <tr>\n",
              "      <th>0</th>\n",
              "      <td>26190</td>\n",
              "      <td>286</td>\n",
              "      <td>70</td>\n",
              "      <td>0</td>\n",
              "      <td>A</td>\n",
              "    </tr>\n",
              "    <tr>\n",
              "      <th>1</th>\n",
              "      <td>26190</td>\n",
              "      <td>288</td>\n",
              "      <td>70</td>\n",
              "      <td>0</td>\n",
              "      <td>A</td>\n",
              "    </tr>\n",
              "    <tr>\n",
              "      <th>2</th>\n",
              "      <td>26190</td>\n",
              "      <td>289</td>\n",
              "      <td>70</td>\n",
              "      <td>0</td>\n",
              "      <td>A</td>\n",
              "    </tr>\n",
              "    <tr>\n",
              "      <th>3</th>\n",
              "      <td>26190</td>\n",
              "      <td>292</td>\n",
              "      <td>70</td>\n",
              "      <td>0</td>\n",
              "      <td>A</td>\n",
              "    </tr>\n",
              "    <tr>\n",
              "      <th>4</th>\n",
              "      <td>26190</td>\n",
              "      <td>293</td>\n",
              "      <td>70</td>\n",
              "      <td>0</td>\n",
              "      <td>A</td>\n",
              "    </tr>\n",
              "  </tbody>\n",
              "</table>\n",
              "</div>"
            ],
            "text/plain": [
              "   PRODUCT_ID  STORE_ID  WEEK_NO display mailer\n",
              "0       26190       286       70       0      A\n",
              "1       26190       288       70       0      A\n",
              "2       26190       289       70       0      A\n",
              "3       26190       292       70       0      A\n",
              "4       26190       293       70       0      A"
            ]
          },
          "metadata": {
            "tags": []
          },
          "execution_count": 200
        }
      ]
    },
    {
      "cell_type": "code",
      "metadata": {
        "id": "KPDT0UibVmA9",
        "colab_type": "code",
        "outputId": "015a66bf-56d0-4fe5-b1a7-4bd7eca29ab6",
        "colab": {
          "base_uri": "https://localhost:8080/",
          "height": 34
        }
      },
      "source": [
        "len(causal['PRODUCT_ID'].unique())"
      ],
      "execution_count": 201,
      "outputs": [
        {
          "output_type": "execute_result",
          "data": {
            "text/plain": [
              "68377"
            ]
          },
          "metadata": {
            "tags": []
          },
          "execution_count": 201
        }
      ]
    },
    {
      "cell_type": "code",
      "metadata": {
        "id": "VOofK3sMV96N",
        "colab_type": "code",
        "outputId": "c2114639-0173-40d5-f166-cb52e738ed30",
        "colab": {
          "base_uri": "https://localhost:8080/",
          "height": 34
        }
      },
      "source": [
        "causal.shape"
      ],
      "execution_count": 202,
      "outputs": [
        {
          "output_type": "execute_result",
          "data": {
            "text/plain": [
              "(36786524, 5)"
            ]
          },
          "metadata": {
            "tags": []
          },
          "execution_count": 202
        }
      ]
    },
    {
      "cell_type": "code",
      "metadata": {
        "id": "2cwSiDKNWHRl",
        "colab_type": "code",
        "outputId": "9ca2a346-0e12-4d05-f124-7da25c1ef9f2",
        "colab": {
          "base_uri": "https://localhost:8080/",
          "height": 34
        }
      },
      "source": [
        "len(causal['STORE_ID'].unique())"
      ],
      "execution_count": 203,
      "outputs": [
        {
          "output_type": "execute_result",
          "data": {
            "text/plain": [
              "115"
            ]
          },
          "metadata": {
            "tags": []
          },
          "execution_count": 203
        }
      ]
    },
    {
      "cell_type": "markdown",
      "metadata": {
        "id": "Zc1c8NaNWSdZ",
        "colab_type": "text"
      },
      "source": [
        "Product_id and Store_id are foreign keys in causal_data table"
      ]
    },
    {
      "cell_type": "code",
      "metadata": {
        "id": "l4tDzHpNWba9",
        "colab_type": "code",
        "colab": {}
      },
      "source": [
        "coupon=pd.read_csv('/content/gdrive/My Drive/dunnhumby_The-Complete-Journey/dunnhumby - The Complete Journey CSV/coupon.csv')"
      ],
      "execution_count": 0,
      "outputs": []
    },
    {
      "cell_type": "code",
      "metadata": {
        "id": "Ddmp6kRDWjYd",
        "colab_type": "code",
        "outputId": "bf5f50b5-2116-4006-e134-b84a4a3f1891",
        "colab": {
          "base_uri": "https://localhost:8080/",
          "height": 204
        }
      },
      "source": [
        "coupon.head()"
      ],
      "execution_count": 205,
      "outputs": [
        {
          "output_type": "execute_result",
          "data": {
            "text/html": [
              "<div>\n",
              "<style scoped>\n",
              "    .dataframe tbody tr th:only-of-type {\n",
              "        vertical-align: middle;\n",
              "    }\n",
              "\n",
              "    .dataframe tbody tr th {\n",
              "        vertical-align: top;\n",
              "    }\n",
              "\n",
              "    .dataframe thead th {\n",
              "        text-align: right;\n",
              "    }\n",
              "</style>\n",
              "<table border=\"1\" class=\"dataframe\">\n",
              "  <thead>\n",
              "    <tr style=\"text-align: right;\">\n",
              "      <th></th>\n",
              "      <th>COUPON_UPC</th>\n",
              "      <th>PRODUCT_ID</th>\n",
              "      <th>CAMPAIGN</th>\n",
              "    </tr>\n",
              "  </thead>\n",
              "  <tbody>\n",
              "    <tr>\n",
              "      <th>0</th>\n",
              "      <td>10000089061</td>\n",
              "      <td>27160</td>\n",
              "      <td>4</td>\n",
              "    </tr>\n",
              "    <tr>\n",
              "      <th>1</th>\n",
              "      <td>10000089064</td>\n",
              "      <td>27754</td>\n",
              "      <td>9</td>\n",
              "    </tr>\n",
              "    <tr>\n",
              "      <th>2</th>\n",
              "      <td>10000089073</td>\n",
              "      <td>28897</td>\n",
              "      <td>12</td>\n",
              "    </tr>\n",
              "    <tr>\n",
              "      <th>3</th>\n",
              "      <td>51800009050</td>\n",
              "      <td>28919</td>\n",
              "      <td>28</td>\n",
              "    </tr>\n",
              "    <tr>\n",
              "      <th>4</th>\n",
              "      <td>52100000076</td>\n",
              "      <td>28929</td>\n",
              "      <td>25</td>\n",
              "    </tr>\n",
              "  </tbody>\n",
              "</table>\n",
              "</div>"
            ],
            "text/plain": [
              "    COUPON_UPC  PRODUCT_ID  CAMPAIGN\n",
              "0  10000089061       27160         4\n",
              "1  10000089064       27754         9\n",
              "2  10000089073       28897        12\n",
              "3  51800009050       28919        28\n",
              "4  52100000076       28929        25"
            ]
          },
          "metadata": {
            "tags": []
          },
          "execution_count": 205
        }
      ]
    },
    {
      "cell_type": "code",
      "metadata": {
        "id": "TBie0rMDWlQt",
        "colab_type": "code",
        "outputId": "4f34aac2-a643-4bf0-9048-fc64a92df602",
        "colab": {
          "base_uri": "https://localhost:8080/",
          "height": 34
        }
      },
      "source": [
        "coupon.shape"
      ],
      "execution_count": 206,
      "outputs": [
        {
          "output_type": "execute_result",
          "data": {
            "text/plain": [
              "(124548, 3)"
            ]
          },
          "metadata": {
            "tags": []
          },
          "execution_count": 206
        }
      ]
    },
    {
      "cell_type": "code",
      "metadata": {
        "id": "AYBts2NMWnvM",
        "colab_type": "code",
        "outputId": "edf32b7c-199f-4fdc-ebed-27280cf89ec8",
        "colab": {
          "base_uri": "https://localhost:8080/",
          "height": 34
        }
      },
      "source": [
        "len(coupon['COUPON_UPC'].unique())"
      ],
      "execution_count": 207,
      "outputs": [
        {
          "output_type": "execute_result",
          "data": {
            "text/plain": [
              "1135"
            ]
          },
          "metadata": {
            "tags": []
          },
          "execution_count": 207
        }
      ]
    },
    {
      "cell_type": "code",
      "metadata": {
        "id": "6UcYQWmSWuBk",
        "colab_type": "code",
        "outputId": "16ed19b5-670e-4eb4-fb68-8808a78caedb",
        "colab": {
          "base_uri": "https://localhost:8080/",
          "height": 34
        }
      },
      "source": [
        "len(coupon['PRODUCT_ID'].unique())"
      ],
      "execution_count": 208,
      "outputs": [
        {
          "output_type": "execute_result",
          "data": {
            "text/plain": [
              "44133"
            ]
          },
          "metadata": {
            "tags": []
          },
          "execution_count": 208
        }
      ]
    },
    {
      "cell_type": "code",
      "metadata": {
        "id": "BlpREbHLWzuc",
        "colab_type": "code",
        "outputId": "c013b9eb-572c-4f43-a316-4bbddf0053f4",
        "colab": {
          "base_uri": "https://localhost:8080/",
          "height": 34
        }
      },
      "source": [
        "len(coupon['CAMPAIGN'].unique())"
      ],
      "execution_count": 209,
      "outputs": [
        {
          "output_type": "execute_result",
          "data": {
            "text/plain": [
              "30"
            ]
          },
          "metadata": {
            "tags": []
          },
          "execution_count": 209
        }
      ]
    },
    {
      "cell_type": "markdown",
      "metadata": {
        "id": "zGr7UKCIW5xl",
        "colab_type": "text"
      },
      "source": [
        "Coupon_upc,product_id,campaign are foreign keys in coupon table"
      ]
    },
    {
      "cell_type": "code",
      "metadata": {
        "id": "-taNG3UGXDeb",
        "colab_type": "code",
        "colab": {}
      },
      "source": [
        "coupon_red=pd.read_csv('/content/gdrive/My Drive/dunnhumby_The-Complete-Journey/dunnhumby - The Complete Journey CSV/coupon_redempt.csv')"
      ],
      "execution_count": 0,
      "outputs": []
    },
    {
      "cell_type": "code",
      "metadata": {
        "id": "l1UrixZvXLFt",
        "colab_type": "code",
        "outputId": "3223d953-b8d0-4b46-fbfc-4f4e0c95c57e",
        "colab": {
          "base_uri": "https://localhost:8080/",
          "height": 34
        }
      },
      "source": [
        "coupon_red.shape"
      ],
      "execution_count": 211,
      "outputs": [
        {
          "output_type": "execute_result",
          "data": {
            "text/plain": [
              "(2318, 4)"
            ]
          },
          "metadata": {
            "tags": []
          },
          "execution_count": 211
        }
      ]
    },
    {
      "cell_type": "code",
      "metadata": {
        "id": "fEqvJW20XNPV",
        "colab_type": "code",
        "outputId": "fdce4a2c-49dc-4ea9-99c1-4d151c5331c5",
        "colab": {
          "base_uri": "https://localhost:8080/",
          "height": 204
        }
      },
      "source": [
        "coupon_red.head()"
      ],
      "execution_count": 212,
      "outputs": [
        {
          "output_type": "execute_result",
          "data": {
            "text/html": [
              "<div>\n",
              "<style scoped>\n",
              "    .dataframe tbody tr th:only-of-type {\n",
              "        vertical-align: middle;\n",
              "    }\n",
              "\n",
              "    .dataframe tbody tr th {\n",
              "        vertical-align: top;\n",
              "    }\n",
              "\n",
              "    .dataframe thead th {\n",
              "        text-align: right;\n",
              "    }\n",
              "</style>\n",
              "<table border=\"1\" class=\"dataframe\">\n",
              "  <thead>\n",
              "    <tr style=\"text-align: right;\">\n",
              "      <th></th>\n",
              "      <th>household_key</th>\n",
              "      <th>DAY</th>\n",
              "      <th>COUPON_UPC</th>\n",
              "      <th>CAMPAIGN</th>\n",
              "    </tr>\n",
              "  </thead>\n",
              "  <tbody>\n",
              "    <tr>\n",
              "      <th>0</th>\n",
              "      <td>1</td>\n",
              "      <td>421</td>\n",
              "      <td>10000085364</td>\n",
              "      <td>8</td>\n",
              "    </tr>\n",
              "    <tr>\n",
              "      <th>1</th>\n",
              "      <td>1</td>\n",
              "      <td>421</td>\n",
              "      <td>51700010076</td>\n",
              "      <td>8</td>\n",
              "    </tr>\n",
              "    <tr>\n",
              "      <th>2</th>\n",
              "      <td>1</td>\n",
              "      <td>427</td>\n",
              "      <td>54200000033</td>\n",
              "      <td>8</td>\n",
              "    </tr>\n",
              "    <tr>\n",
              "      <th>3</th>\n",
              "      <td>1</td>\n",
              "      <td>597</td>\n",
              "      <td>10000085476</td>\n",
              "      <td>18</td>\n",
              "    </tr>\n",
              "    <tr>\n",
              "      <th>4</th>\n",
              "      <td>1</td>\n",
              "      <td>597</td>\n",
              "      <td>54200029176</td>\n",
              "      <td>18</td>\n",
              "    </tr>\n",
              "  </tbody>\n",
              "</table>\n",
              "</div>"
            ],
            "text/plain": [
              "   household_key  DAY   COUPON_UPC  CAMPAIGN\n",
              "0              1  421  10000085364         8\n",
              "1              1  421  51700010076         8\n",
              "2              1  427  54200000033         8\n",
              "3              1  597  10000085476        18\n",
              "4              1  597  54200029176        18"
            ]
          },
          "metadata": {
            "tags": []
          },
          "execution_count": 212
        }
      ]
    },
    {
      "cell_type": "code",
      "metadata": {
        "id": "UCJA8HmwXPYk",
        "colab_type": "code",
        "outputId": "98e9293d-f822-4440-af7f-a0809bb4da01",
        "colab": {
          "base_uri": "https://localhost:8080/",
          "height": 34
        }
      },
      "source": [
        "len(coupon_red['household_key'].unique())"
      ],
      "execution_count": 213,
      "outputs": [
        {
          "output_type": "execute_result",
          "data": {
            "text/plain": [
              "434"
            ]
          },
          "metadata": {
            "tags": []
          },
          "execution_count": 213
        }
      ]
    },
    {
      "cell_type": "code",
      "metadata": {
        "id": "HACcuO6KXacV",
        "colab_type": "code",
        "outputId": "20a765e6-e561-4577-c96b-07b289b304b0",
        "colab": {
          "base_uri": "https://localhost:8080/",
          "height": 34
        }
      },
      "source": [
        "len(coupon_red['COUPON_UPC'].unique())"
      ],
      "execution_count": 214,
      "outputs": [
        {
          "output_type": "execute_result",
          "data": {
            "text/plain": [
              "556"
            ]
          },
          "metadata": {
            "tags": []
          },
          "execution_count": 214
        }
      ]
    },
    {
      "cell_type": "code",
      "metadata": {
        "id": "b_LqYfoRXhNr",
        "colab_type": "code",
        "outputId": "59c72823-b3f2-4c75-8faa-b613594c5a88",
        "colab": {
          "base_uri": "https://localhost:8080/",
          "height": 34
        }
      },
      "source": [
        "len(coupon_red['CAMPAIGN'].unique())"
      ],
      "execution_count": 215,
      "outputs": [
        {
          "output_type": "execute_result",
          "data": {
            "text/plain": [
              "30"
            ]
          },
          "metadata": {
            "tags": []
          },
          "execution_count": 215
        }
      ]
    },
    {
      "cell_type": "markdown",
      "metadata": {
        "id": "9FnBzcjbX02D",
        "colab_type": "text"
      },
      "source": [
        "household_key, coupon_Upc, campaign are foreign keys in coupon_redempt table"
      ]
    },
    {
      "cell_type": "code",
      "metadata": {
        "id": "221MRr4LX_hD",
        "colab_type": "code",
        "colab": {}
      },
      "source": [
        "product=pd.read_csv('/content/gdrive/My Drive/dunnhumby_The-Complete-Journey/dunnhumby - The Complete Journey CSV/product.csv')"
      ],
      "execution_count": 0,
      "outputs": []
    },
    {
      "cell_type": "code",
      "metadata": {
        "id": "nAxME7aRYHmO",
        "colab_type": "code",
        "outputId": "3d8fffbe-8c27-4086-9e97-a13f96c5cecb",
        "colab": {
          "base_uri": "https://localhost:8080/",
          "height": 204
        }
      },
      "source": [
        "product.head()"
      ],
      "execution_count": 217,
      "outputs": [
        {
          "output_type": "execute_result",
          "data": {
            "text/html": [
              "<div>\n",
              "<style scoped>\n",
              "    .dataframe tbody tr th:only-of-type {\n",
              "        vertical-align: middle;\n",
              "    }\n",
              "\n",
              "    .dataframe tbody tr th {\n",
              "        vertical-align: top;\n",
              "    }\n",
              "\n",
              "    .dataframe thead th {\n",
              "        text-align: right;\n",
              "    }\n",
              "</style>\n",
              "<table border=\"1\" class=\"dataframe\">\n",
              "  <thead>\n",
              "    <tr style=\"text-align: right;\">\n",
              "      <th></th>\n",
              "      <th>PRODUCT_ID</th>\n",
              "      <th>MANUFACTURER</th>\n",
              "      <th>DEPARTMENT</th>\n",
              "      <th>BRAND</th>\n",
              "      <th>COMMODITY_DESC</th>\n",
              "      <th>SUB_COMMODITY_DESC</th>\n",
              "      <th>CURR_SIZE_OF_PRODUCT</th>\n",
              "    </tr>\n",
              "  </thead>\n",
              "  <tbody>\n",
              "    <tr>\n",
              "      <th>0</th>\n",
              "      <td>25671</td>\n",
              "      <td>2</td>\n",
              "      <td>GROCERY</td>\n",
              "      <td>National</td>\n",
              "      <td>FRZN ICE</td>\n",
              "      <td>ICE - CRUSHED/CUBED</td>\n",
              "      <td>22 LB</td>\n",
              "    </tr>\n",
              "    <tr>\n",
              "      <th>1</th>\n",
              "      <td>26081</td>\n",
              "      <td>2</td>\n",
              "      <td>MISC. TRANS.</td>\n",
              "      <td>National</td>\n",
              "      <td>NO COMMODITY DESCRIPTION</td>\n",
              "      <td>NO SUBCOMMODITY DESCRIPTION</td>\n",
              "      <td></td>\n",
              "    </tr>\n",
              "    <tr>\n",
              "      <th>2</th>\n",
              "      <td>26093</td>\n",
              "      <td>69</td>\n",
              "      <td>PASTRY</td>\n",
              "      <td>Private</td>\n",
              "      <td>BREAD</td>\n",
              "      <td>BREAD:ITALIAN/FRENCH</td>\n",
              "      <td></td>\n",
              "    </tr>\n",
              "    <tr>\n",
              "      <th>3</th>\n",
              "      <td>26190</td>\n",
              "      <td>69</td>\n",
              "      <td>GROCERY</td>\n",
              "      <td>Private</td>\n",
              "      <td>FRUIT - SHELF STABLE</td>\n",
              "      <td>APPLE SAUCE</td>\n",
              "      <td>50 OZ</td>\n",
              "    </tr>\n",
              "    <tr>\n",
              "      <th>4</th>\n",
              "      <td>26355</td>\n",
              "      <td>69</td>\n",
              "      <td>GROCERY</td>\n",
              "      <td>Private</td>\n",
              "      <td>COOKIES/CONES</td>\n",
              "      <td>SPECIALTY COOKIES</td>\n",
              "      <td>14 OZ</td>\n",
              "    </tr>\n",
              "  </tbody>\n",
              "</table>\n",
              "</div>"
            ],
            "text/plain": [
              "   PRODUCT_ID  MANUFACTURER    DEPARTMENT     BRAND            COMMODITY_DESC  \\\n",
              "0       25671             2       GROCERY  National                  FRZN ICE   \n",
              "1       26081             2  MISC. TRANS.  National  NO COMMODITY DESCRIPTION   \n",
              "2       26093            69        PASTRY   Private                     BREAD   \n",
              "3       26190            69       GROCERY   Private      FRUIT - SHELF STABLE   \n",
              "4       26355            69       GROCERY   Private             COOKIES/CONES   \n",
              "\n",
              "            SUB_COMMODITY_DESC CURR_SIZE_OF_PRODUCT  \n",
              "0          ICE - CRUSHED/CUBED                22 LB  \n",
              "1  NO SUBCOMMODITY DESCRIPTION                       \n",
              "2         BREAD:ITALIAN/FRENCH                       \n",
              "3                  APPLE SAUCE                50 OZ  \n",
              "4            SPECIALTY COOKIES                14 OZ  "
            ]
          },
          "metadata": {
            "tags": []
          },
          "execution_count": 217
        }
      ]
    },
    {
      "cell_type": "code",
      "metadata": {
        "id": "MViz-g46YJ3i",
        "colab_type": "code",
        "outputId": "9bfc1e7b-01c6-4c0a-e0d2-1fd92595be6b",
        "colab": {
          "base_uri": "https://localhost:8080/",
          "height": 34
        }
      },
      "source": [
        "product.shape"
      ],
      "execution_count": 218,
      "outputs": [
        {
          "output_type": "execute_result",
          "data": {
            "text/plain": [
              "(92353, 7)"
            ]
          },
          "metadata": {
            "tags": []
          },
          "execution_count": 218
        }
      ]
    },
    {
      "cell_type": "code",
      "metadata": {
        "id": "GxabvKzyYLrM",
        "colab_type": "code",
        "outputId": "78b0a66f-deb1-4f80-f345-2a11b5503194",
        "colab": {
          "base_uri": "https://localhost:8080/",
          "height": 34
        }
      },
      "source": [
        "len(product['PRODUCT_ID'].unique())"
      ],
      "execution_count": 219,
      "outputs": [
        {
          "output_type": "execute_result",
          "data": {
            "text/plain": [
              "92353"
            ]
          },
          "metadata": {
            "tags": []
          },
          "execution_count": 219
        }
      ]
    },
    {
      "cell_type": "code",
      "metadata": {
        "id": "rau-s4FiaY0r",
        "colab_type": "code",
        "outputId": "201e17f7-e2cd-439b-9ea6-1c48e58631bf",
        "colab": {
          "base_uri": "https://localhost:8080/",
          "height": 187
        }
      },
      "source": [
        "product['DEPARTMENT'].unique()"
      ],
      "execution_count": 220,
      "outputs": [
        {
          "output_type": "execute_result",
          "data": {
            "text/plain": [
              "array(['GROCERY', 'MISC. TRANS.', 'PASTRY', 'DRUG GM', 'MEAT-PCKGD',\n",
              "       'SEAFOOD-PCKGD', 'PRODUCE', 'NUTRITION', 'DELI', 'COSMETICS',\n",
              "       'MEAT', 'FLORAL', 'TRAVEL & LEISUR', 'SEAFOOD', 'MISC SALES TRAN',\n",
              "       'SALAD BAR', 'KIOSK-GAS', 'ELECT &PLUMBING', 'GRO BAKERY',\n",
              "       'GM MERCH EXP', 'FROZEN GROCERY', 'COUP/STR & MFG', 'SPIRITS',\n",
              "       'GARDEN CENTER', 'TOYS', 'CHARITABLE CONT', 'RESTAURANT', 'RX',\n",
              "       'PROD-WHS SALES', 'MEAT-WHSE', 'DAIRY DELI', 'CHEF SHOPPE', 'HBC',\n",
              "       'DELI/SNACK BAR', 'PORK', 'AUTOMOTIVE', 'VIDEO RENTAL', ' ',\n",
              "       'CNTRL/STORE SUP', 'HOUSEWARES', 'POSTAL CENTER', 'PHOTO', 'VIDEO',\n",
              "       'PHARMACY SUPPLY'], dtype=object)"
            ]
          },
          "metadata": {
            "tags": []
          },
          "execution_count": 220
        }
      ]
    },
    {
      "cell_type": "markdown",
      "metadata": {
        "id": "GrZcn4N1YT1E",
        "colab_type": "text"
      },
      "source": [
        "Product_id is the primary key in product table"
      ]
    },
    {
      "cell_type": "code",
      "metadata": {
        "id": "zHh2QC3AYf7P",
        "colab_type": "code",
        "colab": {}
      },
      "source": [
        "transaction=pd.read_csv('/content/gdrive/My Drive/dunnhumby_The-Complete-Journey/dunnhumby - The Complete Journey CSV/transaction_data.csv')"
      ],
      "execution_count": 0,
      "outputs": []
    },
    {
      "cell_type": "code",
      "metadata": {
        "id": "bWdO2lpiYm9S",
        "colab_type": "code",
        "outputId": "7ee166bd-4199-4834-a2d9-e64ca330bed2",
        "colab": {
          "base_uri": "https://localhost:8080/",
          "height": 34
        }
      },
      "source": [
        "transaction.shape"
      ],
      "execution_count": 222,
      "outputs": [
        {
          "output_type": "execute_result",
          "data": {
            "text/plain": [
              "(2595732, 12)"
            ]
          },
          "metadata": {
            "tags": []
          },
          "execution_count": 222
        }
      ]
    },
    {
      "cell_type": "code",
      "metadata": {
        "id": "Li75_bWWYo_c",
        "colab_type": "code",
        "outputId": "1064bc18-e722-48ec-9b9f-65ac343eda98",
        "colab": {
          "base_uri": "https://localhost:8080/",
          "height": 204
        }
      },
      "source": [
        "transaction.head()"
      ],
      "execution_count": 223,
      "outputs": [
        {
          "output_type": "execute_result",
          "data": {
            "text/html": [
              "<div>\n",
              "<style scoped>\n",
              "    .dataframe tbody tr th:only-of-type {\n",
              "        vertical-align: middle;\n",
              "    }\n",
              "\n",
              "    .dataframe tbody tr th {\n",
              "        vertical-align: top;\n",
              "    }\n",
              "\n",
              "    .dataframe thead th {\n",
              "        text-align: right;\n",
              "    }\n",
              "</style>\n",
              "<table border=\"1\" class=\"dataframe\">\n",
              "  <thead>\n",
              "    <tr style=\"text-align: right;\">\n",
              "      <th></th>\n",
              "      <th>household_key</th>\n",
              "      <th>BASKET_ID</th>\n",
              "      <th>DAY</th>\n",
              "      <th>PRODUCT_ID</th>\n",
              "      <th>QUANTITY</th>\n",
              "      <th>SALES_VALUE</th>\n",
              "      <th>STORE_ID</th>\n",
              "      <th>RETAIL_DISC</th>\n",
              "      <th>TRANS_TIME</th>\n",
              "      <th>WEEK_NO</th>\n",
              "      <th>COUPON_DISC</th>\n",
              "      <th>COUPON_MATCH_DISC</th>\n",
              "    </tr>\n",
              "  </thead>\n",
              "  <tbody>\n",
              "    <tr>\n",
              "      <th>0</th>\n",
              "      <td>2375</td>\n",
              "      <td>26984851472</td>\n",
              "      <td>1</td>\n",
              "      <td>1004906</td>\n",
              "      <td>1</td>\n",
              "      <td>1.39</td>\n",
              "      <td>364</td>\n",
              "      <td>-0.60</td>\n",
              "      <td>1631</td>\n",
              "      <td>1</td>\n",
              "      <td>0.0</td>\n",
              "      <td>0.0</td>\n",
              "    </tr>\n",
              "    <tr>\n",
              "      <th>1</th>\n",
              "      <td>2375</td>\n",
              "      <td>26984851472</td>\n",
              "      <td>1</td>\n",
              "      <td>1033142</td>\n",
              "      <td>1</td>\n",
              "      <td>0.82</td>\n",
              "      <td>364</td>\n",
              "      <td>0.00</td>\n",
              "      <td>1631</td>\n",
              "      <td>1</td>\n",
              "      <td>0.0</td>\n",
              "      <td>0.0</td>\n",
              "    </tr>\n",
              "    <tr>\n",
              "      <th>2</th>\n",
              "      <td>2375</td>\n",
              "      <td>26984851472</td>\n",
              "      <td>1</td>\n",
              "      <td>1036325</td>\n",
              "      <td>1</td>\n",
              "      <td>0.99</td>\n",
              "      <td>364</td>\n",
              "      <td>-0.30</td>\n",
              "      <td>1631</td>\n",
              "      <td>1</td>\n",
              "      <td>0.0</td>\n",
              "      <td>0.0</td>\n",
              "    </tr>\n",
              "    <tr>\n",
              "      <th>3</th>\n",
              "      <td>2375</td>\n",
              "      <td>26984851472</td>\n",
              "      <td>1</td>\n",
              "      <td>1082185</td>\n",
              "      <td>1</td>\n",
              "      <td>1.21</td>\n",
              "      <td>364</td>\n",
              "      <td>0.00</td>\n",
              "      <td>1631</td>\n",
              "      <td>1</td>\n",
              "      <td>0.0</td>\n",
              "      <td>0.0</td>\n",
              "    </tr>\n",
              "    <tr>\n",
              "      <th>4</th>\n",
              "      <td>2375</td>\n",
              "      <td>26984851472</td>\n",
              "      <td>1</td>\n",
              "      <td>8160430</td>\n",
              "      <td>1</td>\n",
              "      <td>1.50</td>\n",
              "      <td>364</td>\n",
              "      <td>-0.39</td>\n",
              "      <td>1631</td>\n",
              "      <td>1</td>\n",
              "      <td>0.0</td>\n",
              "      <td>0.0</td>\n",
              "    </tr>\n",
              "  </tbody>\n",
              "</table>\n",
              "</div>"
            ],
            "text/plain": [
              "   household_key    BASKET_ID  DAY  PRODUCT_ID  QUANTITY  SALES_VALUE  \\\n",
              "0           2375  26984851472    1     1004906         1         1.39   \n",
              "1           2375  26984851472    1     1033142         1         0.82   \n",
              "2           2375  26984851472    1     1036325         1         0.99   \n",
              "3           2375  26984851472    1     1082185         1         1.21   \n",
              "4           2375  26984851472    1     8160430         1         1.50   \n",
              "\n",
              "   STORE_ID  RETAIL_DISC  TRANS_TIME  WEEK_NO  COUPON_DISC  COUPON_MATCH_DISC  \n",
              "0       364        -0.60        1631        1          0.0                0.0  \n",
              "1       364         0.00        1631        1          0.0                0.0  \n",
              "2       364        -0.30        1631        1          0.0                0.0  \n",
              "3       364         0.00        1631        1          0.0                0.0  \n",
              "4       364        -0.39        1631        1          0.0                0.0  "
            ]
          },
          "metadata": {
            "tags": []
          },
          "execution_count": 223
        }
      ]
    },
    {
      "cell_type": "code",
      "metadata": {
        "id": "fME9dUvxYtxr",
        "colab_type": "code",
        "outputId": "cb481a66-1cbe-4b34-834d-70c9d511973d",
        "colab": {
          "base_uri": "https://localhost:8080/",
          "height": 34
        }
      },
      "source": [
        "len(transaction['household_key'].unique())"
      ],
      "execution_count": 224,
      "outputs": [
        {
          "output_type": "execute_result",
          "data": {
            "text/plain": [
              "2500"
            ]
          },
          "metadata": {
            "tags": []
          },
          "execution_count": 224
        }
      ]
    },
    {
      "cell_type": "code",
      "metadata": {
        "id": "2iU87E7GY22g",
        "colab_type": "code",
        "outputId": "9708597a-0451-47df-bdf8-b2a18151c204",
        "colab": {
          "base_uri": "https://localhost:8080/",
          "height": 34
        }
      },
      "source": [
        "len(transaction['PRODUCT_ID'].unique())"
      ],
      "execution_count": 225,
      "outputs": [
        {
          "output_type": "execute_result",
          "data": {
            "text/plain": [
              "92339"
            ]
          },
          "metadata": {
            "tags": []
          },
          "execution_count": 225
        }
      ]
    },
    {
      "cell_type": "code",
      "metadata": {
        "id": "eePBv8llY79z",
        "colab_type": "code",
        "outputId": "34770538-4e84-4d7d-ce65-830efaaae049",
        "colab": {
          "base_uri": "https://localhost:8080/",
          "height": 34
        }
      },
      "source": [
        "len(transaction['household_key'].unique())"
      ],
      "execution_count": 226,
      "outputs": [
        {
          "output_type": "execute_result",
          "data": {
            "text/plain": [
              "2500"
            ]
          },
          "metadata": {
            "tags": []
          },
          "execution_count": 226
        }
      ]
    },
    {
      "cell_type": "code",
      "metadata": {
        "id": "t6OGyQizObgC",
        "colab_type": "code",
        "outputId": "ea87920c-3488-4e9b-c008-f92c74954a37",
        "colab": {
          "base_uri": "https://localhost:8080/",
          "height": 170
        }
      },
      "source": [
        "transaction['COUPON_DISC'].describe()"
      ],
      "execution_count": 227,
      "outputs": [
        {
          "output_type": "execute_result",
          "data": {
            "text/plain": [
              "count    2.595732e+06\n",
              "mean    -1.641600e-02\n",
              "std      2.168410e-01\n",
              "min     -5.593000e+01\n",
              "25%      0.000000e+00\n",
              "50%      0.000000e+00\n",
              "75%      0.000000e+00\n",
              "max      0.000000e+00\n",
              "Name: COUPON_DISC, dtype: float64"
            ]
          },
          "metadata": {
            "tags": []
          },
          "execution_count": 227
        }
      ]
    },
    {
      "cell_type": "code",
      "metadata": {
        "id": "06_VVMXTPHxZ",
        "colab_type": "code",
        "outputId": "11338046-48dd-4980-f829-b8cb398e9465",
        "colab": {
          "base_uri": "https://localhost:8080/",
          "height": 297
        }
      },
      "source": [
        "sns.boxplot(transaction['COUPON_DISC'])"
      ],
      "execution_count": 228,
      "outputs": [
        {
          "output_type": "execute_result",
          "data": {
            "text/plain": [
              "<matplotlib.axes._subplots.AxesSubplot at 0x7fc140b201d0>"
            ]
          },
          "metadata": {
            "tags": []
          },
          "execution_count": 228
        },
        {
          "output_type": "display_data",
          "data": {
            "image/png": "[encoded data removed]",
            "text/plain": [
              "<Figure size 432x288 with 1 Axes>"
            ]
          },
          "metadata": {
            "tags": []
          }
        }
      ]
    },
    {
      "cell_type": "code",
      "metadata": {
        "id": "AiC9ZkQXPVSE",
        "colab_type": "code",
        "outputId": "04b16c24-db27-4d1e-fecf-dc7af701c6e2",
        "colab": {
          "base_uri": "https://localhost:8080/",
          "height": 297
        }
      },
      "source": [
        "sns.boxplot(transaction['RETAIL_DISC'])"
      ],
      "execution_count": 229,
      "outputs": [
        {
          "output_type": "execute_result",
          "data": {
            "text/plain": [
              "<matplotlib.axes._subplots.AxesSubplot at 0x7fc140a714e0>"
            ]
          },
          "metadata": {
            "tags": []
          },
          "execution_count": 229
        },
        {
          "output_type": "display_data",
          "data": {
            "image/png": "[encoded data removed]",
            "text/plain": [
              "<Figure size 432x288 with 1 Axes>"
            ]
          },
          "metadata": {
            "tags": []
          }
        }
      ]
    },
    {
      "cell_type": "code",
      "metadata": {
        "id": "asXz7XScPlGs",
        "colab_type": "code",
        "outputId": "e24d1739-7c38-4cae-c5e4-2d283bcab244",
        "colab": {
          "base_uri": "https://localhost:8080/",
          "height": 297
        }
      },
      "source": [
        "sns.boxplot(transaction['COUPON_MATCH_DISC'])"
      ],
      "execution_count": 230,
      "outputs": [
        {
          "output_type": "execute_result",
          "data": {
            "text/plain": [
              "<matplotlib.axes._subplots.AxesSubplot at 0x7fc14125df98>"
            ]
          },
          "metadata": {
            "tags": []
          },
          "execution_count": 230
        },
        {
          "output_type": "display_data",
          "data": {
            "image/png": "[encoded data removed]",
            "text/plain": [
              "<Figure size 432x288 with 1 Axes>"
            ]
          },
          "metadata": {
            "tags": []
          }
        }
      ]
    },
    {
      "cell_type": "code",
      "metadata": {
        "id": "pf_xEqyAPqyc",
        "colab_type": "code",
        "outputId": "3aa0a362-4a6b-42de-9376-ed1c550e911c",
        "colab": {
          "base_uri": "https://localhost:8080/",
          "height": 34
        }
      },
      "source": [
        "transaction['RETAIL_DISC'].corr(transaction['COUPON_DISC'])"
      ],
      "execution_count": 231,
      "outputs": [
        {
          "output_type": "execute_result",
          "data": {
            "text/plain": [
              "0.04555718468138465"
            ]
          },
          "metadata": {
            "tags": []
          },
          "execution_count": 231
        }
      ]
    },
    {
      "cell_type": "code",
      "metadata": {
        "id": "2LbAxj83P8zU",
        "colab_type": "code",
        "outputId": "df2b89ab-244a-4933-d099-142cf1d23594",
        "colab": {
          "base_uri": "https://localhost:8080/",
          "height": 34
        }
      },
      "source": [
        "transaction['RETAIL_DISC'].corr(transaction['COUPON_MATCH_DISC'])"
      ],
      "execution_count": 232,
      "outputs": [
        {
          "output_type": "execute_result",
          "data": {
            "text/plain": [
              "0.013544792073083746"
            ]
          },
          "metadata": {
            "tags": []
          },
          "execution_count": 232
        }
      ]
    },
    {
      "cell_type": "code",
      "metadata": {
        "id": "ywHEaF3SQCnk",
        "colab_type": "code",
        "outputId": "652cdd9d-ea18-4b8d-a9e6-a46ccbed48e3",
        "colab": {
          "base_uri": "https://localhost:8080/",
          "height": 34
        }
      },
      "source": [
        "transaction['COUPON_MATCH_DISC'].corr(transaction['COUPON_DISC'])"
      ],
      "execution_count": 233,
      "outputs": [
        {
          "output_type": "execute_result",
          "data": {
            "text/plain": [
              "0.21627014853653415"
            ]
          },
          "metadata": {
            "tags": []
          },
          "execution_count": 233
        }
      ]
    },
    {
      "cell_type": "markdown",
      "metadata": {
        "id": "P88Z7RcrKUz0",
        "colab_type": "text"
      },
      "source": [
        "There isnt much correlation between the coupon discounts provided by retailer, manufcturer and for the loyal customers. Since coupon_match_disc and coupon_disc are both provided by the manufacturer there is a slight correlation. But for the discount provided to the loyal customers is completely independent of the manufacuter's discount"
      ]
    },
    {
      "cell_type": "code",
      "metadata": {
        "id": "f6n2nCc54iCS",
        "colab_type": "code",
        "colab": {}
      },
      "source": [
        "pd.set_option('display.max_columns',None)"
      ],
      "execution_count": 0,
      "outputs": []
    },
    {
      "cell_type": "code",
      "metadata": {
        "id": "bvmMPsMJQGDd",
        "colab_type": "code",
        "outputId": "85f470f1-9508-4a3e-d756-60e33f873d79",
        "colab": {
          "base_uri": "https://localhost:8080/",
          "height": 419
        }
      },
      "source": [
        "transaction[transaction['household_key']==1]"
      ],
      "execution_count": 235,
      "outputs": [
        {
          "output_type": "execute_result",
          "data": {
            "text/html": [
              "<div>\n",
              "<style scoped>\n",
              "    .dataframe tbody tr th:only-of-type {\n",
              "        vertical-align: middle;\n",
              "    }\n",
              "\n",
              "    .dataframe tbody tr th {\n",
              "        vertical-align: top;\n",
              "    }\n",
              "\n",
              "    .dataframe thead th {\n",
              "        text-align: right;\n",
              "    }\n",
              "</style>\n",
              "<table border=\"1\" class=\"dataframe\">\n",
              "  <thead>\n",
              "    <tr style=\"text-align: right;\">\n",
              "      <th></th>\n",
              "      <th>household_key</th>\n",
              "      <th>BASKET_ID</th>\n",
              "      <th>DAY</th>\n",
              "      <th>PRODUCT_ID</th>\n",
              "      <th>QUANTITY</th>\n",
              "      <th>SALES_VALUE</th>\n",
              "      <th>STORE_ID</th>\n",
              "      <th>RETAIL_DISC</th>\n",
              "      <th>TRANS_TIME</th>\n",
              "      <th>WEEK_NO</th>\n",
              "      <th>COUPON_DISC</th>\n",
              "      <th>COUPON_MATCH_DISC</th>\n",
              "    </tr>\n",
              "  </thead>\n",
              "  <tbody>\n",
              "    <tr>\n",
              "      <th>46996</th>\n",
              "      <td>1</td>\n",
              "      <td>27601281299</td>\n",
              "      <td>51</td>\n",
              "      <td>825123</td>\n",
              "      <td>1</td>\n",
              "      <td>3.99</td>\n",
              "      <td>436</td>\n",
              "      <td>0.00</td>\n",
              "      <td>1456</td>\n",
              "      <td>8</td>\n",
              "      <td>0.0</td>\n",
              "      <td>0.0</td>\n",
              "    </tr>\n",
              "    <tr>\n",
              "      <th>46997</th>\n",
              "      <td>1</td>\n",
              "      <td>27601281299</td>\n",
              "      <td>51</td>\n",
              "      <td>831447</td>\n",
              "      <td>1</td>\n",
              "      <td>2.99</td>\n",
              "      <td>436</td>\n",
              "      <td>0.00</td>\n",
              "      <td>1456</td>\n",
              "      <td>8</td>\n",
              "      <td>0.0</td>\n",
              "      <td>0.0</td>\n",
              "    </tr>\n",
              "    <tr>\n",
              "      <th>46998</th>\n",
              "      <td>1</td>\n",
              "      <td>27601281299</td>\n",
              "      <td>51</td>\n",
              "      <td>840361</td>\n",
              "      <td>1</td>\n",
              "      <td>1.09</td>\n",
              "      <td>436</td>\n",
              "      <td>-0.30</td>\n",
              "      <td>1456</td>\n",
              "      <td>8</td>\n",
              "      <td>0.0</td>\n",
              "      <td>0.0</td>\n",
              "    </tr>\n",
              "    <tr>\n",
              "      <th>46999</th>\n",
              "      <td>1</td>\n",
              "      <td>27601281299</td>\n",
              "      <td>51</td>\n",
              "      <td>845307</td>\n",
              "      <td>1</td>\n",
              "      <td>3.71</td>\n",
              "      <td>436</td>\n",
              "      <td>-0.62</td>\n",
              "      <td>1456</td>\n",
              "      <td>8</td>\n",
              "      <td>0.0</td>\n",
              "      <td>0.0</td>\n",
              "    </tr>\n",
              "    <tr>\n",
              "      <th>47000</th>\n",
              "      <td>1</td>\n",
              "      <td>27601281299</td>\n",
              "      <td>51</td>\n",
              "      <td>852014</td>\n",
              "      <td>1</td>\n",
              "      <td>2.79</td>\n",
              "      <td>436</td>\n",
              "      <td>-1.20</td>\n",
              "      <td>1456</td>\n",
              "      <td>8</td>\n",
              "      <td>0.0</td>\n",
              "      <td>0.0</td>\n",
              "    </tr>\n",
              "    <tr>\n",
              "      <th>...</th>\n",
              "      <td>...</td>\n",
              "      <td>...</td>\n",
              "      <td>...</td>\n",
              "      <td>...</td>\n",
              "      <td>...</td>\n",
              "      <td>...</td>\n",
              "      <td>...</td>\n",
              "      <td>...</td>\n",
              "      <td>...</td>\n",
              "      <td>...</td>\n",
              "      <td>...</td>\n",
              "      <td>...</td>\n",
              "    </tr>\n",
              "    <tr>\n",
              "      <th>2575488</th>\n",
              "      <td>1</td>\n",
              "      <td>42229641145</td>\n",
              "      <td>706</td>\n",
              "      <td>9527558</td>\n",
              "      <td>1</td>\n",
              "      <td>2.99</td>\n",
              "      <td>436</td>\n",
              "      <td>-1.20</td>\n",
              "      <td>1531</td>\n",
              "      <td>102</td>\n",
              "      <td>0.0</td>\n",
              "      <td>0.0</td>\n",
              "    </tr>\n",
              "    <tr>\n",
              "      <th>2575489</th>\n",
              "      <td>1</td>\n",
              "      <td>42229641145</td>\n",
              "      <td>706</td>\n",
              "      <td>12352312</td>\n",
              "      <td>1</td>\n",
              "      <td>2.99</td>\n",
              "      <td>436</td>\n",
              "      <td>-1.20</td>\n",
              "      <td>1531</td>\n",
              "      <td>102</td>\n",
              "      <td>0.0</td>\n",
              "      <td>0.0</td>\n",
              "    </tr>\n",
              "    <tr>\n",
              "      <th>2575490</th>\n",
              "      <td>1</td>\n",
              "      <td>42229641145</td>\n",
              "      <td>706</td>\n",
              "      <td>13095136</td>\n",
              "      <td>1</td>\n",
              "      <td>6.49</td>\n",
              "      <td>436</td>\n",
              "      <td>0.00</td>\n",
              "      <td>1531</td>\n",
              "      <td>102</td>\n",
              "      <td>0.0</td>\n",
              "      <td>0.0</td>\n",
              "    </tr>\n",
              "    <tr>\n",
              "      <th>2575491</th>\n",
              "      <td>1</td>\n",
              "      <td>42229641145</td>\n",
              "      <td>706</td>\n",
              "      <td>15801136</td>\n",
              "      <td>1</td>\n",
              "      <td>1.50</td>\n",
              "      <td>436</td>\n",
              "      <td>-0.29</td>\n",
              "      <td>1531</td>\n",
              "      <td>102</td>\n",
              "      <td>0.0</td>\n",
              "      <td>0.0</td>\n",
              "    </tr>\n",
              "    <tr>\n",
              "      <th>2575492</th>\n",
              "      <td>1</td>\n",
              "      <td>42229641145</td>\n",
              "      <td>706</td>\n",
              "      <td>17249835</td>\n",
              "      <td>1</td>\n",
              "      <td>3.79</td>\n",
              "      <td>436</td>\n",
              "      <td>0.00</td>\n",
              "      <td>1531</td>\n",
              "      <td>102</td>\n",
              "      <td>0.0</td>\n",
              "      <td>0.0</td>\n",
              "    </tr>\n",
              "  </tbody>\n",
              "</table>\n",
              "<p>1727 rows × 12 columns</p>\n",
              "</div>"
            ],
            "text/plain": [
              "         household_key    BASKET_ID  DAY  PRODUCT_ID  QUANTITY  SALES_VALUE  \\\n",
              "46996                1  27601281299   51      825123         1         3.99   \n",
              "46997                1  27601281299   51      831447         1         2.99   \n",
              "46998                1  27601281299   51      840361         1         1.09   \n",
              "46999                1  27601281299   51      845307         1         3.71   \n",
              "47000                1  27601281299   51      852014         1         2.79   \n",
              "...                ...          ...  ...         ...       ...          ...   \n",
              "2575488              1  42229641145  706     9527558         1         2.99   \n",
              "2575489              1  42229641145  706    12352312         1         2.99   \n",
              "2575490              1  42229641145  706    13095136         1         6.49   \n",
              "2575491              1  42229641145  706    15801136         1         1.50   \n",
              "2575492              1  42229641145  706    17249835         1         3.79   \n",
              "\n",
              "         STORE_ID  RETAIL_DISC  TRANS_TIME  WEEK_NO  COUPON_DISC  \\\n",
              "46996         436         0.00        1456        8          0.0   \n",
              "46997         436         0.00        1456        8          0.0   \n",
              "46998         436        -0.30        1456        8          0.0   \n",
              "46999         436        -0.62        1456        8          0.0   \n",
              "47000         436        -1.20        1456        8          0.0   \n",
              "...           ...          ...         ...      ...          ...   \n",
              "2575488       436        -1.20        1531      102          0.0   \n",
              "2575489       436        -1.20        1531      102          0.0   \n",
              "2575490       436         0.00        1531      102          0.0   \n",
              "2575491       436        -0.29        1531      102          0.0   \n",
              "2575492       436         0.00        1531      102          0.0   \n",
              "\n",
              "         COUPON_MATCH_DISC  \n",
              "46996                  0.0  \n",
              "46997                  0.0  \n",
              "46998                  0.0  \n",
              "46999                  0.0  \n",
              "47000                  0.0  \n",
              "...                    ...  \n",
              "2575488                0.0  \n",
              "2575489                0.0  \n",
              "2575490                0.0  \n",
              "2575491                0.0  \n",
              "2575492                0.0  \n",
              "\n",
              "[1727 rows x 12 columns]"
            ]
          },
          "metadata": {
            "tags": []
          },
          "execution_count": 235
        }
      ]
    },
    {
      "cell_type": "code",
      "metadata": {
        "id": "8SRYhv_H4cW2",
        "colab_type": "code",
        "colab": {}
      },
      "source": [
        "t1=transaction[transaction['household_key']==1]"
      ],
      "execution_count": 0,
      "outputs": []
    },
    {
      "cell_type": "code",
      "metadata": {
        "id": "mizoXLK2dvOe",
        "colab_type": "code",
        "outputId": "35b7d032-ed36-4528-cc3c-42a263486dab",
        "colab": {
          "base_uri": "https://localhost:8080/",
          "height": 136
        }
      },
      "source": [
        "t1['DAY'].unique()"
      ],
      "execution_count": 237,
      "outputs": [
        {
          "output_type": "execute_result",
          "data": {
            "text/plain": [
              "array([ 51,  67,  88,  94, 101, 108, 111, 128, 137, 146, 155, 165, 170,\n",
              "       178, 192, 211, 203, 219, 224, 235, 246, 263, 274, 276, 282, 291,\n",
              "       300, 311, 317, 324, 337, 352, 361, 375, 386, 389, 400, 412, 421,\n",
              "       422, 427, 436, 452, 464, 472, 481, 488, 494, 500, 502, 506, 516,\n",
              "       535, 536, 537, 538, 540, 546, 555, 568, 581, 588, 597, 606, 608,\n",
              "       610, 620, 622, 632, 639, 647, 649, 660, 675, 687, 691, 695, 697,\n",
              "       706])"
            ]
          },
          "metadata": {
            "tags": []
          },
          "execution_count": 237
        }
      ]
    },
    {
      "cell_type": "code",
      "metadata": {
        "id": "QCFfbzp0goPJ",
        "colab_type": "code",
        "colab": {}
      },
      "source": [
        "t2=t1['DAY'].unique()"
      ],
      "execution_count": 0,
      "outputs": []
    },
    {
      "cell_type": "code",
      "metadata": {
        "id": "zsMOiizvhL6v",
        "colab_type": "code",
        "colab": {}
      },
      "source": [
        "t2=list(t2)"
      ],
      "execution_count": 0,
      "outputs": []
    },
    {
      "cell_type": "code",
      "metadata": {
        "id": "8WNV3h-ljWGB",
        "colab_type": "code",
        "colab": {}
      },
      "source": [
        "t2.sort()"
      ],
      "execution_count": 0,
      "outputs": []
    },
    {
      "cell_type": "code",
      "metadata": {
        "id": "hyOQ0n83f2tk",
        "colab_type": "code",
        "outputId": "61927312-2b1e-4f39-edb2-830105e570ce",
        "colab": {
          "base_uri": "https://localhost:8080/",
          "height": 71
        }
      },
      "source": [
        "# printing original list  \n",
        "print (\"The original list is : \" + str(t2)) \n",
        "  \n",
        "# using list comprehension \n",
        "# generate successive difference list \n",
        "res = [t2[i + 1] - t2[i] for i in range(len(t2)-1)] \n",
        "  \n",
        "# printing result \n",
        "print (\"The computed successive difference in the visits : \" + str(res)) "
      ],
      "execution_count": 241,
      "outputs": [
        {
          "output_type": "stream",
          "text": [
            "The original list is : [51, 67, 88, 94, 101, 108, 111, 128, 137, 146, 155, 165, 170, 178, 192, 203, 211, 219, 224, 235, 246, 263, 274, 276, 282, 291, 300, 311, 317, 324, 337, 352, 361, 375, 386, 389, 400, 412, 421, 422, 427, 436, 452, 464, 472, 481, 488, 494, 500, 502, 506, 516, 535, 536, 537, 538, 540, 546, 555, 568, 581, 588, 597, 606, 608, 610, 620, 622, 632, 639, 647, 649, 660, 675, 687, 691, 695, 697, 706]\n",
            "The computed successive difference in the visits : [16, 21, 6, 7, 7, 3, 17, 9, 9, 9, 10, 5, 8, 14, 11, 8, 8, 5, 11, 11, 17, 11, 2, 6, 9, 9, 11, 6, 7, 13, 15, 9, 14, 11, 3, 11, 12, 9, 1, 5, 9, 16, 12, 8, 9, 7, 6, 6, 2, 4, 10, 19, 1, 1, 1, 2, 6, 9, 13, 13, 7, 9, 9, 2, 2, 10, 2, 10, 7, 8, 2, 11, 15, 12, 4, 4, 2, 9]\n"
          ],
          "name": "stdout"
        }
      ]
    },
    {
      "cell_type": "code",
      "metadata": {
        "id": "6TsICc7rkBDB",
        "colab_type": "code",
        "colab": {}
      },
      "source": [
        "from statistics import mean"
      ],
      "execution_count": 0,
      "outputs": []
    },
    {
      "cell_type": "code",
      "metadata": {
        "id": "DELkHWKAkPxF",
        "colab_type": "code",
        "colab": {}
      },
      "source": [
        "from statistics import mode\n",
        "from statistics import median"
      ],
      "execution_count": 0,
      "outputs": []
    },
    {
      "cell_type": "code",
      "metadata": {
        "id": "3Gf4kMjNkPrW",
        "colab_type": "code",
        "outputId": "e64e1fe0-0c7e-4f15-9cb7-01c626f7cb55",
        "colab": {
          "base_uri": "https://localhost:8080/",
          "height": 34
        }
      },
      "source": [
        "mode(res)"
      ],
      "execution_count": 244,
      "outputs": [
        {
          "output_type": "execute_result",
          "data": {
            "text/plain": [
              "9"
            ]
          },
          "metadata": {
            "tags": []
          },
          "execution_count": 244
        }
      ]
    },
    {
      "cell_type": "code",
      "metadata": {
        "id": "neDnIpAVkZhQ",
        "colab_type": "code",
        "outputId": "52d1df16-fb1e-4e83-e93c-a2a732af31a7",
        "colab": {
          "base_uri": "https://localhost:8080/",
          "height": 34
        }
      },
      "source": [
        "median(res)"
      ],
      "execution_count": 245,
      "outputs": [
        {
          "output_type": "execute_result",
          "data": {
            "text/plain": [
              "9.0"
            ]
          },
          "metadata": {
            "tags": []
          },
          "execution_count": 245
        }
      ]
    },
    {
      "cell_type": "code",
      "metadata": {
        "id": "fgXsNXeBjoQ8",
        "colab_type": "code",
        "outputId": "3117d7c3-eecd-4133-d3d7-31a9accca641",
        "colab": {
          "base_uri": "https://localhost:8080/",
          "height": 34
        }
      },
      "source": [
        "mean(res)"
      ],
      "execution_count": 246,
      "outputs": [
        {
          "output_type": "execute_result",
          "data": {
            "text/plain": [
              "8"
            ]
          },
          "metadata": {
            "tags": []
          },
          "execution_count": 246
        }
      ]
    },
    {
      "cell_type": "code",
      "metadata": {
        "id": "3WhWjpBy5I9j",
        "colab_type": "code",
        "outputId": "1d79a0b1-c6b6-4da3-8fe7-c9aac706d64c",
        "colab": {
          "base_uri": "https://localhost:8080/",
          "height": 421
        }
      },
      "source": [
        "t1[t1['DAY']==67]"
      ],
      "execution_count": 247,
      "outputs": [
        {
          "output_type": "execute_result",
          "data": {
            "text/html": [
              "<div>\n",
              "<style scoped>\n",
              "    .dataframe tbody tr th:only-of-type {\n",
              "        vertical-align: middle;\n",
              "    }\n",
              "\n",
              "    .dataframe tbody tr th {\n",
              "        vertical-align: top;\n",
              "    }\n",
              "\n",
              "    .dataframe thead th {\n",
              "        text-align: right;\n",
              "    }\n",
              "</style>\n",
              "<table border=\"1\" class=\"dataframe\">\n",
              "  <thead>\n",
              "    <tr style=\"text-align: right;\">\n",
              "      <th></th>\n",
              "      <th>household_key</th>\n",
              "      <th>BASKET_ID</th>\n",
              "      <th>DAY</th>\n",
              "      <th>PRODUCT_ID</th>\n",
              "      <th>QUANTITY</th>\n",
              "      <th>SALES_VALUE</th>\n",
              "      <th>STORE_ID</th>\n",
              "      <th>RETAIL_DISC</th>\n",
              "      <th>TRANS_TIME</th>\n",
              "      <th>WEEK_NO</th>\n",
              "      <th>COUPON_DISC</th>\n",
              "      <th>COUPON_MATCH_DISC</th>\n",
              "    </tr>\n",
              "  </thead>\n",
              "  <tbody>\n",
              "    <tr>\n",
              "      <th>71711</th>\n",
              "      <td>1</td>\n",
              "      <td>27774192959</td>\n",
              "      <td>67</td>\n",
              "      <td>852662</td>\n",
              "      <td>2</td>\n",
              "      <td>3.22</td>\n",
              "      <td>436</td>\n",
              "      <td>-0.36</td>\n",
              "      <td>2002</td>\n",
              "      <td>10</td>\n",
              "      <td>0.0</td>\n",
              "      <td>0.0</td>\n",
              "    </tr>\n",
              "    <tr>\n",
              "      <th>71712</th>\n",
              "      <td>1</td>\n",
              "      <td>27774192959</td>\n",
              "      <td>67</td>\n",
              "      <td>856942</td>\n",
              "      <td>1</td>\n",
              "      <td>2.99</td>\n",
              "      <td>436</td>\n",
              "      <td>0.00</td>\n",
              "      <td>2002</td>\n",
              "      <td>10</td>\n",
              "      <td>0.0</td>\n",
              "      <td>0.0</td>\n",
              "    </tr>\n",
              "    <tr>\n",
              "      <th>71713</th>\n",
              "      <td>1</td>\n",
              "      <td>27774192959</td>\n",
              "      <td>67</td>\n",
              "      <td>997025</td>\n",
              "      <td>0</td>\n",
              "      <td>0.00</td>\n",
              "      <td>436</td>\n",
              "      <td>0.00</td>\n",
              "      <td>2002</td>\n",
              "      <td>10</td>\n",
              "      <td>0.0</td>\n",
              "      <td>0.0</td>\n",
              "    </tr>\n",
              "    <tr>\n",
              "      <th>71714</th>\n",
              "      <td>1</td>\n",
              "      <td>27774192959</td>\n",
              "      <td>67</td>\n",
              "      <td>1030547</td>\n",
              "      <td>1</td>\n",
              "      <td>10.99</td>\n",
              "      <td>436</td>\n",
              "      <td>0.00</td>\n",
              "      <td>2002</td>\n",
              "      <td>10</td>\n",
              "      <td>0.0</td>\n",
              "      <td>0.0</td>\n",
              "    </tr>\n",
              "    <tr>\n",
              "      <th>71715</th>\n",
              "      <td>1</td>\n",
              "      <td>27774192959</td>\n",
              "      <td>67</td>\n",
              "      <td>1049998</td>\n",
              "      <td>1</td>\n",
              "      <td>1.99</td>\n",
              "      <td>436</td>\n",
              "      <td>0.00</td>\n",
              "      <td>2002</td>\n",
              "      <td>10</td>\n",
              "      <td>0.0</td>\n",
              "      <td>0.0</td>\n",
              "    </tr>\n",
              "    <tr>\n",
              "      <th>71716</th>\n",
              "      <td>1</td>\n",
              "      <td>27774192959</td>\n",
              "      <td>67</td>\n",
              "      <td>1055831</td>\n",
              "      <td>2</td>\n",
              "      <td>5.28</td>\n",
              "      <td>436</td>\n",
              "      <td>0.00</td>\n",
              "      <td>2002</td>\n",
              "      <td>10</td>\n",
              "      <td>0.0</td>\n",
              "      <td>0.0</td>\n",
              "    </tr>\n",
              "    <tr>\n",
              "      <th>71717</th>\n",
              "      <td>1</td>\n",
              "      <td>27774192959</td>\n",
              "      <td>67</td>\n",
              "      <td>1082185</td>\n",
              "      <td>1</td>\n",
              "      <td>0.92</td>\n",
              "      <td>436</td>\n",
              "      <td>0.00</td>\n",
              "      <td>2002</td>\n",
              "      <td>10</td>\n",
              "      <td>0.0</td>\n",
              "      <td>0.0</td>\n",
              "    </tr>\n",
              "    <tr>\n",
              "      <th>71718</th>\n",
              "      <td>1</td>\n",
              "      <td>27774192959</td>\n",
              "      <td>67</td>\n",
              "      <td>6773032</td>\n",
              "      <td>1</td>\n",
              "      <td>3.49</td>\n",
              "      <td>436</td>\n",
              "      <td>0.00</td>\n",
              "      <td>2002</td>\n",
              "      <td>10</td>\n",
              "      <td>0.0</td>\n",
              "      <td>0.0</td>\n",
              "    </tr>\n",
              "    <tr>\n",
              "      <th>71719</th>\n",
              "      <td>1</td>\n",
              "      <td>27774192959</td>\n",
              "      <td>67</td>\n",
              "      <td>7167962</td>\n",
              "      <td>1</td>\n",
              "      <td>3.00</td>\n",
              "      <td>436</td>\n",
              "      <td>-1.59</td>\n",
              "      <td>2002</td>\n",
              "      <td>10</td>\n",
              "      <td>0.0</td>\n",
              "      <td>0.0</td>\n",
              "    </tr>\n",
              "    <tr>\n",
              "      <th>71720</th>\n",
              "      <td>1</td>\n",
              "      <td>27774192959</td>\n",
              "      <td>67</td>\n",
              "      <td>8090541</td>\n",
              "      <td>2</td>\n",
              "      <td>5.00</td>\n",
              "      <td>436</td>\n",
              "      <td>-4.18</td>\n",
              "      <td>2002</td>\n",
              "      <td>10</td>\n",
              "      <td>0.0</td>\n",
              "      <td>0.0</td>\n",
              "    </tr>\n",
              "    <tr>\n",
              "      <th>71721</th>\n",
              "      <td>1</td>\n",
              "      <td>27774192959</td>\n",
              "      <td>67</td>\n",
              "      <td>9297615</td>\n",
              "      <td>1</td>\n",
              "      <td>2.34</td>\n",
              "      <td>436</td>\n",
              "      <td>-1.35</td>\n",
              "      <td>2002</td>\n",
              "      <td>10</td>\n",
              "      <td>0.0</td>\n",
              "      <td>0.0</td>\n",
              "    </tr>\n",
              "    <tr>\n",
              "      <th>71722</th>\n",
              "      <td>1</td>\n",
              "      <td>27774192959</td>\n",
              "      <td>67</td>\n",
              "      <td>9527290</td>\n",
              "      <td>1</td>\n",
              "      <td>1.88</td>\n",
              "      <td>436</td>\n",
              "      <td>-1.11</td>\n",
              "      <td>2002</td>\n",
              "      <td>10</td>\n",
              "      <td>0.0</td>\n",
              "      <td>0.0</td>\n",
              "    </tr>\n",
              "  </tbody>\n",
              "</table>\n",
              "</div>"
            ],
            "text/plain": [
              "       household_key    BASKET_ID  DAY  PRODUCT_ID  QUANTITY  SALES_VALUE  \\\n",
              "71711              1  27774192959   67      852662         2         3.22   \n",
              "71712              1  27774192959   67      856942         1         2.99   \n",
              "71713              1  27774192959   67      997025         0         0.00   \n",
              "71714              1  27774192959   67     1030547         1        10.99   \n",
              "71715              1  27774192959   67     1049998         1         1.99   \n",
              "71716              1  27774192959   67     1055831         2         5.28   \n",
              "71717              1  27774192959   67     1082185         1         0.92   \n",
              "71718              1  27774192959   67     6773032         1         3.49   \n",
              "71719              1  27774192959   67     7167962         1         3.00   \n",
              "71720              1  27774192959   67     8090541         2         5.00   \n",
              "71721              1  27774192959   67     9297615         1         2.34   \n",
              "71722              1  27774192959   67     9527290         1         1.88   \n",
              "\n",
              "       STORE_ID  RETAIL_DISC  TRANS_TIME  WEEK_NO  COUPON_DISC  \\\n",
              "71711       436        -0.36        2002       10          0.0   \n",
              "71712       436         0.00        2002       10          0.0   \n",
              "71713       436         0.00        2002       10          0.0   \n",
              "71714       436         0.00        2002       10          0.0   \n",
              "71715       436         0.00        2002       10          0.0   \n",
              "71716       436         0.00        2002       10          0.0   \n",
              "71717       436         0.00        2002       10          0.0   \n",
              "71718       436         0.00        2002       10          0.0   \n",
              "71719       436        -1.59        2002       10          0.0   \n",
              "71720       436        -4.18        2002       10          0.0   \n",
              "71721       436        -1.35        2002       10          0.0   \n",
              "71722       436        -1.11        2002       10          0.0   \n",
              "\n",
              "       COUPON_MATCH_DISC  \n",
              "71711                0.0  \n",
              "71712                0.0  \n",
              "71713                0.0  \n",
              "71714                0.0  \n",
              "71715                0.0  \n",
              "71716                0.0  \n",
              "71717                0.0  \n",
              "71718                0.0  \n",
              "71719                0.0  \n",
              "71720                0.0  \n",
              "71721                0.0  \n",
              "71722                0.0  "
            ]
          },
          "metadata": {
            "tags": []
          },
          "execution_count": 247
        }
      ]
    },
    {
      "cell_type": "code",
      "metadata": {
        "id": "4yPAHrYolTGZ",
        "colab_type": "code",
        "colab": {}
      },
      "source": [
        "t2=t1[t1['DAY']==67]"
      ],
      "execution_count": 0,
      "outputs": []
    },
    {
      "cell_type": "code",
      "metadata": {
        "id": "l7Jn1qDZ9Mcp",
        "colab_type": "code",
        "outputId": "42da8bf7-36a5-436b-9b7f-06f9505d8555",
        "colab": {
          "base_uri": "https://localhost:8080/",
          "height": 51
        }
      },
      "source": [
        "t2['PRODUCT_ID'].unique()"
      ],
      "execution_count": 249,
      "outputs": [
        {
          "output_type": "execute_result",
          "data": {
            "text/plain": [
              "array([ 852662,  856942,  997025, 1030547, 1049998, 1055831, 1082185,\n",
              "       6773032, 7167962, 8090541, 9297615, 9527290])"
            ]
          },
          "metadata": {
            "tags": []
          },
          "execution_count": 249
        }
      ]
    },
    {
      "cell_type": "code",
      "metadata": {
        "id": "tUXhjXC59RWz",
        "colab_type": "code",
        "colab": {}
      },
      "source": [
        "t3=transaction[transaction['household_key']==1]"
      ],
      "execution_count": 0,
      "outputs": []
    },
    {
      "cell_type": "code",
      "metadata": {
        "id": "kLWANGrorD9u",
        "colab_type": "code",
        "outputId": "4ce4b93b-c065-40e4-b98c-3fb613c87c67",
        "colab": {
          "base_uri": "https://localhost:8080/",
          "height": 297
        }
      },
      "source": [
        "campaign_table[campaign_table['household_key']==1]"
      ],
      "execution_count": 251,
      "outputs": [
        {
          "output_type": "execute_result",
          "data": {
            "text/html": [
              "<div>\n",
              "<style scoped>\n",
              "    .dataframe tbody tr th:only-of-type {\n",
              "        vertical-align: middle;\n",
              "    }\n",
              "\n",
              "    .dataframe tbody tr th {\n",
              "        vertical-align: top;\n",
              "    }\n",
              "\n",
              "    .dataframe thead th {\n",
              "        text-align: right;\n",
              "    }\n",
              "</style>\n",
              "<table border=\"1\" class=\"dataframe\">\n",
              "  <thead>\n",
              "    <tr style=\"text-align: right;\">\n",
              "      <th></th>\n",
              "      <th>DESCRIPTION</th>\n",
              "      <th>household_key</th>\n",
              "      <th>CAMPAIGN</th>\n",
              "    </tr>\n",
              "  </thead>\n",
              "  <tbody>\n",
              "    <tr>\n",
              "      <th>693</th>\n",
              "      <td>TypeA</td>\n",
              "      <td>1</td>\n",
              "      <td>8</td>\n",
              "    </tr>\n",
              "    <tr>\n",
              "      <th>1769</th>\n",
              "      <td>TypeA</td>\n",
              "      <td>1</td>\n",
              "      <td>13</td>\n",
              "    </tr>\n",
              "    <tr>\n",
              "      <th>2846</th>\n",
              "      <td>TypeA</td>\n",
              "      <td>1</td>\n",
              "      <td>18</td>\n",
              "    </tr>\n",
              "    <tr>\n",
              "      <th>3996</th>\n",
              "      <td>TypeB</td>\n",
              "      <td>1</td>\n",
              "      <td>29</td>\n",
              "    </tr>\n",
              "    <tr>\n",
              "      <th>5133</th>\n",
              "      <td>TypeB</td>\n",
              "      <td>1</td>\n",
              "      <td>12</td>\n",
              "    </tr>\n",
              "    <tr>\n",
              "      <th>5888</th>\n",
              "      <td>TypeB</td>\n",
              "      <td>1</td>\n",
              "      <td>22</td>\n",
              "    </tr>\n",
              "    <tr>\n",
              "      <th>6164</th>\n",
              "      <td>TypeB</td>\n",
              "      <td>1</td>\n",
              "      <td>23</td>\n",
              "    </tr>\n",
              "    <tr>\n",
              "      <th>6882</th>\n",
              "      <td>TypeC</td>\n",
              "      <td>1</td>\n",
              "      <td>20</td>\n",
              "    </tr>\n",
              "  </tbody>\n",
              "</table>\n",
              "</div>"
            ],
            "text/plain": [
              "     DESCRIPTION  household_key  CAMPAIGN\n",
              "693        TypeA              1         8\n",
              "1769       TypeA              1        13\n",
              "2846       TypeA              1        18\n",
              "3996       TypeB              1        29\n",
              "5133       TypeB              1        12\n",
              "5888       TypeB              1        22\n",
              "6164       TypeB              1        23\n",
              "6882       TypeC              1        20"
            ]
          },
          "metadata": {
            "tags": []
          },
          "execution_count": 251
        }
      ]
    },
    {
      "cell_type": "code",
      "metadata": {
        "id": "7YTrQ3xf34HR",
        "colab_type": "code",
        "colab": {}
      },
      "source": [
        "c1=coupon[coupon['CAMPAIGN']==30]"
      ],
      "execution_count": 0,
      "outputs": []
    },
    {
      "cell_type": "code",
      "metadata": {
        "id": "TaTqXCzB5KUS",
        "colab_type": "code",
        "outputId": "b63ec5e9-79c2-4cbb-df74-b33e55c5ed69",
        "colab": {
          "base_uri": "https://localhost:8080/",
          "height": 34
        }
      },
      "source": [
        "c1['PRODUCT_ID'].unique()"
      ],
      "execution_count": 253,
      "outputs": [
        {
          "output_type": "execute_result",
          "data": {
            "text/plain": [
              "array([2224647, 3052359,  131847, ..., 6559489, 6574480,   85340])"
            ]
          },
          "metadata": {
            "tags": []
          },
          "execution_count": 253
        }
      ]
    },
    {
      "cell_type": "code",
      "metadata": {
        "id": "nsGXqsTf5eEk",
        "colab_type": "code",
        "colab": {}
      },
      "source": [
        "c3=c1['PRODUCT_ID'].unique()"
      ],
      "execution_count": 0,
      "outputs": []
    },
    {
      "cell_type": "code",
      "metadata": {
        "id": "KI6eTu8a56lM",
        "colab_type": "code",
        "colab": {}
      },
      "source": [
        "p1=product[product['PRODUCT_ID'].isin(c3)]"
      ],
      "execution_count": 0,
      "outputs": []
    },
    {
      "cell_type": "code",
      "metadata": {
        "id": "v0J501v0i5KR",
        "colab_type": "code",
        "outputId": "738d9b8e-9425-4830-c653-67f5846eabd4",
        "colab": {
          "base_uri": "https://localhost:8080/",
          "height": 34
        }
      },
      "source": [
        "p1.shape"
      ],
      "execution_count": 256,
      "outputs": [
        {
          "output_type": "execute_result",
          "data": {
            "text/plain": [
              "(3205, 7)"
            ]
          },
          "metadata": {
            "tags": []
          },
          "execution_count": 256
        }
      ]
    },
    {
      "cell_type": "code",
      "metadata": {
        "id": "EuENQ_We6G3Y",
        "colab_type": "code",
        "outputId": "3c09a583-fbd2-4c2f-9fad-6e5932cbc58d",
        "colab": {
          "base_uri": "https://localhost:8080/",
          "height": 204
        }
      },
      "source": [
        "p1.head()"
      ],
      "execution_count": 257,
      "outputs": [
        {
          "output_type": "execute_result",
          "data": {
            "text/html": [
              "<div>\n",
              "<style scoped>\n",
              "    .dataframe tbody tr th:only-of-type {\n",
              "        vertical-align: middle;\n",
              "    }\n",
              "\n",
              "    .dataframe tbody tr th {\n",
              "        vertical-align: top;\n",
              "    }\n",
              "\n",
              "    .dataframe thead th {\n",
              "        text-align: right;\n",
              "    }\n",
              "</style>\n",
              "<table border=\"1\" class=\"dataframe\">\n",
              "  <thead>\n",
              "    <tr style=\"text-align: right;\">\n",
              "      <th></th>\n",
              "      <th>PRODUCT_ID</th>\n",
              "      <th>MANUFACTURER</th>\n",
              "      <th>DEPARTMENT</th>\n",
              "      <th>BRAND</th>\n",
              "      <th>COMMODITY_DESC</th>\n",
              "      <th>SUB_COMMODITY_DESC</th>\n",
              "      <th>CURR_SIZE_OF_PRODUCT</th>\n",
              "    </tr>\n",
              "  </thead>\n",
              "  <tbody>\n",
              "    <tr>\n",
              "      <th>10</th>\n",
              "      <td>26738</td>\n",
              "      <td>69</td>\n",
              "      <td>GROCERY</td>\n",
              "      <td>Private</td>\n",
              "      <td>ICE CREAM/MILK/SHERBTS</td>\n",
              "      <td>TRADITIONAL</td>\n",
              "      <td>56 OZ</td>\n",
              "    </tr>\n",
              "    <tr>\n",
              "      <th>16</th>\n",
              "      <td>27158</td>\n",
              "      <td>69</td>\n",
              "      <td>GROCERY</td>\n",
              "      <td>Private</td>\n",
              "      <td>ICE CREAM/MILK/SHERBTS</td>\n",
              "      <td>TRADITIONAL</td>\n",
              "      <td>56 OZ</td>\n",
              "    </tr>\n",
              "    <tr>\n",
              "      <th>22</th>\n",
              "      <td>27404</td>\n",
              "      <td>69</td>\n",
              "      <td>GROCERY</td>\n",
              "      <td>Private</td>\n",
              "      <td>ICE CREAM/MILK/SHERBTS</td>\n",
              "      <td>TRADITIONAL</td>\n",
              "      <td>56 OZ</td>\n",
              "    </tr>\n",
              "    <tr>\n",
              "      <th>23</th>\n",
              "      <td>27479</td>\n",
              "      <td>69</td>\n",
              "      <td>GROCERY</td>\n",
              "      <td>Private</td>\n",
              "      <td>BAKED BREAD/BUNS/ROLLS</td>\n",
              "      <td>MAINSTREAM WHITE BREAD</td>\n",
              "      <td>20 OZ</td>\n",
              "    </tr>\n",
              "    <tr>\n",
              "      <th>28</th>\n",
              "      <td>27522</td>\n",
              "      <td>69</td>\n",
              "      <td>GROCERY</td>\n",
              "      <td>Private</td>\n",
              "      <td>ICE CREAM/MILK/SHERBTS</td>\n",
              "      <td>TRADITIONAL</td>\n",
              "      <td>1/2 GAL</td>\n",
              "    </tr>\n",
              "  </tbody>\n",
              "</table>\n",
              "</div>"
            ],
            "text/plain": [
              "    PRODUCT_ID  MANUFACTURER DEPARTMENT    BRAND          COMMODITY_DESC  \\\n",
              "10       26738            69    GROCERY  Private  ICE CREAM/MILK/SHERBTS   \n",
              "16       27158            69    GROCERY  Private  ICE CREAM/MILK/SHERBTS   \n",
              "22       27404            69    GROCERY  Private  ICE CREAM/MILK/SHERBTS   \n",
              "23       27479            69    GROCERY  Private  BAKED BREAD/BUNS/ROLLS   \n",
              "28       27522            69    GROCERY  Private  ICE CREAM/MILK/SHERBTS   \n",
              "\n",
              "        SUB_COMMODITY_DESC CURR_SIZE_OF_PRODUCT  \n",
              "10             TRADITIONAL                56 OZ  \n",
              "16             TRADITIONAL                56 OZ  \n",
              "22             TRADITIONAL                56 OZ  \n",
              "23  MAINSTREAM WHITE BREAD                20 OZ  \n",
              "28             TRADITIONAL              1/2 GAL  "
            ]
          },
          "metadata": {
            "tags": []
          },
          "execution_count": 257
        }
      ]
    },
    {
      "cell_type": "code",
      "metadata": {
        "id": "zpF6yQUS8h6g",
        "colab_type": "code",
        "outputId": "85972494-d868-4c2f-ff7d-7e6cb93e656f",
        "colab": {
          "base_uri": "https://localhost:8080/",
          "height": 34
        }
      },
      "source": [
        "len(p1['CURR_SIZE_OF_PRODUCT'].unique())"
      ],
      "execution_count": 258,
      "outputs": [
        {
          "output_type": "execute_result",
          "data": {
            "text/plain": [
              "410"
            ]
          },
          "metadata": {
            "tags": []
          },
          "execution_count": 258
        }
      ]
    },
    {
      "cell_type": "code",
      "metadata": {
        "id": "xX1oEwuCtsOD",
        "colab_type": "code",
        "outputId": "bd1a0d39-c513-43c6-bf1c-92d02b3dc8fb",
        "colab": {
          "base_uri": "https://localhost:8080/",
          "height": 221
        }
      },
      "source": [
        "(p1['MANUFACTURER'].value_counts()/len(p1))*100"
      ],
      "execution_count": 259,
      "outputs": [
        {
          "output_type": "execute_result",
          "data": {
            "text/plain": [
              "69      19.063963\n",
              "751      4.524181\n",
              "764      4.087363\n",
              "194      3.712949\n",
              "2350     3.681747\n",
              "          ...    \n",
              "118      0.031201\n",
              "1420     0.031201\n",
              "1068     0.031201\n",
              "1136     0.031201\n",
              "1697     0.031201\n",
              "Name: MANUFACTURER, Length: 112, dtype: float64"
            ]
          },
          "metadata": {
            "tags": []
          },
          "execution_count": 259
        }
      ]
    },
    {
      "cell_type": "code",
      "metadata": {
        "id": "akje4aPet8Nu",
        "colab_type": "code",
        "outputId": "e7b776e4-715a-47b6-ad29-81d9e183a451",
        "colab": {
          "base_uri": "https://localhost:8080/",
          "height": 221
        }
      },
      "source": [
        "(p1['DEPARTMENT'].value_counts()/len(p1))*100"
      ],
      "execution_count": 260,
      "outputs": [
        {
          "output_type": "execute_result",
          "data": {
            "text/plain": [
              "GROCERY           68.549142\n",
              "DRUG GM           23.494540\n",
              "MEAT-PCKGD         2.776911\n",
              "NUTRITION          1.872075\n",
              "PRODUCE            1.591264\n",
              "SEAFOOD-PCKGD      1.154446\n",
              "DELI               0.374415\n",
              "MEAT               0.093604\n",
              "MISC. TRANS.       0.031201\n",
              "RESTAURANT         0.031201\n",
              "COUP/STR & MFG     0.031201\n",
              "Name: DEPARTMENT, dtype: float64"
            ]
          },
          "metadata": {
            "tags": []
          },
          "execution_count": 260
        }
      ]
    },
    {
      "cell_type": "code",
      "metadata": {
        "id": "JQlyzELFtsAw",
        "colab_type": "code",
        "outputId": "b8f5dbf4-3817-4c23-c5d4-1e1a0ce3fbef",
        "colab": {
          "base_uri": "https://localhost:8080/",
          "height": 68
        }
      },
      "source": [
        "(p1['BRAND'].value_counts()/len(p1))*100"
      ],
      "execution_count": 261,
      "outputs": [
        {
          "output_type": "execute_result",
          "data": {
            "text/plain": [
              "National    80.904836\n",
              "Private     19.095164\n",
              "Name: BRAND, dtype: float64"
            ]
          },
          "metadata": {
            "tags": []
          },
          "execution_count": 261
        }
      ]
    },
    {
      "cell_type": "code",
      "metadata": {
        "id": "WXFSzcUl6PgM",
        "colab_type": "code",
        "outputId": "03a9f509-a3c7-45f1-ff83-97b75ecc05f0",
        "colab": {
          "base_uri": "https://localhost:8080/",
          "height": 221
        }
      },
      "source": [
        "(p1['COMMODITY_DESC'].value_counts()/len(p1))*100"
      ],
      "execution_count": 262,
      "outputs": [
        {
          "output_type": "execute_result",
          "data": {
            "text/plain": [
              "COLD CEREAL                 6.801872\n",
              "ICE CREAM/MILK/SHERBTS      6.333853\n",
              "HAIR CARE PRODUCTS          5.335413\n",
              "COOKIES/CONES               4.399376\n",
              "SOUP                        4.212168\n",
              "                              ...   \n",
              "COFFEE SHOP                 0.031201\n",
              "NO COMMODITY DESCRIPTION    0.031201\n",
              "DIETARY AID PRODUCTS        0.031201\n",
              "BOOKSTORE                   0.031201\n",
              "COUPONS/STORE & MFG         0.031201\n",
              "Name: COMMODITY_DESC, Length: 103, dtype: float64"
            ]
          },
          "metadata": {
            "tags": []
          },
          "execution_count": 262
        }
      ]
    },
    {
      "cell_type": "code",
      "metadata": {
        "id": "2WbjbcTe8MYM",
        "colab_type": "code",
        "outputId": "06b76ac0-4776-408f-ec40-f694fd30c78a",
        "colab": {
          "base_uri": "https://localhost:8080/",
          "height": 221
        }
      },
      "source": [
        "(p1['SUB_COMMODITY_DESC'].value_counts()/len(p1))*100"
      ],
      "execution_count": 263,
      "outputs": [
        {
          "output_type": "execute_result",
          "data": {
            "text/plain": [
              "TRADITIONAL                       3.525741\n",
              "KIDS CEREAL                       2.870515\n",
              "PREMIUM                           2.808112\n",
              "DAIRY CASE 100% PURE JUICE - O    2.745710\n",
              "TOOTHPASTE                        2.340094\n",
              "                                    ...   \n",
              "WOMENS  HAIR SPRAYS               0.031201\n",
              "INFANT FORMULA SOY BASE           0.031201\n",
              "FRZN GRILLED PORTIONS             0.031201\n",
              "BROTHS                            0.031201\n",
              "HARDBACK/TRADE BEST SELLER        0.031201\n",
              "Name: SUB_COMMODITY_DESC, Length: 233, dtype: float64"
            ]
          },
          "metadata": {
            "tags": []
          },
          "execution_count": 263
        }
      ]
    },
    {
      "cell_type": "code",
      "metadata": {
        "id": "WruSwbTlYqoT",
        "colab_type": "code",
        "outputId": "13672170-5c76-4e87-9562-5f7b4196fa22",
        "colab": {
          "base_uri": "https://localhost:8080/",
          "height": 34
        }
      },
      "source": [
        "campaign_table.shape"
      ],
      "execution_count": 264,
      "outputs": [
        {
          "output_type": "execute_result",
          "data": {
            "text/plain": [
              "(7208, 3)"
            ]
          },
          "metadata": {
            "tags": []
          },
          "execution_count": 264
        }
      ]
    },
    {
      "cell_type": "code",
      "metadata": {
        "id": "NDteoYq67DEB",
        "colab_type": "code",
        "colab": {}
      },
      "source": [
        "c1=campaign_table[campaign_table['CAMPAIGN']==1]"
      ],
      "execution_count": 0,
      "outputs": []
    },
    {
      "cell_type": "code",
      "metadata": {
        "id": "d8nQNNfxyOUq",
        "colab_type": "code",
        "colab": {}
      },
      "source": [
        "c2=c1['household_key'].unique()"
      ],
      "execution_count": 0,
      "outputs": []
    },
    {
      "cell_type": "code",
      "metadata": {
        "id": "eqlPixzezHja",
        "colab_type": "code",
        "outputId": "8382441b-ef54-494f-a92f-b679da576395",
        "colab": {
          "base_uri": "https://localhost:8080/",
          "height": 51
        }
      },
      "source": [
        "c2"
      ],
      "execution_count": 267,
      "outputs": [
        {
          "output_type": "execute_result",
          "data": {
            "text/plain": [
              "array([  68,   93,  293, 2200, 1483, 1258, 1238,  932,  630,  568,  536,\n",
              "        529,  105])"
            ]
          },
          "metadata": {
            "tags": []
          },
          "execution_count": 267
        }
      ]
    },
    {
      "cell_type": "code",
      "metadata": {
        "id": "-V5Vc6ePzTCO",
        "colab_type": "code",
        "colab": {}
      },
      "source": [
        "c3=hh[hh['household_key'].isin(c2)]"
      ],
      "execution_count": 0,
      "outputs": []
    },
    {
      "cell_type": "code",
      "metadata": {
        "id": "vI320rFHzvDu",
        "colab_type": "code",
        "outputId": "d8c6f1b1-6b71-4172-85d2-d409e9552f8b",
        "colab": {
          "base_uri": "https://localhost:8080/",
          "height": 204
        }
      },
      "source": [
        "c3.head()"
      ],
      "execution_count": 269,
      "outputs": [
        {
          "output_type": "execute_result",
          "data": {
            "text/html": [
              "<div>\n",
              "<style scoped>\n",
              "    .dataframe tbody tr th:only-of-type {\n",
              "        vertical-align: middle;\n",
              "    }\n",
              "\n",
              "    .dataframe tbody tr th {\n",
              "        vertical-align: top;\n",
              "    }\n",
              "\n",
              "    .dataframe thead th {\n",
              "        text-align: right;\n",
              "    }\n",
              "</style>\n",
              "<table border=\"1\" class=\"dataframe\">\n",
              "  <thead>\n",
              "    <tr style=\"text-align: right;\">\n",
              "      <th></th>\n",
              "      <th>AGE_DESC</th>\n",
              "      <th>MARITAL_STATUS_CODE</th>\n",
              "      <th>INCOME_DESC</th>\n",
              "      <th>HOMEOWNER_DESC</th>\n",
              "      <th>HH_COMP_DESC</th>\n",
              "      <th>HOUSEHOLD_SIZE_DESC</th>\n",
              "      <th>KID_CATEGORY_DESC</th>\n",
              "      <th>household_key</th>\n",
              "    </tr>\n",
              "  </thead>\n",
              "  <tbody>\n",
              "    <tr>\n",
              "      <th>37</th>\n",
              "      <td>25-34</td>\n",
              "      <td>B</td>\n",
              "      <td>Under 15K</td>\n",
              "      <td>Homeowner</td>\n",
              "      <td>1 Adult Kids</td>\n",
              "      <td>3</td>\n",
              "      <td>2</td>\n",
              "      <td>105</td>\n",
              "    </tr>\n",
              "    <tr>\n",
              "      <th>214</th>\n",
              "      <td>35-44</td>\n",
              "      <td>A</td>\n",
              "      <td>35-49K</td>\n",
              "      <td>Homeowner</td>\n",
              "      <td>2 Adults Kids</td>\n",
              "      <td>3</td>\n",
              "      <td>1</td>\n",
              "      <td>630</td>\n",
              "    </tr>\n",
              "    <tr>\n",
              "      <th>315</th>\n",
              "      <td>19-24</td>\n",
              "      <td>U</td>\n",
              "      <td>15-24K</td>\n",
              "      <td>Unknown</td>\n",
              "      <td>2 Adults No Kids</td>\n",
              "      <td>2</td>\n",
              "      <td>None/Unknown</td>\n",
              "      <td>932</td>\n",
              "    </tr>\n",
              "    <tr>\n",
              "      <th>413</th>\n",
              "      <td>45-54</td>\n",
              "      <td>U</td>\n",
              "      <td>75-99K</td>\n",
              "      <td>Homeowner</td>\n",
              "      <td>Unknown</td>\n",
              "      <td>1</td>\n",
              "      <td>None/Unknown</td>\n",
              "      <td>1258</td>\n",
              "    </tr>\n",
              "    <tr>\n",
              "      <th>481</th>\n",
              "      <td>19-24</td>\n",
              "      <td>U</td>\n",
              "      <td>Under 15K</td>\n",
              "      <td>Unknown</td>\n",
              "      <td>Unknown</td>\n",
              "      <td>1</td>\n",
              "      <td>None/Unknown</td>\n",
              "      <td>1483</td>\n",
              "    </tr>\n",
              "  </tbody>\n",
              "</table>\n",
              "</div>"
            ],
            "text/plain": [
              "    AGE_DESC MARITAL_STATUS_CODE INCOME_DESC HOMEOWNER_DESC      HH_COMP_DESC  \\\n",
              "37     25-34                   B   Under 15K      Homeowner      1 Adult Kids   \n",
              "214    35-44                   A      35-49K      Homeowner     2 Adults Kids   \n",
              "315    19-24                   U      15-24K        Unknown  2 Adults No Kids   \n",
              "413    45-54                   U      75-99K      Homeowner           Unknown   \n",
              "481    19-24                   U   Under 15K        Unknown           Unknown   \n",
              "\n",
              "    HOUSEHOLD_SIZE_DESC KID_CATEGORY_DESC  household_key  \n",
              "37                    3                 2            105  \n",
              "214                   3                 1            630  \n",
              "315                   2      None/Unknown            932  \n",
              "413                   1      None/Unknown           1258  \n",
              "481                   1      None/Unknown           1483  "
            ]
          },
          "metadata": {
            "tags": []
          },
          "execution_count": 269
        }
      ]
    },
    {
      "cell_type": "code",
      "metadata": {
        "id": "C8bgUy3r0lMX",
        "colab_type": "code",
        "outputId": "5f6fb389-b371-472c-f01c-d154b830f8b3",
        "colab": {
          "base_uri": "https://localhost:8080/",
          "height": 102
        }
      },
      "source": [
        "(c3['AGE_DESC'].value_counts()/len(c3))*100"
      ],
      "execution_count": 270,
      "outputs": [
        {
          "output_type": "execute_result",
          "data": {
            "text/plain": [
              "19-24    33.333333\n",
              "45-54    33.333333\n",
              "25-34    16.666667\n",
              "35-44    16.666667\n",
              "Name: AGE_DESC, dtype: float64"
            ]
          },
          "metadata": {
            "tags": []
          },
          "execution_count": 270
        }
      ]
    },
    {
      "cell_type": "code",
      "metadata": {
        "id": "BVbF-73152Me",
        "colab_type": "code",
        "outputId": "d6f936e7-cae7-479c-ab46-073a00c4bb2a",
        "colab": {
          "base_uri": "https://localhost:8080/",
          "height": 85
        }
      },
      "source": [
        "(c3['MARITAL_STATUS_CODE'].value_counts()/len(c3))*100"
      ],
      "execution_count": 271,
      "outputs": [
        {
          "output_type": "execute_result",
          "data": {
            "text/plain": [
              "U    66.666667\n",
              "A    16.666667\n",
              "B    16.666667\n",
              "Name: MARITAL_STATUS_CODE, dtype: float64"
            ]
          },
          "metadata": {
            "tags": []
          },
          "execution_count": 271
        }
      ]
    },
    {
      "cell_type": "code",
      "metadata": {
        "id": "hDRiPIty02Od",
        "colab_type": "code",
        "outputId": "aed1e74f-f638-455a-af5a-8d75a63e23bb",
        "colab": {
          "base_uri": "https://localhost:8080/",
          "height": 102
        }
      },
      "source": [
        "(c3['INCOME_DESC'].value_counts()/len(c3))*100"
      ],
      "execution_count": 272,
      "outputs": [
        {
          "output_type": "execute_result",
          "data": {
            "text/plain": [
              "Under 15K    50.000000\n",
              "75-99K       16.666667\n",
              "35-49K       16.666667\n",
              "15-24K       16.666667\n",
              "Name: INCOME_DESC, dtype: float64"
            ]
          },
          "metadata": {
            "tags": []
          },
          "execution_count": 272
        }
      ]
    },
    {
      "cell_type": "code",
      "metadata": {
        "id": "X0SXJ5Fw5_sd",
        "colab_type": "code",
        "outputId": "342c3bbe-1387-413c-c300-169737845aee",
        "colab": {
          "base_uri": "https://localhost:8080/",
          "height": 68
        }
      },
      "source": [
        "(c3['HOMEOWNER_DESC'].value_counts()/len(c3))*100"
      ],
      "execution_count": 273,
      "outputs": [
        {
          "output_type": "execute_result",
          "data": {
            "text/plain": [
              "Unknown      50.0\n",
              "Homeowner    50.0\n",
              "Name: HOMEOWNER_DESC, dtype: float64"
            ]
          },
          "metadata": {
            "tags": []
          },
          "execution_count": 273
        }
      ]
    },
    {
      "cell_type": "code",
      "metadata": {
        "id": "uhktfBD86GI1",
        "colab_type": "code",
        "outputId": "124817c4-95f3-4391-be46-f3ab8acaec88",
        "colab": {
          "base_uri": "https://localhost:8080/",
          "height": 119
        }
      },
      "source": [
        "(c3['HH_COMP_DESC'].value_counts()/len(c3))*100"
      ],
      "execution_count": 274,
      "outputs": [
        {
          "output_type": "execute_result",
          "data": {
            "text/plain": [
              "Unknown             33.333333\n",
              "2 Adults Kids       16.666667\n",
              "1 Adult Kids        16.666667\n",
              "2 Adults No Kids    16.666667\n",
              "Single Male         16.666667\n",
              "Name: HH_COMP_DESC, dtype: float64"
            ]
          },
          "metadata": {
            "tags": []
          },
          "execution_count": 274
        }
      ]
    },
    {
      "cell_type": "code",
      "metadata": {
        "id": "2APNUGi86Nqt",
        "colab_type": "code",
        "outputId": "7fc8985a-e41f-4894-9b29-0100e5c3014c",
        "colab": {
          "base_uri": "https://localhost:8080/",
          "height": 85
        }
      },
      "source": [
        "(c3['HOUSEHOLD_SIZE_DESC'].value_counts()/len(c3))*100"
      ],
      "execution_count": 275,
      "outputs": [
        {
          "output_type": "execute_result",
          "data": {
            "text/plain": [
              "1    50.000000\n",
              "3    33.333333\n",
              "2    16.666667\n",
              "Name: HOUSEHOLD_SIZE_DESC, dtype: float64"
            ]
          },
          "metadata": {
            "tags": []
          },
          "execution_count": 275
        }
      ]
    },
    {
      "cell_type": "code",
      "metadata": {
        "id": "QhTs9mE86Nlj",
        "colab_type": "code",
        "outputId": "a88bc324-5d77-4945-ceb0-54882952c307",
        "colab": {
          "base_uri": "https://localhost:8080/",
          "height": 85
        }
      },
      "source": [
        "(c3['KID_CATEGORY_DESC'].value_counts()/len(c3))*100"
      ],
      "execution_count": 276,
      "outputs": [
        {
          "output_type": "execute_result",
          "data": {
            "text/plain": [
              "None/Unknown    66.666667\n",
              "1               16.666667\n",
              "2               16.666667\n",
              "Name: KID_CATEGORY_DESC, dtype: float64"
            ]
          },
          "metadata": {
            "tags": []
          },
          "execution_count": 276
        }
      ]
    },
    {
      "cell_type": "code",
      "metadata": {
        "id": "VfdCyww_6NcR",
        "colab_type": "code",
        "outputId": "890fe672-ffb1-4976-8411-5b524b57227f",
        "colab": {
          "base_uri": "https://localhost:8080/",
          "height": 204
        }
      },
      "source": [
        "hh.head()"
      ],
      "execution_count": 277,
      "outputs": [
        {
          "output_type": "execute_result",
          "data": {
            "text/html": [
              "<div>\n",
              "<style scoped>\n",
              "    .dataframe tbody tr th:only-of-type {\n",
              "        vertical-align: middle;\n",
              "    }\n",
              "\n",
              "    .dataframe tbody tr th {\n",
              "        vertical-align: top;\n",
              "    }\n",
              "\n",
              "    .dataframe thead th {\n",
              "        text-align: right;\n",
              "    }\n",
              "</style>\n",
              "<table border=\"1\" class=\"dataframe\">\n",
              "  <thead>\n",
              "    <tr style=\"text-align: right;\">\n",
              "      <th></th>\n",
              "      <th>AGE_DESC</th>\n",
              "      <th>MARITAL_STATUS_CODE</th>\n",
              "      <th>INCOME_DESC</th>\n",
              "      <th>HOMEOWNER_DESC</th>\n",
              "      <th>HH_COMP_DESC</th>\n",
              "      <th>HOUSEHOLD_SIZE_DESC</th>\n",
              "      <th>KID_CATEGORY_DESC</th>\n",
              "      <th>household_key</th>\n",
              "    </tr>\n",
              "  </thead>\n",
              "  <tbody>\n",
              "    <tr>\n",
              "      <th>0</th>\n",
              "      <td>65+</td>\n",
              "      <td>A</td>\n",
              "      <td>35-49K</td>\n",
              "      <td>Homeowner</td>\n",
              "      <td>2 Adults No Kids</td>\n",
              "      <td>2</td>\n",
              "      <td>None/Unknown</td>\n",
              "      <td>1</td>\n",
              "    </tr>\n",
              "    <tr>\n",
              "      <th>1</th>\n",
              "      <td>45-54</td>\n",
              "      <td>A</td>\n",
              "      <td>50-74K</td>\n",
              "      <td>Homeowner</td>\n",
              "      <td>2 Adults No Kids</td>\n",
              "      <td>2</td>\n",
              "      <td>None/Unknown</td>\n",
              "      <td>7</td>\n",
              "    </tr>\n",
              "    <tr>\n",
              "      <th>2</th>\n",
              "      <td>25-34</td>\n",
              "      <td>U</td>\n",
              "      <td>25-34K</td>\n",
              "      <td>Unknown</td>\n",
              "      <td>2 Adults Kids</td>\n",
              "      <td>3</td>\n",
              "      <td>1</td>\n",
              "      <td>8</td>\n",
              "    </tr>\n",
              "    <tr>\n",
              "      <th>3</th>\n",
              "      <td>25-34</td>\n",
              "      <td>U</td>\n",
              "      <td>75-99K</td>\n",
              "      <td>Homeowner</td>\n",
              "      <td>2 Adults Kids</td>\n",
              "      <td>4</td>\n",
              "      <td>2</td>\n",
              "      <td>13</td>\n",
              "    </tr>\n",
              "    <tr>\n",
              "      <th>4</th>\n",
              "      <td>45-54</td>\n",
              "      <td>B</td>\n",
              "      <td>50-74K</td>\n",
              "      <td>Homeowner</td>\n",
              "      <td>Single Female</td>\n",
              "      <td>1</td>\n",
              "      <td>None/Unknown</td>\n",
              "      <td>16</td>\n",
              "    </tr>\n",
              "  </tbody>\n",
              "</table>\n",
              "</div>"
            ],
            "text/plain": [
              "  AGE_DESC MARITAL_STATUS_CODE INCOME_DESC HOMEOWNER_DESC      HH_COMP_DESC  \\\n",
              "0      65+                   A      35-49K      Homeowner  2 Adults No Kids   \n",
              "1    45-54                   A      50-74K      Homeowner  2 Adults No Kids   \n",
              "2    25-34                   U      25-34K        Unknown     2 Adults Kids   \n",
              "3    25-34                   U      75-99K      Homeowner     2 Adults Kids   \n",
              "4    45-54                   B      50-74K      Homeowner     Single Female   \n",
              "\n",
              "  HOUSEHOLD_SIZE_DESC KID_CATEGORY_DESC  household_key  \n",
              "0                   2      None/Unknown              1  \n",
              "1                   2      None/Unknown              7  \n",
              "2                   3                 1              8  \n",
              "3                   4                 2             13  \n",
              "4                   1      None/Unknown             16  "
            ]
          },
          "metadata": {
            "tags": []
          },
          "execution_count": 277
        }
      ]
    },
    {
      "cell_type": "code",
      "metadata": {
        "id": "ue_L5qJubh70",
        "colab_type": "code",
        "outputId": "082ab175-9c9e-4edc-b291-6576e4bf497c",
        "colab": {
          "base_uri": "https://localhost:8080/",
          "height": 221
        }
      },
      "source": [
        "hh['KID_CATEGORY_DESC'].replace('None/Unknown',0)"
      ],
      "execution_count": 278,
      "outputs": [
        {
          "output_type": "execute_result",
          "data": {
            "text/plain": [
              "0      0\n",
              "1      0\n",
              "2      1\n",
              "3      2\n",
              "4      0\n",
              "      ..\n",
              "796    0\n",
              "797    1\n",
              "798    0\n",
              "799    0\n",
              "800    1\n",
              "Name: KID_CATEGORY_DESC, Length: 801, dtype: object"
            ]
          },
          "metadata": {
            "tags": []
          },
          "execution_count": 278
        }
      ]
    },
    {
      "cell_type": "code",
      "metadata": {
        "id": "0Byc4Xihb_3E",
        "colab_type": "code",
        "colab": {}
      },
      "source": [
        "hh['KID_CATEGORY_DESC']=hh['KID_CATEGORY_DESC'].replace('None/Unknown',0)"
      ],
      "execution_count": 0,
      "outputs": []
    },
    {
      "cell_type": "code",
      "metadata": {
        "id": "G0m503sEcjHV",
        "colab_type": "code",
        "outputId": "9fb98487-5345-4fee-c58a-725099bc1128",
        "colab": {
          "base_uri": "https://localhost:8080/",
          "height": 102
        }
      },
      "source": [
        "(hh['KID_CATEGORY_DESC'].value_counts()/len(hh))*100"
      ],
      "execution_count": 280,
      "outputs": [
        {
          "output_type": "execute_result",
          "data": {
            "text/plain": [
              "0     69.662921\n",
              "1     14.232210\n",
              "3+     8.614232\n",
              "2      7.490637\n",
              "Name: KID_CATEGORY_DESC, dtype: float64"
            ]
          },
          "metadata": {
            "tags": []
          },
          "execution_count": 280
        }
      ]
    },
    {
      "cell_type": "code",
      "metadata": {
        "id": "09StVqbWeVaQ",
        "colab_type": "code",
        "outputId": "07990a1d-5d66-4fbc-bb00-8d9dc0cdaa4f",
        "colab": {
          "base_uri": "https://localhost:8080/",
          "height": 250
        }
      },
      "source": [
        "import matplotlib.pyplot as plt\n",
        "\n",
        "# Pie chart, where the slices will be ordered and plotted counter-clockwise:\n",
        "labels = '0', '1', '3+', '2'\n",
        "sizes = [69.66, 14.23, 8.61, 7.49]\n",
        "explode = (0.1, 0, 0, 0)  # only \"explode\" the big slice (i.e. '0 Kids')\n",
        "\n",
        "fig1, ax1 = plt.subplots()\n",
        "ax1.pie(sizes, explode=explode, labels=labels, autopct='%1.1f%%',\n",
        "        shadow=True, startangle=90)\n",
        "ax1.axis('equal')  # Equal aspect ratio ensures that pie is drawn as a circle.\n",
        "\n",
        "plt.show()"
      ],
      "execution_count": 281,
      "outputs": [
        {
          "output_type": "display_data",
          "data": {
            "image/png": "[encoded data removed]",
            "text/plain": [
              "<Figure size 432x288 with 1 Axes>"
            ]
          },
          "metadata": {
            "tags": []
          }
        }
      ]
    },
    {
      "cell_type": "code",
      "metadata": {
        "id": "6sCVILzQiXg0",
        "colab_type": "code",
        "outputId": "0591f040-a0f5-4fcb-8845-c501a6b46352",
        "colab": {
          "base_uri": "https://localhost:8080/",
          "height": 34
        }
      },
      "source": [
        "campaign_desc.shape"
      ],
      "execution_count": 282,
      "outputs": [
        {
          "output_type": "execute_result",
          "data": {
            "text/plain": [
              "(30, 4)"
            ]
          },
          "metadata": {
            "tags": []
          },
          "execution_count": 282
        }
      ]
    },
    {
      "cell_type": "code",
      "metadata": {
        "id": "HHhKszPZiaaV",
        "colab_type": "code",
        "outputId": "3346e947-37a5-456b-f9f4-87b6f6eb4c6f",
        "colab": {
          "base_uri": "https://localhost:8080/",
          "height": 111
        }
      },
      "source": [
        "campaign_desc.head(2)"
      ],
      "execution_count": 283,
      "outputs": [
        {
          "output_type": "execute_result",
          "data": {
            "text/html": [
              "<div>\n",
              "<style scoped>\n",
              "    .dataframe tbody tr th:only-of-type {\n",
              "        vertical-align: middle;\n",
              "    }\n",
              "\n",
              "    .dataframe tbody tr th {\n",
              "        vertical-align: top;\n",
              "    }\n",
              "\n",
              "    .dataframe thead th {\n",
              "        text-align: right;\n",
              "    }\n",
              "</style>\n",
              "<table border=\"1\" class=\"dataframe\">\n",
              "  <thead>\n",
              "    <tr style=\"text-align: right;\">\n",
              "      <th></th>\n",
              "      <th>DESCRIPTION</th>\n",
              "      <th>CAMPAIGN</th>\n",
              "      <th>START_DAY</th>\n",
              "      <th>END_DAY</th>\n",
              "    </tr>\n",
              "  </thead>\n",
              "  <tbody>\n",
              "    <tr>\n",
              "      <th>0</th>\n",
              "      <td>TypeB</td>\n",
              "      <td>24</td>\n",
              "      <td>659</td>\n",
              "      <td>719</td>\n",
              "    </tr>\n",
              "    <tr>\n",
              "      <th>1</th>\n",
              "      <td>TypeC</td>\n",
              "      <td>15</td>\n",
              "      <td>547</td>\n",
              "      <td>708</td>\n",
              "    </tr>\n",
              "  </tbody>\n",
              "</table>\n",
              "</div>"
            ],
            "text/plain": [
              "  DESCRIPTION  CAMPAIGN  START_DAY  END_DAY\n",
              "0       TypeB        24        659      719\n",
              "1       TypeC        15        547      708"
            ]
          },
          "metadata": {
            "tags": []
          },
          "execution_count": 283
        }
      ]
    },
    {
      "cell_type": "code",
      "metadata": {
        "id": "MJzpwv74igXq",
        "colab_type": "code",
        "colab": {}
      },
      "source": [
        "campaign_desc['dur']=campaign_desc['END_DAY']-campaign_desc['START_DAY']"
      ],
      "execution_count": 0,
      "outputs": []
    },
    {
      "cell_type": "code",
      "metadata": {
        "id": "jBAq5Mzeip5d",
        "colab_type": "code",
        "outputId": "3495bc43-997b-4d24-fc0c-15fcc9e4a775",
        "colab": {
          "base_uri": "https://localhost:8080/",
          "height": 204
        }
      },
      "source": [
        "campaign_desc.head()"
      ],
      "execution_count": 285,
      "outputs": [
        {
          "output_type": "execute_result",
          "data": {
            "text/html": [
              "<div>\n",
              "<style scoped>\n",
              "    .dataframe tbody tr th:only-of-type {\n",
              "        vertical-align: middle;\n",
              "    }\n",
              "\n",
              "    .dataframe tbody tr th {\n",
              "        vertical-align: top;\n",
              "    }\n",
              "\n",
              "    .dataframe thead th {\n",
              "        text-align: right;\n",
              "    }\n",
              "</style>\n",
              "<table border=\"1\" class=\"dataframe\">\n",
              "  <thead>\n",
              "    <tr style=\"text-align: right;\">\n",
              "      <th></th>\n",
              "      <th>DESCRIPTION</th>\n",
              "      <th>CAMPAIGN</th>\n",
              "      <th>START_DAY</th>\n",
              "      <th>END_DAY</th>\n",
              "      <th>dur</th>\n",
              "    </tr>\n",
              "  </thead>\n",
              "  <tbody>\n",
              "    <tr>\n",
              "      <th>0</th>\n",
              "      <td>TypeB</td>\n",
              "      <td>24</td>\n",
              "      <td>659</td>\n",
              "      <td>719</td>\n",
              "      <td>60</td>\n",
              "    </tr>\n",
              "    <tr>\n",
              "      <th>1</th>\n",
              "      <td>TypeC</td>\n",
              "      <td>15</td>\n",
              "      <td>547</td>\n",
              "      <td>708</td>\n",
              "      <td>161</td>\n",
              "    </tr>\n",
              "    <tr>\n",
              "      <th>2</th>\n",
              "      <td>TypeB</td>\n",
              "      <td>25</td>\n",
              "      <td>659</td>\n",
              "      <td>691</td>\n",
              "      <td>32</td>\n",
              "    </tr>\n",
              "    <tr>\n",
              "      <th>3</th>\n",
              "      <td>TypeC</td>\n",
              "      <td>20</td>\n",
              "      <td>615</td>\n",
              "      <td>685</td>\n",
              "      <td>70</td>\n",
              "    </tr>\n",
              "    <tr>\n",
              "      <th>4</th>\n",
              "      <td>TypeB</td>\n",
              "      <td>23</td>\n",
              "      <td>646</td>\n",
              "      <td>684</td>\n",
              "      <td>38</td>\n",
              "    </tr>\n",
              "  </tbody>\n",
              "</table>\n",
              "</div>"
            ],
            "text/plain": [
              "  DESCRIPTION  CAMPAIGN  START_DAY  END_DAY  dur\n",
              "0       TypeB        24        659      719   60\n",
              "1       TypeC        15        547      708  161\n",
              "2       TypeB        25        659      691   32\n",
              "3       TypeC        20        615      685   70\n",
              "4       TypeB        23        646      684   38"
            ]
          },
          "metadata": {
            "tags": []
          },
          "execution_count": 285
        }
      ]
    },
    {
      "cell_type": "code",
      "metadata": {
        "id": "ZoZQFXN3k5Fz",
        "colab_type": "code",
        "outputId": "cc0d1cbe-4d45-44e5-bc60-a4fe0bd7f2a0",
        "colab": {
          "base_uri": "https://localhost:8080/",
          "height": 284
        }
      },
      "source": [
        "result = campaign_desc.groupby([\"CAMPAIGN\"])['dur'].aggregate(np.median).reset_index().sort_values('dur')\n",
        "sns.barplot(x='CAMPAIGN', y=\"dur\", data=campaign_desc, order=result['CAMPAIGN']) #formerly: sns.barplot(x='Id', y=\"Speed\", data=df, palette=colors, order=result['Id'])\n",
        "plt.xticks(rotation=30)\n",
        "plt.show()"
      ],
      "execution_count": 396,
      "outputs": [
        {
          "output_type": "display_data",
          "data": {
            "image/png": "[encoded data removed]",
            "text/plain": [
              "<Figure size 432x288 with 1 Axes>"
            ]
          },
          "metadata": {
            "tags": []
          }
        }
      ]
    },
    {
      "cell_type": "code",
      "metadata": {
        "id": "WxBK2jSIS72T",
        "colab_type": "code",
        "outputId": "6a17aff6-a910-4b03-f1fe-a0ec465a9dab",
        "colab": {
          "base_uri": "https://localhost:8080/",
          "height": 34
        }
      },
      "source": [
        "product.shape"
      ],
      "execution_count": 287,
      "outputs": [
        {
          "output_type": "execute_result",
          "data": {
            "text/plain": [
              "(92353, 7)"
            ]
          },
          "metadata": {
            "tags": []
          },
          "execution_count": 287
        }
      ]
    },
    {
      "cell_type": "code",
      "metadata": {
        "id": "CiWoTX_c2wXl",
        "colab_type": "code",
        "outputId": "551952fa-281b-4657-a961-6a2a4efd0b3c",
        "colab": {
          "base_uri": "https://localhost:8080/",
          "height": 204
        }
      },
      "source": [
        "product.head()"
      ],
      "execution_count": 288,
      "outputs": [
        {
          "output_type": "execute_result",
          "data": {
            "text/html": [
              "<div>\n",
              "<style scoped>\n",
              "    .dataframe tbody tr th:only-of-type {\n",
              "        vertical-align: middle;\n",
              "    }\n",
              "\n",
              "    .dataframe tbody tr th {\n",
              "        vertical-align: top;\n",
              "    }\n",
              "\n",
              "    .dataframe thead th {\n",
              "        text-align: right;\n",
              "    }\n",
              "</style>\n",
              "<table border=\"1\" class=\"dataframe\">\n",
              "  <thead>\n",
              "    <tr style=\"text-align: right;\">\n",
              "      <th></th>\n",
              "      <th>PRODUCT_ID</th>\n",
              "      <th>MANUFACTURER</th>\n",
              "      <th>DEPARTMENT</th>\n",
              "      <th>BRAND</th>\n",
              "      <th>COMMODITY_DESC</th>\n",
              "      <th>SUB_COMMODITY_DESC</th>\n",
              "      <th>CURR_SIZE_OF_PRODUCT</th>\n",
              "    </tr>\n",
              "  </thead>\n",
              "  <tbody>\n",
              "    <tr>\n",
              "      <th>0</th>\n",
              "      <td>25671</td>\n",
              "      <td>2</td>\n",
              "      <td>GROCERY</td>\n",
              "      <td>National</td>\n",
              "      <td>FRZN ICE</td>\n",
              "      <td>ICE - CRUSHED/CUBED</td>\n",
              "      <td>22 LB</td>\n",
              "    </tr>\n",
              "    <tr>\n",
              "      <th>1</th>\n",
              "      <td>26081</td>\n",
              "      <td>2</td>\n",
              "      <td>MISC. TRANS.</td>\n",
              "      <td>National</td>\n",
              "      <td>NO COMMODITY DESCRIPTION</td>\n",
              "      <td>NO SUBCOMMODITY DESCRIPTION</td>\n",
              "      <td></td>\n",
              "    </tr>\n",
              "    <tr>\n",
              "      <th>2</th>\n",
              "      <td>26093</td>\n",
              "      <td>69</td>\n",
              "      <td>PASTRY</td>\n",
              "      <td>Private</td>\n",
              "      <td>BREAD</td>\n",
              "      <td>BREAD:ITALIAN/FRENCH</td>\n",
              "      <td></td>\n",
              "    </tr>\n",
              "    <tr>\n",
              "      <th>3</th>\n",
              "      <td>26190</td>\n",
              "      <td>69</td>\n",
              "      <td>GROCERY</td>\n",
              "      <td>Private</td>\n",
              "      <td>FRUIT - SHELF STABLE</td>\n",
              "      <td>APPLE SAUCE</td>\n",
              "      <td>50 OZ</td>\n",
              "    </tr>\n",
              "    <tr>\n",
              "      <th>4</th>\n",
              "      <td>26355</td>\n",
              "      <td>69</td>\n",
              "      <td>GROCERY</td>\n",
              "      <td>Private</td>\n",
              "      <td>COOKIES/CONES</td>\n",
              "      <td>SPECIALTY COOKIES</td>\n",
              "      <td>14 OZ</td>\n",
              "    </tr>\n",
              "  </tbody>\n",
              "</table>\n",
              "</div>"
            ],
            "text/plain": [
              "   PRODUCT_ID  MANUFACTURER    DEPARTMENT     BRAND            COMMODITY_DESC  \\\n",
              "0       25671             2       GROCERY  National                  FRZN ICE   \n",
              "1       26081             2  MISC. TRANS.  National  NO COMMODITY DESCRIPTION   \n",
              "2       26093            69        PASTRY   Private                     BREAD   \n",
              "3       26190            69       GROCERY   Private      FRUIT - SHELF STABLE   \n",
              "4       26355            69       GROCERY   Private             COOKIES/CONES   \n",
              "\n",
              "            SUB_COMMODITY_DESC CURR_SIZE_OF_PRODUCT  \n",
              "0          ICE - CRUSHED/CUBED                22 LB  \n",
              "1  NO SUBCOMMODITY DESCRIPTION                       \n",
              "2         BREAD:ITALIAN/FRENCH                       \n",
              "3                  APPLE SAUCE                50 OZ  \n",
              "4            SPECIALTY COOKIES                14 OZ  "
            ]
          },
          "metadata": {
            "tags": []
          },
          "execution_count": 288
        }
      ]
    },
    {
      "cell_type": "code",
      "metadata": {
        "id": "kSRSDbuWTSe1",
        "colab_type": "code",
        "outputId": "a97544aa-811b-482f-bc48-578a483a0a4d",
        "colab": {
          "base_uri": "https://localhost:8080/",
          "height": 34
        }
      },
      "source": [
        "len(trans_data1['PRODUCT_ID'].unique())"
      ],
      "execution_count": 289,
      "outputs": [
        {
          "output_type": "execute_result",
          "data": {
            "text/plain": [
              "92339"
            ]
          },
          "metadata": {
            "tags": []
          },
          "execution_count": 289
        }
      ]
    },
    {
      "cell_type": "code",
      "metadata": {
        "id": "9XmTh9bITWQN",
        "colab_type": "code",
        "colab": {}
      },
      "source": [
        "t1=trans_data1['PRODUCT_ID'].unique()"
      ],
      "execution_count": 0,
      "outputs": []
    },
    {
      "cell_type": "code",
      "metadata": {
        "id": "rBtt6dYbWA6A",
        "colab_type": "code",
        "outputId": "a3b25b42-138e-47a4-f56d-d095ee131bc0",
        "colab": {
          "base_uri": "https://localhost:8080/",
          "height": 34
        }
      },
      "source": [
        "t1"
      ],
      "execution_count": 291,
      "outputs": [
        {
          "output_type": "execute_result",
          "data": {
            "text/plain": [
              "array([ 1004906,  1033142,  1036325, ...,   133449,  6923644, 14055192])"
            ]
          },
          "metadata": {
            "tags": []
          },
          "execution_count": 291
        }
      ]
    },
    {
      "cell_type": "code",
      "metadata": {
        "id": "ak-CjIrST50l",
        "colab_type": "code",
        "colab": {}
      },
      "source": [
        "t2=product['PRODUCT_ID']"
      ],
      "execution_count": 0,
      "outputs": []
    },
    {
      "cell_type": "code",
      "metadata": {
        "id": "q1gLVde5T9WL",
        "colab_type": "code",
        "outputId": "904cb9bf-a99c-47e6-cea8-294f9ae3249d",
        "colab": {
          "base_uri": "https://localhost:8080/",
          "height": 221
        }
      },
      "source": [
        "t2"
      ],
      "execution_count": 293,
      "outputs": [
        {
          "output_type": "execute_result",
          "data": {
            "text/plain": [
              "0           25671\n",
              "1           26081\n",
              "2           26093\n",
              "3           26190\n",
              "4           26355\n",
              "           ...   \n",
              "92348    18293142\n",
              "92349    18293439\n",
              "92350    18293696\n",
              "92351    18294080\n",
              "92352    18316298\n",
              "Name: PRODUCT_ID, Length: 92353, dtype: int64"
            ]
          },
          "metadata": {
            "tags": []
          },
          "execution_count": 293
        }
      ]
    },
    {
      "cell_type": "code",
      "metadata": {
        "id": "P_xvMrNhURZf",
        "colab_type": "code",
        "colab": {}
      },
      "source": [
        "t3=product[product['PRODUCT_ID'].isin(t1)]"
      ],
      "execution_count": 0,
      "outputs": []
    },
    {
      "cell_type": "code",
      "metadata": {
        "id": "7sQxxUtiXsOY",
        "colab_type": "code",
        "outputId": "bb0c071b-9221-48d8-a5d7-d8e32ef904ab",
        "colab": {
          "base_uri": "https://localhost:8080/",
          "height": 204
        }
      },
      "source": [
        "t3.head()"
      ],
      "execution_count": 295,
      "outputs": [
        {
          "output_type": "execute_result",
          "data": {
            "text/html": [
              "<div>\n",
              "<style scoped>\n",
              "    .dataframe tbody tr th:only-of-type {\n",
              "        vertical-align: middle;\n",
              "    }\n",
              "\n",
              "    .dataframe tbody tr th {\n",
              "        vertical-align: top;\n",
              "    }\n",
              "\n",
              "    .dataframe thead th {\n",
              "        text-align: right;\n",
              "    }\n",
              "</style>\n",
              "<table border=\"1\" class=\"dataframe\">\n",
              "  <thead>\n",
              "    <tr style=\"text-align: right;\">\n",
              "      <th></th>\n",
              "      <th>PRODUCT_ID</th>\n",
              "      <th>MANUFACTURER</th>\n",
              "      <th>DEPARTMENT</th>\n",
              "      <th>BRAND</th>\n",
              "      <th>COMMODITY_DESC</th>\n",
              "      <th>SUB_COMMODITY_DESC</th>\n",
              "      <th>CURR_SIZE_OF_PRODUCT</th>\n",
              "    </tr>\n",
              "  </thead>\n",
              "  <tbody>\n",
              "    <tr>\n",
              "      <th>0</th>\n",
              "      <td>25671</td>\n",
              "      <td>2</td>\n",
              "      <td>GROCERY</td>\n",
              "      <td>National</td>\n",
              "      <td>FRZN ICE</td>\n",
              "      <td>ICE - CRUSHED/CUBED</td>\n",
              "      <td>22 LB</td>\n",
              "    </tr>\n",
              "    <tr>\n",
              "      <th>1</th>\n",
              "      <td>26081</td>\n",
              "      <td>2</td>\n",
              "      <td>MISC. TRANS.</td>\n",
              "      <td>National</td>\n",
              "      <td>NO COMMODITY DESCRIPTION</td>\n",
              "      <td>NO SUBCOMMODITY DESCRIPTION</td>\n",
              "      <td></td>\n",
              "    </tr>\n",
              "    <tr>\n",
              "      <th>2</th>\n",
              "      <td>26093</td>\n",
              "      <td>69</td>\n",
              "      <td>PASTRY</td>\n",
              "      <td>Private</td>\n",
              "      <td>BREAD</td>\n",
              "      <td>BREAD:ITALIAN/FRENCH</td>\n",
              "      <td></td>\n",
              "    </tr>\n",
              "    <tr>\n",
              "      <th>3</th>\n",
              "      <td>26190</td>\n",
              "      <td>69</td>\n",
              "      <td>GROCERY</td>\n",
              "      <td>Private</td>\n",
              "      <td>FRUIT - SHELF STABLE</td>\n",
              "      <td>APPLE SAUCE</td>\n",
              "      <td>50 OZ</td>\n",
              "    </tr>\n",
              "    <tr>\n",
              "      <th>4</th>\n",
              "      <td>26355</td>\n",
              "      <td>69</td>\n",
              "      <td>GROCERY</td>\n",
              "      <td>Private</td>\n",
              "      <td>COOKIES/CONES</td>\n",
              "      <td>SPECIALTY COOKIES</td>\n",
              "      <td>14 OZ</td>\n",
              "    </tr>\n",
              "  </tbody>\n",
              "</table>\n",
              "</div>"
            ],
            "text/plain": [
              "   PRODUCT_ID  MANUFACTURER    DEPARTMENT     BRAND            COMMODITY_DESC  \\\n",
              "0       25671             2       GROCERY  National                  FRZN ICE   \n",
              "1       26081             2  MISC. TRANS.  National  NO COMMODITY DESCRIPTION   \n",
              "2       26093            69        PASTRY   Private                     BREAD   \n",
              "3       26190            69       GROCERY   Private      FRUIT - SHELF STABLE   \n",
              "4       26355            69       GROCERY   Private             COOKIES/CONES   \n",
              "\n",
              "            SUB_COMMODITY_DESC CURR_SIZE_OF_PRODUCT  \n",
              "0          ICE - CRUSHED/CUBED                22 LB  \n",
              "1  NO SUBCOMMODITY DESCRIPTION                       \n",
              "2         BREAD:ITALIAN/FRENCH                       \n",
              "3                  APPLE SAUCE                50 OZ  \n",
              "4            SPECIALTY COOKIES                14 OZ  "
            ]
          },
          "metadata": {
            "tags": []
          },
          "execution_count": 295
        }
      ]
    },
    {
      "cell_type": "code",
      "metadata": {
        "id": "GNuou63wbHw4",
        "colab_type": "code",
        "outputId": "4e3290de-0f4a-4828-e671-7f06d6a955bd",
        "colab": {
          "base_uri": "https://localhost:8080/",
          "height": 252
        }
      },
      "source": [
        "import matplotlib.pyplot as plt\n",
        "# Pie chart, where the slices will be ordered and plotted counter-clockwise:\n",
        "labels = 'Not Targetted', 'Targeted', 'Coupons redeemed'\n",
        "sizes = [19.28,63.36 , 17.36]\n",
        "explode = (0.1, 0, 0)  # only \"explode\" the big slice (i.e. 'Not Targetted')\n",
        "\n",
        "fig1, ax1 = plt.subplots()\n",
        "ax1.pie(sizes, explode=explode, labels=labels, autopct='%1.1f%%',\n",
        "        shadow=True, startangle=90)\n",
        "ax1.axis('equal')  # Equal aspect ratio ensures that pie is drawn as a circle.\n",
        "\n",
        "plt.show()"
      ],
      "execution_count": 297,
      "outputs": [
        {
          "output_type": "display_data",
          "data": {
            "image/png": "[encoded data removed]",
            "text/plain": [
              "<Figure size 432x288 with 1 Axes>"
            ]
          },
          "metadata": {
            "tags": []
          }
        }
      ]
    },
    {
      "cell_type": "code",
      "metadata": {
        "id": "0-iVzhNHLQ_I",
        "colab_type": "code",
        "outputId": "847b12cd-b49a-442a-c6f8-88c08244e391",
        "colab": {
          "base_uri": "https://localhost:8080/",
          "height": 248
        }
      },
      "source": [
        "# Pie chart, where the slices will be ordered and plotted counter-clockwise:\n",
        "labels = 'Coupons Redeemed', 'Coupons not redeemed'\n",
        "sizes = [49 , 51]\n",
        "explode = (0.1, 0)  # only \"explode\" the big slice (i.e. 'coupons Redeemed')\n",
        "\n",
        "fig1, ax1 = plt.subplots()\n",
        "ax1.pie(sizes, explode=explode, labels=labels, autopct='%1.1f%%',\n",
        "        shadow=True, startangle=90)\n",
        "ax1.axis('equal')  # Equal aspect ratio ensures that pie is drawn as a circle.\n",
        "\n",
        "plt.show()"
      ],
      "execution_count": 298,
      "outputs": [
        {
          "output_type": "display_data",
          "data": {
            "image/png": "[encoded data removed]",
            "text/plain": [
              "<Figure size 432x288 with 1 Axes>"
            ]
          },
          "metadata": {
            "tags": []
          }
        }
      ]
    },
    {
      "cell_type": "code",
      "metadata": {
        "id": "Uykp_2SIv59B",
        "colab_type": "code",
        "outputId": "4b0b28b9-3a58-47b9-e452-cb2e50f92302",
        "colab": {
          "base_uri": "https://localhost:8080/",
          "height": 34
        }
      },
      "source": [
        "len(coupon_red[coupon_red['CAMPAIGN']==30])"
      ],
      "execution_count": 299,
      "outputs": [
        {
          "output_type": "execute_result",
          "data": {
            "text/plain": [
              "64"
            ]
          },
          "metadata": {
            "tags": []
          },
          "execution_count": 299
        }
      ]
    },
    {
      "cell_type": "code",
      "metadata": {
        "id": "CIJMfeCNwtn3",
        "colab_type": "code",
        "outputId": "61467ea3-1dd5-4355-f6da-3e01d46889b4",
        "colab": {
          "base_uri": "https://localhost:8080/",
          "height": 34
        }
      },
      "source": [
        "len(campaign_table[campaign_table['CAMPAIGN']==30])"
      ],
      "execution_count": 300,
      "outputs": [
        {
          "output_type": "execute_result",
          "data": {
            "text/plain": [
              "361"
            ]
          },
          "metadata": {
            "tags": []
          },
          "execution_count": 300
        }
      ]
    },
    {
      "cell_type": "code",
      "metadata": {
        "id": "5mJmmrrexSG-",
        "colab_type": "code",
        "colab": {}
      },
      "source": [
        "a=pd.read_csv(r'/content/gdrive/My Drive/dunnhumby_The-Complete-Journey/1.1/redeems per coupon.csv')"
      ],
      "execution_count": 0,
      "outputs": []
    },
    {
      "cell_type": "code",
      "metadata": {
        "id": "xR22_OkX-54h",
        "colab_type": "code",
        "outputId": "656adb93-ca8b-4c3e-ef70-d5818b748a36",
        "colab": {
          "base_uri": "https://localhost:8080/",
          "height": 204
        }
      },
      "source": [
        "a.head()"
      ],
      "execution_count": 302,
      "outputs": [
        {
          "output_type": "execute_result",
          "data": {
            "text/html": [
              "<div>\n",
              "<style scoped>\n",
              "    .dataframe tbody tr th:only-of-type {\n",
              "        vertical-align: middle;\n",
              "    }\n",
              "\n",
              "    .dataframe tbody tr th {\n",
              "        vertical-align: top;\n",
              "    }\n",
              "\n",
              "    .dataframe thead th {\n",
              "        text-align: right;\n",
              "    }\n",
              "</style>\n",
              "<table border=\"1\" class=\"dataframe\">\n",
              "  <thead>\n",
              "    <tr style=\"text-align: right;\">\n",
              "      <th></th>\n",
              "      <th>campaign</th>\n",
              "      <th># households reached</th>\n",
              "      <th>#households redeemed</th>\n",
              "      <th>ratio of redeemed by reached</th>\n",
              "    </tr>\n",
              "  </thead>\n",
              "  <tbody>\n",
              "    <tr>\n",
              "      <th>0</th>\n",
              "      <td>1</td>\n",
              "      <td>13</td>\n",
              "      <td>1</td>\n",
              "      <td>0.076923</td>\n",
              "    </tr>\n",
              "    <tr>\n",
              "      <th>1</th>\n",
              "      <td>2</td>\n",
              "      <td>48</td>\n",
              "      <td>5</td>\n",
              "      <td>0.104167</td>\n",
              "    </tr>\n",
              "    <tr>\n",
              "      <th>2</th>\n",
              "      <td>3</td>\n",
              "      <td>12</td>\n",
              "      <td>2</td>\n",
              "      <td>0.166667</td>\n",
              "    </tr>\n",
              "    <tr>\n",
              "      <th>3</th>\n",
              "      <td>4</td>\n",
              "      <td>81</td>\n",
              "      <td>11</td>\n",
              "      <td>0.135802</td>\n",
              "    </tr>\n",
              "    <tr>\n",
              "      <th>4</th>\n",
              "      <td>5</td>\n",
              "      <td>166</td>\n",
              "      <td>13</td>\n",
              "      <td>0.078313</td>\n",
              "    </tr>\n",
              "  </tbody>\n",
              "</table>\n",
              "</div>"
            ],
            "text/plain": [
              "   campaign  # households reached  #households redeemed  \\\n",
              "0         1                    13                     1   \n",
              "1         2                    48                     5   \n",
              "2         3                    12                     2   \n",
              "3         4                    81                    11   \n",
              "4         5                   166                    13   \n",
              "\n",
              "   ratio of redeemed by reached  \n",
              "0                      0.076923  \n",
              "1                      0.104167  \n",
              "2                      0.166667  \n",
              "3                      0.135802  \n",
              "4                      0.078313  "
            ]
          },
          "metadata": {
            "tags": []
          },
          "execution_count": 302
        }
      ]
    },
    {
      "cell_type": "code",
      "metadata": {
        "id": "MDULYpZ9-7st",
        "colab_type": "code",
        "outputId": "d9cb31d5-dfa7-4940-e994-27a8b9d71888",
        "colab": {
          "base_uri": "https://localhost:8080/",
          "height": 979
        }
      },
      "source": [
        "a.sort_values(by=['ratio of redeemed by reached'])"
      ],
      "execution_count": 303,
      "outputs": [
        {
          "output_type": "execute_result",
          "data": {
            "text/html": [
              "<div>\n",
              "<style scoped>\n",
              "    .dataframe tbody tr th:only-of-type {\n",
              "        vertical-align: middle;\n",
              "    }\n",
              "\n",
              "    .dataframe tbody tr th {\n",
              "        vertical-align: top;\n",
              "    }\n",
              "\n",
              "    .dataframe thead th {\n",
              "        text-align: right;\n",
              "    }\n",
              "</style>\n",
              "<table border=\"1\" class=\"dataframe\">\n",
              "  <thead>\n",
              "    <tr style=\"text-align: right;\">\n",
              "      <th></th>\n",
              "      <th>campaign</th>\n",
              "      <th># households reached</th>\n",
              "      <th>#households redeemed</th>\n",
              "      <th>ratio of redeemed by reached</th>\n",
              "    </tr>\n",
              "  </thead>\n",
              "  <tbody>\n",
              "    <tr>\n",
              "      <th>5</th>\n",
              "      <td>6</td>\n",
              "      <td>65</td>\n",
              "      <td>1</td>\n",
              "      <td>0.015385</td>\n",
              "    </tr>\n",
              "    <tr>\n",
              "      <th>6</th>\n",
              "      <td>7</td>\n",
              "      <td>198</td>\n",
              "      <td>7</td>\n",
              "      <td>0.035354</td>\n",
              "    </tr>\n",
              "    <tr>\n",
              "      <th>10</th>\n",
              "      <td>11</td>\n",
              "      <td>214</td>\n",
              "      <td>8</td>\n",
              "      <td>0.037383</td>\n",
              "    </tr>\n",
              "    <tr>\n",
              "      <th>27</th>\n",
              "      <td>28</td>\n",
              "      <td>17</td>\n",
              "      <td>1</td>\n",
              "      <td>0.058824</td>\n",
              "    </tr>\n",
              "    <tr>\n",
              "      <th>0</th>\n",
              "      <td>1</td>\n",
              "      <td>13</td>\n",
              "      <td>1</td>\n",
              "      <td>0.076923</td>\n",
              "    </tr>\n",
              "    <tr>\n",
              "      <th>20</th>\n",
              "      <td>21</td>\n",
              "      <td>65</td>\n",
              "      <td>5</td>\n",
              "      <td>0.076923</td>\n",
              "    </tr>\n",
              "    <tr>\n",
              "      <th>4</th>\n",
              "      <td>5</td>\n",
              "      <td>166</td>\n",
              "      <td>13</td>\n",
              "      <td>0.078313</td>\n",
              "    </tr>\n",
              "    <tr>\n",
              "      <th>26</th>\n",
              "      <td>27</td>\n",
              "      <td>12</td>\n",
              "      <td>1</td>\n",
              "      <td>0.083333</td>\n",
              "    </tr>\n",
              "    <tr>\n",
              "      <th>23</th>\n",
              "      <td>24</td>\n",
              "      <td>100</td>\n",
              "      <td>10</td>\n",
              "      <td>0.100000</td>\n",
              "    </tr>\n",
              "    <tr>\n",
              "      <th>1</th>\n",
              "      <td>2</td>\n",
              "      <td>48</td>\n",
              "      <td>5</td>\n",
              "      <td>0.104167</td>\n",
              "    </tr>\n",
              "    <tr>\n",
              "      <th>14</th>\n",
              "      <td>15</td>\n",
              "      <td>17</td>\n",
              "      <td>2</td>\n",
              "      <td>0.117647</td>\n",
              "    </tr>\n",
              "    <tr>\n",
              "      <th>9</th>\n",
              "      <td>10</td>\n",
              "      <td>123</td>\n",
              "      <td>15</td>\n",
              "      <td>0.121951</td>\n",
              "    </tr>\n",
              "    <tr>\n",
              "      <th>19</th>\n",
              "      <td>20</td>\n",
              "      <td>244</td>\n",
              "      <td>33</td>\n",
              "      <td>0.135246</td>\n",
              "    </tr>\n",
              "    <tr>\n",
              "      <th>3</th>\n",
              "      <td>4</td>\n",
              "      <td>81</td>\n",
              "      <td>11</td>\n",
              "      <td>0.135802</td>\n",
              "    </tr>\n",
              "    <tr>\n",
              "      <th>13</th>\n",
              "      <td>14</td>\n",
              "      <td>224</td>\n",
              "      <td>34</td>\n",
              "      <td>0.151786</td>\n",
              "    </tr>\n",
              "    <tr>\n",
              "      <th>11</th>\n",
              "      <td>12</td>\n",
              "      <td>170</td>\n",
              "      <td>26</td>\n",
              "      <td>0.152941</td>\n",
              "    </tr>\n",
              "    <tr>\n",
              "      <th>2</th>\n",
              "      <td>3</td>\n",
              "      <td>12</td>\n",
              "      <td>2</td>\n",
              "      <td>0.166667</td>\n",
              "    </tr>\n",
              "    <tr>\n",
              "      <th>21</th>\n",
              "      <td>22</td>\n",
              "      <td>276</td>\n",
              "      <td>47</td>\n",
              "      <td>0.170290</td>\n",
              "    </tr>\n",
              "    <tr>\n",
              "      <th>29</th>\n",
              "      <td>30</td>\n",
              "      <td>361</td>\n",
              "      <td>64</td>\n",
              "      <td>0.177285</td>\n",
              "    </tr>\n",
              "    <tr>\n",
              "      <th>28</th>\n",
              "      <td>29</td>\n",
              "      <td>118</td>\n",
              "      <td>24</td>\n",
              "      <td>0.203390</td>\n",
              "    </tr>\n",
              "    <tr>\n",
              "      <th>25</th>\n",
              "      <td>26</td>\n",
              "      <td>332</td>\n",
              "      <td>73</td>\n",
              "      <td>0.219880</td>\n",
              "    </tr>\n",
              "    <tr>\n",
              "      <th>16</th>\n",
              "      <td>17</td>\n",
              "      <td>202</td>\n",
              "      <td>45</td>\n",
              "      <td>0.222772</td>\n",
              "    </tr>\n",
              "    <tr>\n",
              "      <th>18</th>\n",
              "      <td>19</td>\n",
              "      <td>130</td>\n",
              "      <td>29</td>\n",
              "      <td>0.223077</td>\n",
              "    </tr>\n",
              "    <tr>\n",
              "      <th>15</th>\n",
              "      <td>16</td>\n",
              "      <td>188</td>\n",
              "      <td>43</td>\n",
              "      <td>0.228723</td>\n",
              "    </tr>\n",
              "    <tr>\n",
              "      <th>8</th>\n",
              "      <td>9</td>\n",
              "      <td>176</td>\n",
              "      <td>43</td>\n",
              "      <td>0.244318</td>\n",
              "    </tr>\n",
              "    <tr>\n",
              "      <th>24</th>\n",
              "      <td>25</td>\n",
              "      <td>187</td>\n",
              "      <td>61</td>\n",
              "      <td>0.326203</td>\n",
              "    </tr>\n",
              "    <tr>\n",
              "      <th>22</th>\n",
              "      <td>23</td>\n",
              "      <td>183</td>\n",
              "      <td>60</td>\n",
              "      <td>0.327869</td>\n",
              "    </tr>\n",
              "    <tr>\n",
              "      <th>7</th>\n",
              "      <td>8</td>\n",
              "      <td>1076</td>\n",
              "      <td>372</td>\n",
              "      <td>0.345725</td>\n",
              "    </tr>\n",
              "    <tr>\n",
              "      <th>17</th>\n",
              "      <td>18</td>\n",
              "      <td>1133</td>\n",
              "      <td>653</td>\n",
              "      <td>0.576346</td>\n",
              "    </tr>\n",
              "    <tr>\n",
              "      <th>12</th>\n",
              "      <td>13</td>\n",
              "      <td>1077</td>\n",
              "      <td>629</td>\n",
              "      <td>0.584030</td>\n",
              "    </tr>\n",
              "  </tbody>\n",
              "</table>\n",
              "</div>"
            ],
            "text/plain": [
              "    campaign  # households reached  #households redeemed  \\\n",
              "5          6                    65                     1   \n",
              "6          7                   198                     7   \n",
              "10        11                   214                     8   \n",
              "27        28                    17                     1   \n",
              "0          1                    13                     1   \n",
              "20        21                    65                     5   \n",
              "4          5                   166                    13   \n",
              "26        27                    12                     1   \n",
              "23        24                   100                    10   \n",
              "1          2                    48                     5   \n",
              "14        15                    17                     2   \n",
              "9         10                   123                    15   \n",
              "19        20                   244                    33   \n",
              "3          4                    81                    11   \n",
              "13        14                   224                    34   \n",
              "11        12                   170                    26   \n",
              "2          3                    12                     2   \n",
              "21        22                   276                    47   \n",
              "29        30                   361                    64   \n",
              "28        29                   118                    24   \n",
              "25        26                   332                    73   \n",
              "16        17                   202                    45   \n",
              "18        19                   130                    29   \n",
              "15        16                   188                    43   \n",
              "8          9                   176                    43   \n",
              "24        25                   187                    61   \n",
              "22        23                   183                    60   \n",
              "7          8                  1076                   372   \n",
              "17        18                  1133                   653   \n",
              "12        13                  1077                   629   \n",
              "\n",
              "    ratio of redeemed by reached  \n",
              "5                       0.015385  \n",
              "6                       0.035354  \n",
              "10                      0.037383  \n",
              "27                      0.058824  \n",
              "0                       0.076923  \n",
              "20                      0.076923  \n",
              "4                       0.078313  \n",
              "26                      0.083333  \n",
              "23                      0.100000  \n",
              "1                       0.104167  \n",
              "14                      0.117647  \n",
              "9                       0.121951  \n",
              "19                      0.135246  \n",
              "3                       0.135802  \n",
              "13                      0.151786  \n",
              "11                      0.152941  \n",
              "2                       0.166667  \n",
              "21                      0.170290  \n",
              "29                      0.177285  \n",
              "28                      0.203390  \n",
              "25                      0.219880  \n",
              "16                      0.222772  \n",
              "18                      0.223077  \n",
              "15                      0.228723  \n",
              "8                       0.244318  \n",
              "24                      0.326203  \n",
              "22                      0.327869  \n",
              "7                       0.345725  \n",
              "17                      0.576346  \n",
              "12                      0.584030  "
            ]
          },
          "metadata": {
            "tags": []
          },
          "execution_count": 303
        }
      ]
    },
    {
      "cell_type": "code",
      "metadata": {
        "id": "ZlJL2uAF_gf_",
        "colab_type": "code",
        "outputId": "a924b44a-91fa-44dc-af98-4e9c88713cd3",
        "colab": {
          "base_uri": "https://localhost:8080/",
          "height": 284
        }
      },
      "source": [
        "result = a.groupby([\"campaign\"])['# households reached'].aggregate(np.median).reset_index().sort_values('# households reached')\n",
        "sns.barplot(x='campaign', y=\"# households reached\", data=a, order=result['campaign']) #formerly: sns.barplot(x='Campaigns', y=\"redemption rate\", data=a, palette=colors, order=result['Id'])\n",
        "plt.xticks(rotation=30)\n",
        "plt.show()"
      ],
      "execution_count": 395,
      "outputs": [
        {
          "output_type": "display_data",
          "data": {
            "image/png": "[encoded data removed]",
            "text/plain": [
              "<Figure size 432x288 with 1 Axes>"
            ]
          },
          "metadata": {
            "tags": []
          }
        }
      ]
    },
    {
      "cell_type": "code",
      "metadata": {
        "id": "YySgYGIKBfDi",
        "colab_type": "code",
        "outputId": "1f6f3e6b-3f4d-49bb-e417-7d0513eea8fb",
        "colab": {
          "base_uri": "https://localhost:8080/",
          "height": 284
        }
      },
      "source": [
        "result = a.groupby([\"campaign\"])['ratio of redeemed by reached'].aggregate(np.median).reset_index().sort_values('ratio of redeemed by reached')\n",
        "sns.barplot(x='campaign', y=\"ratio of redeemed by reached\", data=a, order=result['campaign']) #formerly: sns.barplot(x='Campaigns', y=\"redemption rate\", data=a, palette=colors, order=result['Id'])\n",
        "plt.xticks(rotation=30)\n",
        "plt.show()"
      ],
      "execution_count": 394,
      "outputs": [
        {
          "output_type": "display_data",
          "data": {
            "image/png": "[encoded data removed]",
            "text/plain": [
              "<Figure size 432x288 with 1 Axes>"
            ]
          },
          "metadata": {
            "tags": []
          }
        }
      ]
    },
    {
      "cell_type": "code",
      "metadata": {
        "id": "XtuHecamRna_",
        "colab_type": "code",
        "outputId": "f7a791b0-3c89-4d3e-82d5-2c3d3a1cd7f1",
        "colab": {
          "base_uri": "https://localhost:8080/",
          "height": 204
        }
      },
      "source": [
        "product.head()"
      ],
      "execution_count": 306,
      "outputs": [
        {
          "output_type": "execute_result",
          "data": {
            "text/html": [
              "<div>\n",
              "<style scoped>\n",
              "    .dataframe tbody tr th:only-of-type {\n",
              "        vertical-align: middle;\n",
              "    }\n",
              "\n",
              "    .dataframe tbody tr th {\n",
              "        vertical-align: top;\n",
              "    }\n",
              "\n",
              "    .dataframe thead th {\n",
              "        text-align: right;\n",
              "    }\n",
              "</style>\n",
              "<table border=\"1\" class=\"dataframe\">\n",
              "  <thead>\n",
              "    <tr style=\"text-align: right;\">\n",
              "      <th></th>\n",
              "      <th>PRODUCT_ID</th>\n",
              "      <th>MANUFACTURER</th>\n",
              "      <th>DEPARTMENT</th>\n",
              "      <th>BRAND</th>\n",
              "      <th>COMMODITY_DESC</th>\n",
              "      <th>SUB_COMMODITY_DESC</th>\n",
              "      <th>CURR_SIZE_OF_PRODUCT</th>\n",
              "    </tr>\n",
              "  </thead>\n",
              "  <tbody>\n",
              "    <tr>\n",
              "      <th>0</th>\n",
              "      <td>25671</td>\n",
              "      <td>2</td>\n",
              "      <td>GROCERY</td>\n",
              "      <td>National</td>\n",
              "      <td>FRZN ICE</td>\n",
              "      <td>ICE - CRUSHED/CUBED</td>\n",
              "      <td>22 LB</td>\n",
              "    </tr>\n",
              "    <tr>\n",
              "      <th>1</th>\n",
              "      <td>26081</td>\n",
              "      <td>2</td>\n",
              "      <td>MISC. TRANS.</td>\n",
              "      <td>National</td>\n",
              "      <td>NO COMMODITY DESCRIPTION</td>\n",
              "      <td>NO SUBCOMMODITY DESCRIPTION</td>\n",
              "      <td></td>\n",
              "    </tr>\n",
              "    <tr>\n",
              "      <th>2</th>\n",
              "      <td>26093</td>\n",
              "      <td>69</td>\n",
              "      <td>PASTRY</td>\n",
              "      <td>Private</td>\n",
              "      <td>BREAD</td>\n",
              "      <td>BREAD:ITALIAN/FRENCH</td>\n",
              "      <td></td>\n",
              "    </tr>\n",
              "    <tr>\n",
              "      <th>3</th>\n",
              "      <td>26190</td>\n",
              "      <td>69</td>\n",
              "      <td>GROCERY</td>\n",
              "      <td>Private</td>\n",
              "      <td>FRUIT - SHELF STABLE</td>\n",
              "      <td>APPLE SAUCE</td>\n",
              "      <td>50 OZ</td>\n",
              "    </tr>\n",
              "    <tr>\n",
              "      <th>4</th>\n",
              "      <td>26355</td>\n",
              "      <td>69</td>\n",
              "      <td>GROCERY</td>\n",
              "      <td>Private</td>\n",
              "      <td>COOKIES/CONES</td>\n",
              "      <td>SPECIALTY COOKIES</td>\n",
              "      <td>14 OZ</td>\n",
              "    </tr>\n",
              "  </tbody>\n",
              "</table>\n",
              "</div>"
            ],
            "text/plain": [
              "   PRODUCT_ID  MANUFACTURER    DEPARTMENT     BRAND            COMMODITY_DESC  \\\n",
              "0       25671             2       GROCERY  National                  FRZN ICE   \n",
              "1       26081             2  MISC. TRANS.  National  NO COMMODITY DESCRIPTION   \n",
              "2       26093            69        PASTRY   Private                     BREAD   \n",
              "3       26190            69       GROCERY   Private      FRUIT - SHELF STABLE   \n",
              "4       26355            69       GROCERY   Private             COOKIES/CONES   \n",
              "\n",
              "            SUB_COMMODITY_DESC CURR_SIZE_OF_PRODUCT  \n",
              "0          ICE - CRUSHED/CUBED                22 LB  \n",
              "1  NO SUBCOMMODITY DESCRIPTION                       \n",
              "2         BREAD:ITALIAN/FRENCH                       \n",
              "3                  APPLE SAUCE                50 OZ  \n",
              "4            SPECIALTY COOKIES                14 OZ  "
            ]
          },
          "metadata": {
            "tags": []
          },
          "execution_count": 306
        }
      ]
    },
    {
      "cell_type": "code",
      "metadata": {
        "id": "HlT-13tbRp5e",
        "colab_type": "code",
        "colab": {}
      },
      "source": [
        "p1=product[product['SUB_COMMODITY_DESC']=='FRZN FRENCH FRIES']"
      ],
      "execution_count": 0,
      "outputs": []
    },
    {
      "cell_type": "code",
      "metadata": {
        "id": "GJoq_pL2VSTj",
        "colab_type": "code",
        "outputId": "525114f4-3859-45aa-fc5c-84ab6ea1041a",
        "colab": {
          "base_uri": "https://localhost:8080/",
          "height": 289
        }
      },
      "source": [
        "(p1['CURR_SIZE_OF_PRODUCT'].value_counts()/len(p1['CURR_SIZE_OF_PRODUCT']))*100"
      ],
      "execution_count": 308,
      "outputs": [
        {
          "output_type": "execute_result",
          "data": {
            "text/plain": [
              "28 OZ      24.675325\n",
              "26 OZ      19.480519\n",
              "32 OZ      12.987013\n",
              "24 OZ       7.792208\n",
              "20 OZ       7.792208\n",
              "5 LB        3.896104\n",
              "30 OZ       3.896104\n",
              "22 OZ       3.896104\n",
              "2 LB        3.896104\n",
              "4.75 OZ     2.597403\n",
              "16 OZ       2.597403\n",
              "32OZ        2.597403\n",
              "8 LB        1.298701\n",
              "80 OZ       1.298701\n",
              "5LB         1.298701\n",
              "Name: CURR_SIZE_OF_PRODUCT, dtype: float64"
            ]
          },
          "metadata": {
            "tags": []
          },
          "execution_count": 308
        }
      ]
    },
    {
      "cell_type": "code",
      "metadata": {
        "id": "a7AhyDH6x3Xs",
        "colab_type": "code",
        "outputId": "06bc4724-5534-4287-8eec-954fc7fff85f",
        "colab": {
          "base_uri": "https://localhost:8080/",
          "height": 359
        }
      },
      "source": [
        "p1[p1['CURR_SIZE_OF_PRODUCT']=='32 OZ']"
      ],
      "execution_count": 309,
      "outputs": [
        {
          "output_type": "execute_result",
          "data": {
            "text/html": [
              "<div>\n",
              "<style scoped>\n",
              "    .dataframe tbody tr th:only-of-type {\n",
              "        vertical-align: middle;\n",
              "    }\n",
              "\n",
              "    .dataframe tbody tr th {\n",
              "        vertical-align: top;\n",
              "    }\n",
              "\n",
              "    .dataframe thead th {\n",
              "        text-align: right;\n",
              "    }\n",
              "</style>\n",
              "<table border=\"1\" class=\"dataframe\">\n",
              "  <thead>\n",
              "    <tr style=\"text-align: right;\">\n",
              "      <th></th>\n",
              "      <th>PRODUCT_ID</th>\n",
              "      <th>MANUFACTURER</th>\n",
              "      <th>DEPARTMENT</th>\n",
              "      <th>BRAND</th>\n",
              "      <th>COMMODITY_DESC</th>\n",
              "      <th>SUB_COMMODITY_DESC</th>\n",
              "      <th>CURR_SIZE_OF_PRODUCT</th>\n",
              "    </tr>\n",
              "  </thead>\n",
              "  <tbody>\n",
              "    <tr>\n",
              "      <th>937</th>\n",
              "      <td>56663</td>\n",
              "      <td>69</td>\n",
              "      <td>GROCERY</td>\n",
              "      <td>Private</td>\n",
              "      <td>FRZN POTATOES</td>\n",
              "      <td>FRZN FRENCH FRIES</td>\n",
              "      <td>32 OZ</td>\n",
              "    </tr>\n",
              "    <tr>\n",
              "      <th>4430</th>\n",
              "      <td>548254</td>\n",
              "      <td>69</td>\n",
              "      <td>GROCERY</td>\n",
              "      <td>Private</td>\n",
              "      <td>FRZN POTATOES</td>\n",
              "      <td>FRZN FRENCH FRIES</td>\n",
              "      <td>32 OZ</td>\n",
              "    </tr>\n",
              "    <tr>\n",
              "      <th>5418</th>\n",
              "      <td>741468</td>\n",
              "      <td>895</td>\n",
              "      <td>GROCERY</td>\n",
              "      <td>Private</td>\n",
              "      <td>FRZN POTATOES</td>\n",
              "      <td>FRZN FRENCH FRIES</td>\n",
              "      <td>32 OZ</td>\n",
              "    </tr>\n",
              "    <tr>\n",
              "      <th>33509</th>\n",
              "      <td>1063872</td>\n",
              "      <td>895</td>\n",
              "      <td>GROCERY</td>\n",
              "      <td>Private</td>\n",
              "      <td>FRZN POTATOES</td>\n",
              "      <td>FRZN FRENCH FRIES</td>\n",
              "      <td>32 OZ</td>\n",
              "    </tr>\n",
              "    <tr>\n",
              "      <th>34267</th>\n",
              "      <td>1070898</td>\n",
              "      <td>135</td>\n",
              "      <td>GROCERY</td>\n",
              "      <td>National</td>\n",
              "      <td>FRZN POTATOES</td>\n",
              "      <td>FRZN FRENCH FRIES</td>\n",
              "      <td>32 OZ</td>\n",
              "    </tr>\n",
              "    <tr>\n",
              "      <th>34827</th>\n",
              "      <td>1075918</td>\n",
              "      <td>135</td>\n",
              "      <td>GROCERY</td>\n",
              "      <td>National</td>\n",
              "      <td>FRZN POTATOES</td>\n",
              "      <td>FRZN FRENCH FRIES</td>\n",
              "      <td>32 OZ</td>\n",
              "    </tr>\n",
              "    <tr>\n",
              "      <th>48367</th>\n",
              "      <td>1933734</td>\n",
              "      <td>69</td>\n",
              "      <td>GROCERY</td>\n",
              "      <td>Private</td>\n",
              "      <td>FRZN POTATOES</td>\n",
              "      <td>FRZN FRENCH FRIES</td>\n",
              "      <td>32 OZ</td>\n",
              "    </tr>\n",
              "    <tr>\n",
              "      <th>82094</th>\n",
              "      <td>13190277</td>\n",
              "      <td>69</td>\n",
              "      <td>GROCERY</td>\n",
              "      <td>Private</td>\n",
              "      <td>FRZN POTATOES</td>\n",
              "      <td>FRZN FRENCH FRIES</td>\n",
              "      <td>32 OZ</td>\n",
              "    </tr>\n",
              "    <tr>\n",
              "      <th>82195</th>\n",
              "      <td>13193765</td>\n",
              "      <td>69</td>\n",
              "      <td>GROCERY</td>\n",
              "      <td>Private</td>\n",
              "      <td>FRZN POTATOES</td>\n",
              "      <td>FRZN FRENCH FRIES</td>\n",
              "      <td>32 OZ</td>\n",
              "    </tr>\n",
              "    <tr>\n",
              "      <th>82204</th>\n",
              "      <td>13210004</td>\n",
              "      <td>69</td>\n",
              "      <td>GROCERY</td>\n",
              "      <td>Private</td>\n",
              "      <td>FRZN POTATOES</td>\n",
              "      <td>FRZN FRENCH FRIES</td>\n",
              "      <td>32 OZ</td>\n",
              "    </tr>\n",
              "  </tbody>\n",
              "</table>\n",
              "</div>"
            ],
            "text/plain": [
              "       PRODUCT_ID  MANUFACTURER DEPARTMENT     BRAND COMMODITY_DESC  \\\n",
              "937         56663            69    GROCERY   Private  FRZN POTATOES   \n",
              "4430       548254            69    GROCERY   Private  FRZN POTATOES   \n",
              "5418       741468           895    GROCERY   Private  FRZN POTATOES   \n",
              "33509     1063872           895    GROCERY   Private  FRZN POTATOES   \n",
              "34267     1070898           135    GROCERY  National  FRZN POTATOES   \n",
              "34827     1075918           135    GROCERY  National  FRZN POTATOES   \n",
              "48367     1933734            69    GROCERY   Private  FRZN POTATOES   \n",
              "82094    13190277            69    GROCERY   Private  FRZN POTATOES   \n",
              "82195    13193765            69    GROCERY   Private  FRZN POTATOES   \n",
              "82204    13210004            69    GROCERY   Private  FRZN POTATOES   \n",
              "\n",
              "      SUB_COMMODITY_DESC CURR_SIZE_OF_PRODUCT  \n",
              "937    FRZN FRENCH FRIES                32 OZ  \n",
              "4430   FRZN FRENCH FRIES                32 OZ  \n",
              "5418   FRZN FRENCH FRIES                32 OZ  \n",
              "33509  FRZN FRENCH FRIES                32 OZ  \n",
              "34267  FRZN FRENCH FRIES                32 OZ  \n",
              "34827  FRZN FRENCH FRIES                32 OZ  \n",
              "48367  FRZN FRENCH FRIES                32 OZ  \n",
              "82094  FRZN FRENCH FRIES                32 OZ  \n",
              "82195  FRZN FRENCH FRIES                32 OZ  \n",
              "82204  FRZN FRENCH FRIES                32 OZ  "
            ]
          },
          "metadata": {
            "tags": []
          },
          "execution_count": 309
        }
      ]
    },
    {
      "cell_type": "code",
      "metadata": {
        "id": "eyKb4hNRzFFz",
        "colab_type": "code",
        "outputId": "a05dc3f6-8baa-4369-a2b5-38af69989710",
        "colab": {
          "base_uri": "https://localhost:8080/",
          "height": 80
        }
      },
      "source": [
        "transaction[transaction['PRODUCT_ID']==548254\t]"
      ],
      "execution_count": 310,
      "outputs": [
        {
          "output_type": "execute_result",
          "data": {
            "text/html": [
              "<div>\n",
              "<style scoped>\n",
              "    .dataframe tbody tr th:only-of-type {\n",
              "        vertical-align: middle;\n",
              "    }\n",
              "\n",
              "    .dataframe tbody tr th {\n",
              "        vertical-align: top;\n",
              "    }\n",
              "\n",
              "    .dataframe thead th {\n",
              "        text-align: right;\n",
              "    }\n",
              "</style>\n",
              "<table border=\"1\" class=\"dataframe\">\n",
              "  <thead>\n",
              "    <tr style=\"text-align: right;\">\n",
              "      <th></th>\n",
              "      <th>household_key</th>\n",
              "      <th>BASKET_ID</th>\n",
              "      <th>DAY</th>\n",
              "      <th>PRODUCT_ID</th>\n",
              "      <th>QUANTITY</th>\n",
              "      <th>SALES_VALUE</th>\n",
              "      <th>STORE_ID</th>\n",
              "      <th>RETAIL_DISC</th>\n",
              "      <th>TRANS_TIME</th>\n",
              "      <th>WEEK_NO</th>\n",
              "      <th>COUPON_DISC</th>\n",
              "      <th>COUPON_MATCH_DISC</th>\n",
              "    </tr>\n",
              "  </thead>\n",
              "  <tbody>\n",
              "    <tr>\n",
              "      <th>2047225</th>\n",
              "      <td>1764</td>\n",
              "      <td>40447368538</td>\n",
              "      <td>577</td>\n",
              "      <td>548254</td>\n",
              "      <td>1</td>\n",
              "      <td>1.67</td>\n",
              "      <td>46</td>\n",
              "      <td>-0.02</td>\n",
              "      <td>2221</td>\n",
              "      <td>83</td>\n",
              "      <td>0.0</td>\n",
              "      <td>0.0</td>\n",
              "    </tr>\n",
              "  </tbody>\n",
              "</table>\n",
              "</div>"
            ],
            "text/plain": [
              "         household_key    BASKET_ID  DAY  PRODUCT_ID  QUANTITY  SALES_VALUE  \\\n",
              "2047225           1764  40447368538  577      548254         1         1.67   \n",
              "\n",
              "         STORE_ID  RETAIL_DISC  TRANS_TIME  WEEK_NO  COUPON_DISC  \\\n",
              "2047225        46        -0.02        2221       83          0.0   \n",
              "\n",
              "         COUPON_MATCH_DISC  \n",
              "2047225                0.0  "
            ]
          },
          "metadata": {
            "tags": []
          },
          "execution_count": 310
        }
      ]
    },
    {
      "cell_type": "code",
      "metadata": {
        "id": "Xdmg3fLW3irj",
        "colab_type": "code",
        "outputId": "8defba3e-7b1d-406d-ee8b-a9e8df9d4044",
        "colab": {
          "base_uri": "https://localhost:8080/",
          "height": 80
        }
      },
      "source": [
        "transaction[transaction['PRODUCT_ID']==741468\t]"
      ],
      "execution_count": 311,
      "outputs": [
        {
          "output_type": "execute_result",
          "data": {
            "text/html": [
              "<div>\n",
              "<style scoped>\n",
              "    .dataframe tbody tr th:only-of-type {\n",
              "        vertical-align: middle;\n",
              "    }\n",
              "\n",
              "    .dataframe tbody tr th {\n",
              "        vertical-align: top;\n",
              "    }\n",
              "\n",
              "    .dataframe thead th {\n",
              "        text-align: right;\n",
              "    }\n",
              "</style>\n",
              "<table border=\"1\" class=\"dataframe\">\n",
              "  <thead>\n",
              "    <tr style=\"text-align: right;\">\n",
              "      <th></th>\n",
              "      <th>household_key</th>\n",
              "      <th>BASKET_ID</th>\n",
              "      <th>DAY</th>\n",
              "      <th>PRODUCT_ID</th>\n",
              "      <th>QUANTITY</th>\n",
              "      <th>SALES_VALUE</th>\n",
              "      <th>STORE_ID</th>\n",
              "      <th>RETAIL_DISC</th>\n",
              "      <th>TRANS_TIME</th>\n",
              "      <th>WEEK_NO</th>\n",
              "      <th>COUPON_DISC</th>\n",
              "      <th>COUPON_MATCH_DISC</th>\n",
              "    </tr>\n",
              "  </thead>\n",
              "  <tbody>\n",
              "    <tr>\n",
              "      <th>169832</th>\n",
              "      <td>1051</td>\n",
              "      <td>28221003982</td>\n",
              "      <td>103</td>\n",
              "      <td>741468</td>\n",
              "      <td>2</td>\n",
              "      <td>1.76</td>\n",
              "      <td>176</td>\n",
              "      <td>0.0</td>\n",
              "      <td>1837</td>\n",
              "      <td>15</td>\n",
              "      <td>0.0</td>\n",
              "      <td>0.0</td>\n",
              "    </tr>\n",
              "  </tbody>\n",
              "</table>\n",
              "</div>"
            ],
            "text/plain": [
              "        household_key    BASKET_ID  DAY  PRODUCT_ID  QUANTITY  SALES_VALUE  \\\n",
              "169832           1051  28221003982  103      741468         2         1.76   \n",
              "\n",
              "        STORE_ID  RETAIL_DISC  TRANS_TIME  WEEK_NO  COUPON_DISC  \\\n",
              "169832       176          0.0        1837       15          0.0   \n",
              "\n",
              "        COUPON_MATCH_DISC  \n",
              "169832                0.0  "
            ]
          },
          "metadata": {
            "tags": []
          },
          "execution_count": 311
        }
      ]
    },
    {
      "cell_type": "code",
      "metadata": {
        "id": "n4Fz9CRg3xid",
        "colab_type": "code",
        "outputId": "7639c018-005b-4496-b350-2fb1cf7e7f29",
        "colab": {
          "base_uri": "https://localhost:8080/",
          "height": 204
        }
      },
      "source": [
        "transaction[transaction['PRODUCT_ID']==1063872\t].head()"
      ],
      "execution_count": 328,
      "outputs": [
        {
          "output_type": "execute_result",
          "data": {
            "text/html": [
              "<div>\n",
              "<style scoped>\n",
              "    .dataframe tbody tr th:only-of-type {\n",
              "        vertical-align: middle;\n",
              "    }\n",
              "\n",
              "    .dataframe tbody tr th {\n",
              "        vertical-align: top;\n",
              "    }\n",
              "\n",
              "    .dataframe thead th {\n",
              "        text-align: right;\n",
              "    }\n",
              "</style>\n",
              "<table border=\"1\" class=\"dataframe\">\n",
              "  <thead>\n",
              "    <tr style=\"text-align: right;\">\n",
              "      <th></th>\n",
              "      <th>household_key</th>\n",
              "      <th>BASKET_ID</th>\n",
              "      <th>DAY</th>\n",
              "      <th>PRODUCT_ID</th>\n",
              "      <th>QUANTITY</th>\n",
              "      <th>SALES_VALUE</th>\n",
              "      <th>STORE_ID</th>\n",
              "      <th>RETAIL_DISC</th>\n",
              "      <th>TRANS_TIME</th>\n",
              "      <th>WEEK_NO</th>\n",
              "      <th>COUPON_DISC</th>\n",
              "      <th>COUPON_MATCH_DISC</th>\n",
              "    </tr>\n",
              "  </thead>\n",
              "  <tbody>\n",
              "    <tr>\n",
              "      <th>1937</th>\n",
              "      <td>1371</td>\n",
              "      <td>27045516900</td>\n",
              "      <td>6</td>\n",
              "      <td>1063872</td>\n",
              "      <td>1</td>\n",
              "      <td>0.99</td>\n",
              "      <td>330</td>\n",
              "      <td>0.0</td>\n",
              "      <td>1714</td>\n",
              "      <td>2</td>\n",
              "      <td>0.0</td>\n",
              "      <td>0.0</td>\n",
              "    </tr>\n",
              "    <tr>\n",
              "      <th>17357</th>\n",
              "      <td>1599</td>\n",
              "      <td>27325681001</td>\n",
              "      <td>29</td>\n",
              "      <td>1063872</td>\n",
              "      <td>1</td>\n",
              "      <td>0.99</td>\n",
              "      <td>340</td>\n",
              "      <td>0.0</td>\n",
              "      <td>1558</td>\n",
              "      <td>5</td>\n",
              "      <td>0.0</td>\n",
              "      <td>0.0</td>\n",
              "    </tr>\n",
              "    <tr>\n",
              "      <th>29669</th>\n",
              "      <td>2157</td>\n",
              "      <td>27442586462</td>\n",
              "      <td>39</td>\n",
              "      <td>1063872</td>\n",
              "      <td>1</td>\n",
              "      <td>0.99</td>\n",
              "      <td>341</td>\n",
              "      <td>0.0</td>\n",
              "      <td>1437</td>\n",
              "      <td>6</td>\n",
              "      <td>0.0</td>\n",
              "      <td>0.0</td>\n",
              "    </tr>\n",
              "    <tr>\n",
              "      <th>34131</th>\n",
              "      <td>2143</td>\n",
              "      <td>27481439075</td>\n",
              "      <td>42</td>\n",
              "      <td>1063872</td>\n",
              "      <td>1</td>\n",
              "      <td>0.99</td>\n",
              "      <td>318</td>\n",
              "      <td>0.0</td>\n",
              "      <td>2317</td>\n",
              "      <td>7</td>\n",
              "      <td>0.0</td>\n",
              "      <td>0.0</td>\n",
              "    </tr>\n",
              "    <tr>\n",
              "      <th>75470</th>\n",
              "      <td>2452</td>\n",
              "      <td>27798082004</td>\n",
              "      <td>69</td>\n",
              "      <td>1063872</td>\n",
              "      <td>1</td>\n",
              "      <td>1.09</td>\n",
              "      <td>297</td>\n",
              "      <td>0.0</td>\n",
              "      <td>2058</td>\n",
              "      <td>11</td>\n",
              "      <td>0.0</td>\n",
              "      <td>0.0</td>\n",
              "    </tr>\n",
              "  </tbody>\n",
              "</table>\n",
              "</div>"
            ],
            "text/plain": [
              "       household_key    BASKET_ID  DAY  PRODUCT_ID  QUANTITY  SALES_VALUE  \\\n",
              "1937            1371  27045516900    6     1063872         1         0.99   \n",
              "17357           1599  27325681001   29     1063872         1         0.99   \n",
              "29669           2157  27442586462   39     1063872         1         0.99   \n",
              "34131           2143  27481439075   42     1063872         1         0.99   \n",
              "75470           2452  27798082004   69     1063872         1         1.09   \n",
              "\n",
              "       STORE_ID  RETAIL_DISC  TRANS_TIME  WEEK_NO  COUPON_DISC  \\\n",
              "1937        330          0.0        1714        2          0.0   \n",
              "17357       340          0.0        1558        5          0.0   \n",
              "29669       341          0.0        1437        6          0.0   \n",
              "34131       318          0.0        2317        7          0.0   \n",
              "75470       297          0.0        2058       11          0.0   \n",
              "\n",
              "       COUPON_MATCH_DISC  \n",
              "1937                 0.0  \n",
              "17357                0.0  \n",
              "29669                0.0  \n",
              "34131                0.0  \n",
              "75470                0.0  "
            ]
          },
          "metadata": {
            "tags": []
          },
          "execution_count": 328
        }
      ]
    },
    {
      "cell_type": "code",
      "metadata": {
        "id": "pHD0N0dQ33rZ",
        "colab_type": "code",
        "colab": {
          "base_uri": "https://localhost:8080/",
          "height": 204
        },
        "outputId": "47d5cb10-97ab-4ec4-abf2-d5bb8ede1ef7"
      },
      "source": [
        "transaction[transaction['PRODUCT_ID']==1070898\t].head()"
      ],
      "execution_count": 329,
      "outputs": [
        {
          "output_type": "execute_result",
          "data": {
            "text/html": [
              "<div>\n",
              "<style scoped>\n",
              "    .dataframe tbody tr th:only-of-type {\n",
              "        vertical-align: middle;\n",
              "    }\n",
              "\n",
              "    .dataframe tbody tr th {\n",
              "        vertical-align: top;\n",
              "    }\n",
              "\n",
              "    .dataframe thead th {\n",
              "        text-align: right;\n",
              "    }\n",
              "</style>\n",
              "<table border=\"1\" class=\"dataframe\">\n",
              "  <thead>\n",
              "    <tr style=\"text-align: right;\">\n",
              "      <th></th>\n",
              "      <th>household_key</th>\n",
              "      <th>BASKET_ID</th>\n",
              "      <th>DAY</th>\n",
              "      <th>PRODUCT_ID</th>\n",
              "      <th>QUANTITY</th>\n",
              "      <th>SALES_VALUE</th>\n",
              "      <th>STORE_ID</th>\n",
              "      <th>RETAIL_DISC</th>\n",
              "      <th>TRANS_TIME</th>\n",
              "      <th>WEEK_NO</th>\n",
              "      <th>COUPON_DISC</th>\n",
              "      <th>COUPON_MATCH_DISC</th>\n",
              "    </tr>\n",
              "  </thead>\n",
              "  <tbody>\n",
              "    <tr>\n",
              "      <th>42932</th>\n",
              "      <td>236</td>\n",
              "      <td>27565832185</td>\n",
              "      <td>49</td>\n",
              "      <td>1070898</td>\n",
              "      <td>1</td>\n",
              "      <td>2.29</td>\n",
              "      <td>401</td>\n",
              "      <td>-0.4</td>\n",
              "      <td>1720</td>\n",
              "      <td>8</td>\n",
              "      <td>0.0</td>\n",
              "      <td>0.0</td>\n",
              "    </tr>\n",
              "    <tr>\n",
              "      <th>70858</th>\n",
              "      <td>2208</td>\n",
              "      <td>27773951643</td>\n",
              "      <td>67</td>\n",
              "      <td>1070898</td>\n",
              "      <td>1</td>\n",
              "      <td>1.99</td>\n",
              "      <td>441</td>\n",
              "      <td>-0.7</td>\n",
              "      <td>1606</td>\n",
              "      <td>10</td>\n",
              "      <td>0.0</td>\n",
              "      <td>0.0</td>\n",
              "    </tr>\n",
              "    <tr>\n",
              "      <th>111563</th>\n",
              "      <td>1943</td>\n",
              "      <td>27972852099</td>\n",
              "      <td>83</td>\n",
              "      <td>1070898</td>\n",
              "      <td>1</td>\n",
              "      <td>1.99</td>\n",
              "      <td>306</td>\n",
              "      <td>-0.7</td>\n",
              "      <td>1738</td>\n",
              "      <td>13</td>\n",
              "      <td>0.0</td>\n",
              "      <td>0.0</td>\n",
              "    </tr>\n",
              "    <tr>\n",
              "      <th>112410</th>\n",
              "      <td>2208</td>\n",
              "      <td>27985267000</td>\n",
              "      <td>84</td>\n",
              "      <td>1070898</td>\n",
              "      <td>1</td>\n",
              "      <td>1.99</td>\n",
              "      <td>441</td>\n",
              "      <td>-0.7</td>\n",
              "      <td>1957</td>\n",
              "      <td>13</td>\n",
              "      <td>0.0</td>\n",
              "      <td>0.0</td>\n",
              "    </tr>\n",
              "    <tr>\n",
              "      <th>115711</th>\n",
              "      <td>1597</td>\n",
              "      <td>27997358530</td>\n",
              "      <td>85</td>\n",
              "      <td>1070898</td>\n",
              "      <td>1</td>\n",
              "      <td>1.99</td>\n",
              "      <td>319</td>\n",
              "      <td>-0.7</td>\n",
              "      <td>2108</td>\n",
              "      <td>13</td>\n",
              "      <td>0.0</td>\n",
              "      <td>0.0</td>\n",
              "    </tr>\n",
              "  </tbody>\n",
              "</table>\n",
              "</div>"
            ],
            "text/plain": [
              "        household_key    BASKET_ID  DAY  PRODUCT_ID  QUANTITY  SALES_VALUE  \\\n",
              "42932             236  27565832185   49     1070898         1         2.29   \n",
              "70858            2208  27773951643   67     1070898         1         1.99   \n",
              "111563           1943  27972852099   83     1070898         1         1.99   \n",
              "112410           2208  27985267000   84     1070898         1         1.99   \n",
              "115711           1597  27997358530   85     1070898         1         1.99   \n",
              "\n",
              "        STORE_ID  RETAIL_DISC  TRANS_TIME  WEEK_NO  COUPON_DISC  \\\n",
              "42932        401         -0.4        1720        8          0.0   \n",
              "70858        441         -0.7        1606       10          0.0   \n",
              "111563       306         -0.7        1738       13          0.0   \n",
              "112410       441         -0.7        1957       13          0.0   \n",
              "115711       319         -0.7        2108       13          0.0   \n",
              "\n",
              "        COUPON_MATCH_DISC  \n",
              "42932                 0.0  \n",
              "70858                 0.0  \n",
              "111563                0.0  \n",
              "112410                0.0  \n",
              "115711                0.0  "
            ]
          },
          "metadata": {
            "tags": []
          },
          "execution_count": 329
        }
      ]
    },
    {
      "cell_type": "code",
      "metadata": {
        "id": "xNyDPd3r33kc",
        "colab_type": "code",
        "colab": {
          "base_uri": "https://localhost:8080/",
          "height": 204
        },
        "outputId": "f3bdc7fc-7e63-415a-d6e7-fc1e15a35975"
      },
      "source": [
        "transaction[transaction['PRODUCT_ID']==1075918\t].head()"
      ],
      "execution_count": 330,
      "outputs": [
        {
          "output_type": "execute_result",
          "data": {
            "text/html": [
              "<div>\n",
              "<style scoped>\n",
              "    .dataframe tbody tr th:only-of-type {\n",
              "        vertical-align: middle;\n",
              "    }\n",
              "\n",
              "    .dataframe tbody tr th {\n",
              "        vertical-align: top;\n",
              "    }\n",
              "\n",
              "    .dataframe thead th {\n",
              "        text-align: right;\n",
              "    }\n",
              "</style>\n",
              "<table border=\"1\" class=\"dataframe\">\n",
              "  <thead>\n",
              "    <tr style=\"text-align: right;\">\n",
              "      <th></th>\n",
              "      <th>household_key</th>\n",
              "      <th>BASKET_ID</th>\n",
              "      <th>DAY</th>\n",
              "      <th>PRODUCT_ID</th>\n",
              "      <th>QUANTITY</th>\n",
              "      <th>SALES_VALUE</th>\n",
              "      <th>STORE_ID</th>\n",
              "      <th>RETAIL_DISC</th>\n",
              "      <th>TRANS_TIME</th>\n",
              "      <th>WEEK_NO</th>\n",
              "      <th>COUPON_DISC</th>\n",
              "      <th>COUPON_MATCH_DISC</th>\n",
              "    </tr>\n",
              "  </thead>\n",
              "  <tbody>\n",
              "    <tr>\n",
              "      <th>17961</th>\n",
              "      <td>1803</td>\n",
              "      <td>27326020697</td>\n",
              "      <td>29</td>\n",
              "      <td>1075918</td>\n",
              "      <td>1</td>\n",
              "      <td>2.29</td>\n",
              "      <td>338</td>\n",
              "      <td>-0.4</td>\n",
              "      <td>1318</td>\n",
              "      <td>5</td>\n",
              "      <td>0.0</td>\n",
              "      <td>0.0</td>\n",
              "    </tr>\n",
              "    <tr>\n",
              "      <th>47882</th>\n",
              "      <td>867</td>\n",
              "      <td>27609797354</td>\n",
              "      <td>53</td>\n",
              "      <td>1075918</td>\n",
              "      <td>1</td>\n",
              "      <td>2.29</td>\n",
              "      <td>427</td>\n",
              "      <td>-0.4</td>\n",
              "      <td>1633</td>\n",
              "      <td>8</td>\n",
              "      <td>0.0</td>\n",
              "      <td>0.0</td>\n",
              "    </tr>\n",
              "    <tr>\n",
              "      <th>63350</th>\n",
              "      <td>1828</td>\n",
              "      <td>27732781227</td>\n",
              "      <td>63</td>\n",
              "      <td>1075918</td>\n",
              "      <td>1</td>\n",
              "      <td>1.99</td>\n",
              "      <td>317</td>\n",
              "      <td>-0.7</td>\n",
              "      <td>1503</td>\n",
              "      <td>10</td>\n",
              "      <td>0.0</td>\n",
              "      <td>0.0</td>\n",
              "    </tr>\n",
              "    <tr>\n",
              "      <th>75185</th>\n",
              "      <td>456</td>\n",
              "      <td>27785959150</td>\n",
              "      <td>68</td>\n",
              "      <td>1075918</td>\n",
              "      <td>1</td>\n",
              "      <td>1.99</td>\n",
              "      <td>438</td>\n",
              "      <td>-0.7</td>\n",
              "      <td>2043</td>\n",
              "      <td>10</td>\n",
              "      <td>0.0</td>\n",
              "      <td>0.0</td>\n",
              "    </tr>\n",
              "    <tr>\n",
              "      <th>89249</th>\n",
              "      <td>2004</td>\n",
              "      <td>27870820734</td>\n",
              "      <td>75</td>\n",
              "      <td>1075918</td>\n",
              "      <td>1</td>\n",
              "      <td>1.99</td>\n",
              "      <td>31782</td>\n",
              "      <td>-0.7</td>\n",
              "      <td>1228</td>\n",
              "      <td>11</td>\n",
              "      <td>0.0</td>\n",
              "      <td>0.0</td>\n",
              "    </tr>\n",
              "  </tbody>\n",
              "</table>\n",
              "</div>"
            ],
            "text/plain": [
              "       household_key    BASKET_ID  DAY  PRODUCT_ID  QUANTITY  SALES_VALUE  \\\n",
              "17961           1803  27326020697   29     1075918         1         2.29   \n",
              "47882            867  27609797354   53     1075918         1         2.29   \n",
              "63350           1828  27732781227   63     1075918         1         1.99   \n",
              "75185            456  27785959150   68     1075918         1         1.99   \n",
              "89249           2004  27870820734   75     1075918         1         1.99   \n",
              "\n",
              "       STORE_ID  RETAIL_DISC  TRANS_TIME  WEEK_NO  COUPON_DISC  \\\n",
              "17961       338         -0.4        1318        5          0.0   \n",
              "47882       427         -0.4        1633        8          0.0   \n",
              "63350       317         -0.7        1503       10          0.0   \n",
              "75185       438         -0.7        2043       10          0.0   \n",
              "89249     31782         -0.7        1228       11          0.0   \n",
              "\n",
              "       COUPON_MATCH_DISC  \n",
              "17961                0.0  \n",
              "47882                0.0  \n",
              "63350                0.0  \n",
              "75185                0.0  \n",
              "89249                0.0  "
            ]
          },
          "metadata": {
            "tags": []
          },
          "execution_count": 330
        }
      ]
    },
    {
      "cell_type": "code",
      "metadata": {
        "id": "LCzlQBeA33dT",
        "colab_type": "code",
        "colab": {
          "base_uri": "https://localhost:8080/",
          "height": 111
        },
        "outputId": "226e8d3e-a9dc-4642-f7c5-cc18f6bfcc40"
      },
      "source": [
        "transaction[transaction['PRODUCT_ID']==1933734\t]"
      ],
      "execution_count": 321,
      "outputs": [
        {
          "output_type": "execute_result",
          "data": {
            "text/html": [
              "<div>\n",
              "<style scoped>\n",
              "    .dataframe tbody tr th:only-of-type {\n",
              "        vertical-align: middle;\n",
              "    }\n",
              "\n",
              "    .dataframe tbody tr th {\n",
              "        vertical-align: top;\n",
              "    }\n",
              "\n",
              "    .dataframe thead th {\n",
              "        text-align: right;\n",
              "    }\n",
              "</style>\n",
              "<table border=\"1\" class=\"dataframe\">\n",
              "  <thead>\n",
              "    <tr style=\"text-align: right;\">\n",
              "      <th></th>\n",
              "      <th>household_key</th>\n",
              "      <th>BASKET_ID</th>\n",
              "      <th>DAY</th>\n",
              "      <th>PRODUCT_ID</th>\n",
              "      <th>QUANTITY</th>\n",
              "      <th>SALES_VALUE</th>\n",
              "      <th>STORE_ID</th>\n",
              "      <th>RETAIL_DISC</th>\n",
              "      <th>TRANS_TIME</th>\n",
              "      <th>WEEK_NO</th>\n",
              "      <th>COUPON_DISC</th>\n",
              "      <th>COUPON_MATCH_DISC</th>\n",
              "    </tr>\n",
              "  </thead>\n",
              "  <tbody>\n",
              "    <tr>\n",
              "      <th>195094</th>\n",
              "      <td>2137</td>\n",
              "      <td>28296335464</td>\n",
              "      <td>109</td>\n",
              "      <td>1933734</td>\n",
              "      <td>1</td>\n",
              "      <td>1.67</td>\n",
              "      <td>732</td>\n",
              "      <td>-0.49</td>\n",
              "      <td>1028</td>\n",
              "      <td>16</td>\n",
              "      <td>0.0</td>\n",
              "      <td>0.0</td>\n",
              "    </tr>\n",
              "    <tr>\n",
              "      <th>1433852</th>\n",
              "      <td>2137</td>\n",
              "      <td>33221441260</td>\n",
              "      <td>424</td>\n",
              "      <td>1933734</td>\n",
              "      <td>1</td>\n",
              "      <td>1.67</td>\n",
              "      <td>732</td>\n",
              "      <td>-0.45</td>\n",
              "      <td>1431</td>\n",
              "      <td>61</td>\n",
              "      <td>0.0</td>\n",
              "      <td>0.0</td>\n",
              "    </tr>\n",
              "  </tbody>\n",
              "</table>\n",
              "</div>"
            ],
            "text/plain": [
              "         household_key    BASKET_ID  DAY  PRODUCT_ID  QUANTITY  SALES_VALUE  \\\n",
              "195094            2137  28296335464  109     1933734         1         1.67   \n",
              "1433852           2137  33221441260  424     1933734         1         1.67   \n",
              "\n",
              "         STORE_ID  RETAIL_DISC  TRANS_TIME  WEEK_NO  COUPON_DISC  \\\n",
              "195094        732        -0.49        1028       16          0.0   \n",
              "1433852       732        -0.45        1431       61          0.0   \n",
              "\n",
              "         COUPON_MATCH_DISC  \n",
              "195094                 0.0  \n",
              "1433852                0.0  "
            ]
          },
          "metadata": {
            "tags": []
          },
          "execution_count": 321
        }
      ]
    },
    {
      "cell_type": "code",
      "metadata": {
        "id": "vhrdvRtu33WY",
        "colab_type": "code",
        "colab": {
          "base_uri": "https://localhost:8080/",
          "height": 204
        },
        "outputId": "da685cb0-6d9d-491a-f9bf-265e2695f240"
      },
      "source": [
        "transaction[transaction['PRODUCT_ID']==13190277\t].head()"
      ],
      "execution_count": 331,
      "outputs": [
        {
          "output_type": "execute_result",
          "data": {
            "text/html": [
              "<div>\n",
              "<style scoped>\n",
              "    .dataframe tbody tr th:only-of-type {\n",
              "        vertical-align: middle;\n",
              "    }\n",
              "\n",
              "    .dataframe tbody tr th {\n",
              "        vertical-align: top;\n",
              "    }\n",
              "\n",
              "    .dataframe thead th {\n",
              "        text-align: right;\n",
              "    }\n",
              "</style>\n",
              "<table border=\"1\" class=\"dataframe\">\n",
              "  <thead>\n",
              "    <tr style=\"text-align: right;\">\n",
              "      <th></th>\n",
              "      <th>household_key</th>\n",
              "      <th>BASKET_ID</th>\n",
              "      <th>DAY</th>\n",
              "      <th>PRODUCT_ID</th>\n",
              "      <th>QUANTITY</th>\n",
              "      <th>SALES_VALUE</th>\n",
              "      <th>STORE_ID</th>\n",
              "      <th>RETAIL_DISC</th>\n",
              "      <th>TRANS_TIME</th>\n",
              "      <th>WEEK_NO</th>\n",
              "      <th>COUPON_DISC</th>\n",
              "      <th>COUPON_MATCH_DISC</th>\n",
              "    </tr>\n",
              "  </thead>\n",
              "  <tbody>\n",
              "    <tr>\n",
              "      <th>1059862</th>\n",
              "      <td>2484</td>\n",
              "      <td>31920337276</td>\n",
              "      <td>332</td>\n",
              "      <td>13190277</td>\n",
              "      <td>1</td>\n",
              "      <td>1.46</td>\n",
              "      <td>382</td>\n",
              "      <td>0.00</td>\n",
              "      <td>1713</td>\n",
              "      <td>48</td>\n",
              "      <td>0.0</td>\n",
              "      <td>0.0</td>\n",
              "    </tr>\n",
              "    <tr>\n",
              "      <th>1147294</th>\n",
              "      <td>534</td>\n",
              "      <td>32186455339</td>\n",
              "      <td>354</td>\n",
              "      <td>13190277</td>\n",
              "      <td>1</td>\n",
              "      <td>1.46</td>\n",
              "      <td>31642</td>\n",
              "      <td>0.00</td>\n",
              "      <td>959</td>\n",
              "      <td>51</td>\n",
              "      <td>0.0</td>\n",
              "      <td>0.0</td>\n",
              "    </tr>\n",
              "    <tr>\n",
              "      <th>1147901</th>\n",
              "      <td>2261</td>\n",
              "      <td>32186552738</td>\n",
              "      <td>354</td>\n",
              "      <td>13190277</td>\n",
              "      <td>1</td>\n",
              "      <td>1.31</td>\n",
              "      <td>429</td>\n",
              "      <td>-0.15</td>\n",
              "      <td>1820</td>\n",
              "      <td>51</td>\n",
              "      <td>0.0</td>\n",
              "      <td>0.0</td>\n",
              "    </tr>\n",
              "    <tr>\n",
              "      <th>1163400</th>\n",
              "      <td>886</td>\n",
              "      <td>32231506458</td>\n",
              "      <td>357</td>\n",
              "      <td>13190277</td>\n",
              "      <td>1</td>\n",
              "      <td>1.46</td>\n",
              "      <td>402</td>\n",
              "      <td>0.00</td>\n",
              "      <td>1552</td>\n",
              "      <td>52</td>\n",
              "      <td>0.0</td>\n",
              "      <td>0.0</td>\n",
              "    </tr>\n",
              "    <tr>\n",
              "      <th>1361748</th>\n",
              "      <td>1747</td>\n",
              "      <td>33015976659</td>\n",
              "      <td>407</td>\n",
              "      <td>13190277</td>\n",
              "      <td>1</td>\n",
              "      <td>1.46</td>\n",
              "      <td>382</td>\n",
              "      <td>0.00</td>\n",
              "      <td>1447</td>\n",
              "      <td>59</td>\n",
              "      <td>0.0</td>\n",
              "      <td>0.0</td>\n",
              "    </tr>\n",
              "  </tbody>\n",
              "</table>\n",
              "</div>"
            ],
            "text/plain": [
              "         household_key    BASKET_ID  DAY  PRODUCT_ID  QUANTITY  SALES_VALUE  \\\n",
              "1059862           2484  31920337276  332    13190277         1         1.46   \n",
              "1147294            534  32186455339  354    13190277         1         1.46   \n",
              "1147901           2261  32186552738  354    13190277         1         1.31   \n",
              "1163400            886  32231506458  357    13190277         1         1.46   \n",
              "1361748           1747  33015976659  407    13190277         1         1.46   \n",
              "\n",
              "         STORE_ID  RETAIL_DISC  TRANS_TIME  WEEK_NO  COUPON_DISC  \\\n",
              "1059862       382         0.00        1713       48          0.0   \n",
              "1147294     31642         0.00         959       51          0.0   \n",
              "1147901       429        -0.15        1820       51          0.0   \n",
              "1163400       402         0.00        1552       52          0.0   \n",
              "1361748       382         0.00        1447       59          0.0   \n",
              "\n",
              "         COUPON_MATCH_DISC  \n",
              "1059862                0.0  \n",
              "1147294                0.0  \n",
              "1147901                0.0  \n",
              "1163400                0.0  \n",
              "1361748                0.0  "
            ]
          },
          "metadata": {
            "tags": []
          },
          "execution_count": 331
        }
      ]
    },
    {
      "cell_type": "code",
      "metadata": {
        "id": "oA8fbFiW33MM",
        "colab_type": "code",
        "colab": {
          "base_uri": "https://localhost:8080/",
          "height": 80
        },
        "outputId": "1f597488-6d81-4bab-9cb2-d766b0555fbf"
      },
      "source": [
        "transaction[transaction['PRODUCT_ID']==13193765\t]"
      ],
      "execution_count": 323,
      "outputs": [
        {
          "output_type": "execute_result",
          "data": {
            "text/html": [
              "<div>\n",
              "<style scoped>\n",
              "    .dataframe tbody tr th:only-of-type {\n",
              "        vertical-align: middle;\n",
              "    }\n",
              "\n",
              "    .dataframe tbody tr th {\n",
              "        vertical-align: top;\n",
              "    }\n",
              "\n",
              "    .dataframe thead th {\n",
              "        text-align: right;\n",
              "    }\n",
              "</style>\n",
              "<table border=\"1\" class=\"dataframe\">\n",
              "  <thead>\n",
              "    <tr style=\"text-align: right;\">\n",
              "      <th></th>\n",
              "      <th>household_key</th>\n",
              "      <th>BASKET_ID</th>\n",
              "      <th>DAY</th>\n",
              "      <th>PRODUCT_ID</th>\n",
              "      <th>QUANTITY</th>\n",
              "      <th>SALES_VALUE</th>\n",
              "      <th>STORE_ID</th>\n",
              "      <th>RETAIL_DISC</th>\n",
              "      <th>TRANS_TIME</th>\n",
              "      <th>WEEK_NO</th>\n",
              "      <th>COUPON_DISC</th>\n",
              "      <th>COUPON_MATCH_DISC</th>\n",
              "    </tr>\n",
              "  </thead>\n",
              "  <tbody>\n",
              "    <tr>\n",
              "      <th>1799596</th>\n",
              "      <td>348</td>\n",
              "      <td>35156514299</td>\n",
              "      <td>516</td>\n",
              "      <td>13193765</td>\n",
              "      <td>2</td>\n",
              "      <td>1.98</td>\n",
              "      <td>788</td>\n",
              "      <td>-0.4</td>\n",
              "      <td>4</td>\n",
              "      <td>74</td>\n",
              "      <td>0.0</td>\n",
              "      <td>0.0</td>\n",
              "    </tr>\n",
              "  </tbody>\n",
              "</table>\n",
              "</div>"
            ],
            "text/plain": [
              "         household_key    BASKET_ID  DAY  PRODUCT_ID  QUANTITY  SALES_VALUE  \\\n",
              "1799596            348  35156514299  516    13193765         2         1.98   \n",
              "\n",
              "         STORE_ID  RETAIL_DISC  TRANS_TIME  WEEK_NO  COUPON_DISC  \\\n",
              "1799596       788         -0.4           4       74          0.0   \n",
              "\n",
              "         COUPON_MATCH_DISC  \n",
              "1799596                0.0  "
            ]
          },
          "metadata": {
            "tags": []
          },
          "execution_count": 323
        }
      ]
    },
    {
      "cell_type": "code",
      "metadata": {
        "id": "btGyZwPA33Fh",
        "colab_type": "code",
        "colab": {
          "base_uri": "https://localhost:8080/",
          "height": 80
        },
        "outputId": "c634e751-139d-4745-cd9b-9bd1e578a844"
      },
      "source": [
        "transaction[transaction['PRODUCT_ID']==13210004\t]"
      ],
      "execution_count": 324,
      "outputs": [
        {
          "output_type": "execute_result",
          "data": {
            "text/html": [
              "<div>\n",
              "<style scoped>\n",
              "    .dataframe tbody tr th:only-of-type {\n",
              "        vertical-align: middle;\n",
              "    }\n",
              "\n",
              "    .dataframe tbody tr th {\n",
              "        vertical-align: top;\n",
              "    }\n",
              "\n",
              "    .dataframe thead th {\n",
              "        text-align: right;\n",
              "    }\n",
              "</style>\n",
              "<table border=\"1\" class=\"dataframe\">\n",
              "  <thead>\n",
              "    <tr style=\"text-align: right;\">\n",
              "      <th></th>\n",
              "      <th>household_key</th>\n",
              "      <th>BASKET_ID</th>\n",
              "      <th>DAY</th>\n",
              "      <th>PRODUCT_ID</th>\n",
              "      <th>QUANTITY</th>\n",
              "      <th>SALES_VALUE</th>\n",
              "      <th>STORE_ID</th>\n",
              "      <th>RETAIL_DISC</th>\n",
              "      <th>TRANS_TIME</th>\n",
              "      <th>WEEK_NO</th>\n",
              "      <th>COUPON_DISC</th>\n",
              "      <th>COUPON_MATCH_DISC</th>\n",
              "    </tr>\n",
              "  </thead>\n",
              "  <tbody>\n",
              "    <tr>\n",
              "      <th>1818199</th>\n",
              "      <td>131</td>\n",
              "      <td>35413147390</td>\n",
              "      <td>520</td>\n",
              "      <td>13210004</td>\n",
              "      <td>1</td>\n",
              "      <td>1.48</td>\n",
              "      <td>2865</td>\n",
              "      <td>0.0</td>\n",
              "      <td>2202</td>\n",
              "      <td>75</td>\n",
              "      <td>0.0</td>\n",
              "      <td>0.0</td>\n",
              "    </tr>\n",
              "  </tbody>\n",
              "</table>\n",
              "</div>"
            ],
            "text/plain": [
              "         household_key    BASKET_ID  DAY  PRODUCT_ID  QUANTITY  SALES_VALUE  \\\n",
              "1818199            131  35413147390  520    13210004         1         1.48   \n",
              "\n",
              "         STORE_ID  RETAIL_DISC  TRANS_TIME  WEEK_NO  COUPON_DISC  \\\n",
              "1818199      2865          0.0        2202       75          0.0   \n",
              "\n",
              "         COUPON_MATCH_DISC  \n",
              "1818199                0.0  "
            ]
          },
          "metadata": {
            "tags": []
          },
          "execution_count": 324
        }
      ]
    },
    {
      "cell_type": "markdown",
      "metadata": {
        "id": "av2MIONkAVRX",
        "colab_type": "text"
      },
      "source": [
        "Among the Frozen French Fries product 56663 is the only product that wasnt sold by the end of the 2 year promotional campaign. "
      ]
    },
    {
      "cell_type": "code",
      "metadata": {
        "id": "MVygzNi4AyXn",
        "colab_type": "code",
        "colab": {}
      },
      "source": [
        "p2=product[product['SUB_COMMODITY_DESC']=='SPRING WATER']"
      ],
      "execution_count": 0,
      "outputs": []
    },
    {
      "cell_type": "code",
      "metadata": {
        "id": "gy0ySLSLBhYg",
        "colab_type": "code",
        "colab": {
          "base_uri": "https://localhost:8080/",
          "height": 34
        },
        "outputId": "532498c5-b030-4c1a-da58-33c5d8993290"
      },
      "source": [
        "len(p2[p2['CURR_SIZE_OF_PRODUCT']=='16.9 OZ'])"
      ],
      "execution_count": 338,
      "outputs": [
        {
          "output_type": "execute_result",
          "data": {
            "text/plain": [
              "10"
            ]
          },
          "metadata": {
            "tags": []
          },
          "execution_count": 338
        }
      ]
    },
    {
      "cell_type": "code",
      "metadata": {
        "id": "0MYs4gJZBhSG",
        "colab_type": "code",
        "colab": {
          "base_uri": "https://localhost:8080/",
          "height": 34
        },
        "outputId": "5b84bbee-2e67-4210-9b25-8e86d8155dd9"
      },
      "source": [
        "len(transaction[transaction['PRODUCT_ID']==1096960\t])"
      ],
      "execution_count": 337,
      "outputs": [
        {
          "output_type": "execute_result",
          "data": {
            "text/plain": [
              "56"
            ]
          },
          "metadata": {
            "tags": []
          },
          "execution_count": 337
        }
      ]
    },
    {
      "cell_type": "markdown",
      "metadata": {
        "id": "UXtihL9PDLld",
        "colab_type": "text"
      },
      "source": [
        "Among 10 other similar products from the SPRING WATER sub category,\n",
        " This product 424426 is the only product that was not sold in this 2 year promotion campaign"
      ]
    },
    {
      "cell_type": "code",
      "metadata": {
        "id": "f6sfPrc--AvP",
        "colab_type": "code",
        "colab": {}
      },
      "source": [
        "sales_per_store = transaction.groupby(\"STORE_ID\").sum()[\"SALES_VALUE\"].sort_values(ascending=False)"
      ],
      "execution_count": 0,
      "outputs": []
    },
    {
      "cell_type": "code",
      "metadata": {
        "id": "dU9KxA0C_nJA",
        "colab_type": "code",
        "colab": {
          "base_uri": "https://localhost:8080/",
          "height": 136
        },
        "outputId": "121564b6-0a81-4bc8-8b49-ca50b75101a7"
      },
      "source": [
        "sales_per_store.head()"
      ],
      "execution_count": 327,
      "outputs": [
        {
          "output_type": "execute_result",
          "data": {
            "text/plain": [
              "STORE_ID\n",
              "367    267614.34\n",
              "406    216781.77\n",
              "361    144698.85\n",
              "429    142391.01\n",
              "343    140455.75\n",
              "Name: SALES_VALUE, dtype: float64"
            ]
          },
          "metadata": {
            "tags": []
          },
          "execution_count": 327
        }
      ]
    },
    {
      "cell_type": "code",
      "metadata": {
        "id": "rUddD3-v_sXF",
        "colab_type": "code",
        "colab": {
          "base_uri": "https://localhost:8080/",
          "height": 170
        },
        "outputId": "9654e480-e094-4ee2-f885-29e800a5c532"
      },
      "source": [
        "sales_per_store.describe()"
      ],
      "execution_count": 350,
      "outputs": [
        {
          "output_type": "execute_result",
          "data": {
            "text/plain": [
              "count       582.000000\n",
              "mean      13844.438282\n",
              "std       32845.126181\n",
              "min           0.000000\n",
              "25%          27.972500\n",
              "50%         100.930000\n",
              "75%         992.642500\n",
              "max      267614.340000\n",
              "Name: SALES_VALUE, dtype: float64"
            ]
          },
          "metadata": {
            "tags": []
          },
          "execution_count": 350
        }
      ]
    },
    {
      "cell_type": "code",
      "metadata": {
        "id": "DkbUwN28De9T",
        "colab_type": "code",
        "colab": {
          "base_uri": "https://localhost:8080/",
          "height": 351
        },
        "outputId": "d25ac4e0-9fd2-46db-ad65-0c5a1aa865c6"
      },
      "source": [
        "\n",
        "sales_per_store = transaction.groupby(\"STORE_ID\").sum()[\"SALES_VALUE\"].sort_values(ascending=False)\n",
        "sales_per_store = pd.DataFrame(list(zip(sales_per_store.index,sales_per_store)),columns=[\"Store ID\",\"Total Sales (USD)\"])\n",
        "fig_store = plt.figure(figsize=(10,5))\n",
        "sns.barplot(y=\"Store ID\",x=\"Total Sales (USD)\",data = sales_per_store[:20],order=sales_per_store[:20][\"Store ID\"],orient=\"h\")"
      ],
      "execution_count": 351,
      "outputs": [
        {
          "output_type": "execute_result",
          "data": {
            "text/plain": [
              "<matplotlib.axes._subplots.AxesSubplot at 0x7fc13eb3a550>"
            ]
          },
          "metadata": {
            "tags": []
          },
          "execution_count": 351
        },
        {
          "output_type": "display_data",
          "data": {
            "image/png": "[encoded data removed]",
            "text/plain": [
              "<Figure size 720x360 with 1 Axes>"
            ]
          },
          "metadata": {
            "tags": []
          }
        }
      ]
    },
    {
      "cell_type": "code",
      "metadata": {
        "id": "IAp1khSFHYpD",
        "colab_type": "code",
        "colab": {
          "base_uri": "https://localhost:8080/",
          "height": 351
        },
        "outputId": "2b43be91-b463-4138-8792-bf37543ab746"
      },
      "source": [
        "purc_per_cust = transaction.groupby(\"household_key\").sum()[\"SALES_VALUE\"].sort_values(ascending=False)\n",
        "purc_per_cust = pd.DataFrame(list(zip(purc_per_cust.index,purc_per_cust)),columns=[\"household_key\",\"Total Purchase (USD)\"])\n",
        "fig_store = plt.figure(figsize=(10,5))\n",
        "sns.barplot(y=\"household_key\",x=\"Total Purchase (USD)\",data = purc_per_cust[:20],order=purc_per_cust[:20][\"household_key\"],orient=\"h\")"
      ],
      "execution_count": 352,
      "outputs": [
        {
          "output_type": "execute_result",
          "data": {
            "text/plain": [
              "<matplotlib.axes._subplots.AxesSubplot at 0x7fc140575be0>"
            ]
          },
          "metadata": {
            "tags": []
          },
          "execution_count": 352
        },
        {
          "output_type": "display_data",
          "data": {
            "image/png": "[encoded data removed]",
            "text/plain": [
              "<Figure size 720x360 with 1 Axes>"
            ]
          },
          "metadata": {
            "tags": []
          }
        }
      ]
    },
    {
      "cell_type": "code",
      "metadata": {
        "id": "jXsVlVbkKYl6",
        "colab_type": "code",
        "colab": {
          "base_uri": "https://localhost:8080/",
          "height": 80
        },
        "outputId": "09829412-1450-47c7-c930-ba0ee0dedd2b"
      },
      "source": [
        "hh[hh['household_key']==400]"
      ],
      "execution_count": 392,
      "outputs": [
        {
          "output_type": "execute_result",
          "data": {
            "text/html": [
              "<div>\n",
              "<style scoped>\n",
              "    .dataframe tbody tr th:only-of-type {\n",
              "        vertical-align: middle;\n",
              "    }\n",
              "\n",
              "    .dataframe tbody tr th {\n",
              "        vertical-align: top;\n",
              "    }\n",
              "\n",
              "    .dataframe thead th {\n",
              "        text-align: right;\n",
              "    }\n",
              "</style>\n",
              "<table border=\"1\" class=\"dataframe\">\n",
              "  <thead>\n",
              "    <tr style=\"text-align: right;\">\n",
              "      <th></th>\n",
              "      <th>AGE_DESC</th>\n",
              "      <th>MARITAL_STATUS_CODE</th>\n",
              "      <th>INCOME_DESC</th>\n",
              "      <th>HOMEOWNER_DESC</th>\n",
              "      <th>HH_COMP_DESC</th>\n",
              "      <th>HOUSEHOLD_SIZE_DESC</th>\n",
              "      <th>KID_CATEGORY_DESC</th>\n",
              "      <th>household_key</th>\n",
              "    </tr>\n",
              "  </thead>\n",
              "  <tbody>\n",
              "    <tr>\n",
              "      <th>139</th>\n",
              "      <td>35-44</td>\n",
              "      <td>A</td>\n",
              "      <td>150-174K</td>\n",
              "      <td>Homeowner</td>\n",
              "      <td>2 Adults Kids</td>\n",
              "      <td>3</td>\n",
              "      <td>1</td>\n",
              "      <td>400</td>\n",
              "    </tr>\n",
              "  </tbody>\n",
              "</table>\n",
              "</div>"
            ],
            "text/plain": [
              "    AGE_DESC MARITAL_STATUS_CODE INCOME_DESC HOMEOWNER_DESC   HH_COMP_DESC  \\\n",
              "139    35-44                   A    150-174K      Homeowner  2 Adults Kids   \n",
              "\n",
              "    HOUSEHOLD_SIZE_DESC KID_CATEGORY_DESC  household_key  \n",
              "139                   3                 1            400  "
            ]
          },
          "metadata": {
            "tags": []
          },
          "execution_count": 392
        }
      ]
    },
    {
      "cell_type": "code",
      "metadata": {
        "id": "90YNFCQMax_1",
        "colab_type": "code",
        "colab": {
          "base_uri": "https://localhost:8080/",
          "height": 351
        },
        "outputId": "66ca0e88-36ba-48da-e233-d95809be567e"
      },
      "source": [
        "sns.countplot(hh['INCOME_DESC'],order = hh['INCOME_DESC'].value_counts().index)\n",
        "plt.xticks(rotation=45)"
      ],
      "execution_count": 377,
      "outputs": [
        {
          "output_type": "execute_result",
          "data": {
            "text/plain": [
              "(array([ 0,  1,  2,  3,  4,  5,  6,  7,  8,  9, 10, 11]),\n",
              " <a list of 12 Text xticklabel objects>)"
            ]
          },
          "metadata": {
            "tags": []
          },
          "execution_count": 377
        },
        {
          "output_type": "display_data",
          "data": {
            "image/png": "[encoded data removed]",
            "text/plain": [
              "<Figure size 432x288 with 1 Axes>"
            ]
          },
          "metadata": {
            "tags": []
          }
        }
      ]
    },
    {
      "cell_type": "code",
      "metadata": {
        "id": "pBM2zoMkKej3",
        "colab_type": "code",
        "colab": {
          "base_uri": "https://localhost:8080/",
          "height": 483
        },
        "outputId": "5cdda741-4508-4c3c-997d-f055df7ecf40"
      },
      "source": [
        "campaign_table[campaign_table['household_key']==982]"
      ],
      "execution_count": 390,
      "outputs": [
        {
          "output_type": "execute_result",
          "data": {
            "text/html": [
              "<div>\n",
              "<style scoped>\n",
              "    .dataframe tbody tr th:only-of-type {\n",
              "        vertical-align: middle;\n",
              "    }\n",
              "\n",
              "    .dataframe tbody tr th {\n",
              "        vertical-align: top;\n",
              "    }\n",
              "\n",
              "    .dataframe thead th {\n",
              "        text-align: right;\n",
              "    }\n",
              "</style>\n",
              "<table border=\"1\" class=\"dataframe\">\n",
              "  <thead>\n",
              "    <tr style=\"text-align: right;\">\n",
              "      <th></th>\n",
              "      <th>DESCRIPTION</th>\n",
              "      <th>household_key</th>\n",
              "      <th>CAMPAIGN</th>\n",
              "    </tr>\n",
              "  </thead>\n",
              "  <tbody>\n",
              "    <tr>\n",
              "      <th>1441</th>\n",
              "      <td>TypeA</td>\n",
              "      <td>982</td>\n",
              "      <td>8</td>\n",
              "    </tr>\n",
              "    <tr>\n",
              "      <th>2513</th>\n",
              "      <td>TypeA</td>\n",
              "      <td>982</td>\n",
              "      <td>13</td>\n",
              "    </tr>\n",
              "    <tr>\n",
              "      <th>3635</th>\n",
              "      <td>TypeA</td>\n",
              "      <td>982</td>\n",
              "      <td>18</td>\n",
              "    </tr>\n",
              "    <tr>\n",
              "      <th>4391</th>\n",
              "      <td>TypeB</td>\n",
              "      <td>982</td>\n",
              "      <td>5</td>\n",
              "    </tr>\n",
              "    <tr>\n",
              "      <th>4881</th>\n",
              "      <td>TypeB</td>\n",
              "      <td>982</td>\n",
              "      <td>10</td>\n",
              "    </tr>\n",
              "    <tr>\n",
              "      <th>5074</th>\n",
              "      <td>TypeB</td>\n",
              "      <td>982</td>\n",
              "      <td>11</td>\n",
              "    </tr>\n",
              "    <tr>\n",
              "      <th>5425</th>\n",
              "      <td>TypeB</td>\n",
              "      <td>982</td>\n",
              "      <td>16</td>\n",
              "    </tr>\n",
              "    <tr>\n",
              "      <th>5574</th>\n",
              "      <td>TypeB</td>\n",
              "      <td>982</td>\n",
              "      <td>17</td>\n",
              "    </tr>\n",
              "    <tr>\n",
              "      <th>6135</th>\n",
              "      <td>TypeB</td>\n",
              "      <td>982</td>\n",
              "      <td>22</td>\n",
              "    </tr>\n",
              "    <tr>\n",
              "      <th>6298</th>\n",
              "      <td>TypeB</td>\n",
              "      <td>982</td>\n",
              "      <td>23</td>\n",
              "    </tr>\n",
              "    <tr>\n",
              "      <th>6531</th>\n",
              "      <td>TypeB</td>\n",
              "      <td>982</td>\n",
              "      <td>25</td>\n",
              "    </tr>\n",
              "    <tr>\n",
              "      <th>6553</th>\n",
              "      <td>TypeB</td>\n",
              "      <td>982</td>\n",
              "      <td>24</td>\n",
              "    </tr>\n",
              "    <tr>\n",
              "      <th>6800</th>\n",
              "      <td>TypeC</td>\n",
              "      <td>982</td>\n",
              "      <td>14</td>\n",
              "    </tr>\n",
              "    <tr>\n",
              "      <th>7015</th>\n",
              "      <td>TypeC</td>\n",
              "      <td>982</td>\n",
              "      <td>20</td>\n",
              "    </tr>\n",
              "  </tbody>\n",
              "</table>\n",
              "</div>"
            ],
            "text/plain": [
              "     DESCRIPTION  household_key  CAMPAIGN\n",
              "1441       TypeA            982         8\n",
              "2513       TypeA            982        13\n",
              "3635       TypeA            982        18\n",
              "4391       TypeB            982         5\n",
              "4881       TypeB            982        10\n",
              "5074       TypeB            982        11\n",
              "5425       TypeB            982        16\n",
              "5574       TypeB            982        17\n",
              "6135       TypeB            982        22\n",
              "6298       TypeB            982        23\n",
              "6531       TypeB            982        25\n",
              "6553       TypeB            982        24\n",
              "6800       TypeC            982        14\n",
              "7015       TypeC            982        20"
            ]
          },
          "metadata": {
            "tags": []
          },
          "execution_count": 390
        }
      ]
    },
    {
      "cell_type": "code",
      "metadata": {
        "id": "uKeKEbr6Kwl3",
        "colab_type": "code",
        "colab": {
          "base_uri": "https://localhost:8080/",
          "height": 638
        },
        "outputId": "2b1e60ed-e755-4af3-ae1c-aae161ce4a85"
      },
      "source": [
        "coupon_red[coupon_red['household_key']==982]"
      ],
      "execution_count": 391,
      "outputs": [
        {
          "output_type": "execute_result",
          "data": {
            "text/html": [
              "<div>\n",
              "<style scoped>\n",
              "    .dataframe tbody tr th:only-of-type {\n",
              "        vertical-align: middle;\n",
              "    }\n",
              "\n",
              "    .dataframe tbody tr th {\n",
              "        vertical-align: top;\n",
              "    }\n",
              "\n",
              "    .dataframe thead th {\n",
              "        text-align: right;\n",
              "    }\n",
              "</style>\n",
              "<table border=\"1\" class=\"dataframe\">\n",
              "  <thead>\n",
              "    <tr style=\"text-align: right;\">\n",
              "      <th></th>\n",
              "      <th>household_key</th>\n",
              "      <th>DAY</th>\n",
              "      <th>COUPON_UPC</th>\n",
              "      <th>CAMPAIGN</th>\n",
              "    </tr>\n",
              "  </thead>\n",
              "  <tbody>\n",
              "    <tr>\n",
              "      <th>921</th>\n",
              "      <td>982</td>\n",
              "      <td>421</td>\n",
              "      <td>10000085363</td>\n",
              "      <td>8</td>\n",
              "    </tr>\n",
              "    <tr>\n",
              "      <th>922</th>\n",
              "      <td>982</td>\n",
              "      <td>475</td>\n",
              "      <td>54110030074</td>\n",
              "      <td>10</td>\n",
              "    </tr>\n",
              "    <tr>\n",
              "      <th>923</th>\n",
              "      <td>982</td>\n",
              "      <td>506</td>\n",
              "      <td>10000085425</td>\n",
              "      <td>13</td>\n",
              "    </tr>\n",
              "    <tr>\n",
              "      <th>924</th>\n",
              "      <td>982</td>\n",
              "      <td>506</td>\n",
              "      <td>52740022050</td>\n",
              "      <td>13</td>\n",
              "    </tr>\n",
              "    <tr>\n",
              "      <th>925</th>\n",
              "      <td>982</td>\n",
              "      <td>506</td>\n",
              "      <td>57255400076</td>\n",
              "      <td>13</td>\n",
              "    </tr>\n",
              "    <tr>\n",
              "      <th>926</th>\n",
              "      <td>982</td>\n",
              "      <td>514</td>\n",
              "      <td>10000089124</td>\n",
              "      <td>13</td>\n",
              "    </tr>\n",
              "    <tr>\n",
              "      <th>927</th>\n",
              "      <td>982</td>\n",
              "      <td>514</td>\n",
              "      <td>51600040033</td>\n",
              "      <td>13</td>\n",
              "    </tr>\n",
              "    <tr>\n",
              "      <th>928</th>\n",
              "      <td>982</td>\n",
              "      <td>522</td>\n",
              "      <td>50800490076</td>\n",
              "      <td>13</td>\n",
              "    </tr>\n",
              "    <tr>\n",
              "      <th>929</th>\n",
              "      <td>982</td>\n",
              "      <td>549</td>\n",
              "      <td>50800490076</td>\n",
              "      <td>13</td>\n",
              "    </tr>\n",
              "    <tr>\n",
              "      <th>930</th>\n",
              "      <td>982</td>\n",
              "      <td>549</td>\n",
              "      <td>54800110055</td>\n",
              "      <td>14</td>\n",
              "    </tr>\n",
              "    <tr>\n",
              "      <th>931</th>\n",
              "      <td>982</td>\n",
              "      <td>599</td>\n",
              "      <td>10000085479</td>\n",
              "      <td>18</td>\n",
              "    </tr>\n",
              "    <tr>\n",
              "      <th>932</th>\n",
              "      <td>982</td>\n",
              "      <td>599</td>\n",
              "      <td>51800015050</td>\n",
              "      <td>18</td>\n",
              "    </tr>\n",
              "    <tr>\n",
              "      <th>933</th>\n",
              "      <td>982</td>\n",
              "      <td>599</td>\n",
              "      <td>54900050076</td>\n",
              "      <td>18</td>\n",
              "    </tr>\n",
              "    <tr>\n",
              "      <th>934</th>\n",
              "      <td>982</td>\n",
              "      <td>599</td>\n",
              "      <td>57045970076</td>\n",
              "      <td>17</td>\n",
              "    </tr>\n",
              "    <tr>\n",
              "      <th>935</th>\n",
              "      <td>982</td>\n",
              "      <td>639</td>\n",
              "      <td>51600070033</td>\n",
              "      <td>18</td>\n",
              "    </tr>\n",
              "    <tr>\n",
              "      <th>936</th>\n",
              "      <td>982</td>\n",
              "      <td>639</td>\n",
              "      <td>51800000050</td>\n",
              "      <td>22</td>\n",
              "    </tr>\n",
              "    <tr>\n",
              "      <th>937</th>\n",
              "      <td>982</td>\n",
              "      <td>639</td>\n",
              "      <td>51800015050</td>\n",
              "      <td>18</td>\n",
              "    </tr>\n",
              "    <tr>\n",
              "      <th>938</th>\n",
              "      <td>982</td>\n",
              "      <td>639</td>\n",
              "      <td>54850010033</td>\n",
              "      <td>18</td>\n",
              "    </tr>\n",
              "    <tr>\n",
              "      <th>939</th>\n",
              "      <td>982</td>\n",
              "      <td>639</td>\n",
              "      <td>54850010033</td>\n",
              "      <td>22</td>\n",
              "    </tr>\n",
              "  </tbody>\n",
              "</table>\n",
              "</div>"
            ],
            "text/plain": [
              "     household_key  DAY   COUPON_UPC  CAMPAIGN\n",
              "921            982  421  10000085363         8\n",
              "922            982  475  54110030074        10\n",
              "923            982  506  10000085425        13\n",
              "924            982  506  52740022050        13\n",
              "925            982  506  57255400076        13\n",
              "926            982  514  10000089124        13\n",
              "927            982  514  51600040033        13\n",
              "928            982  522  50800490076        13\n",
              "929            982  549  50800490076        13\n",
              "930            982  549  54800110055        14\n",
              "931            982  599  10000085479        18\n",
              "932            982  599  51800015050        18\n",
              "933            982  599  54900050076        18\n",
              "934            982  599  57045970076        17\n",
              "935            982  639  51600070033        18\n",
              "936            982  639  51800000050        22\n",
              "937            982  639  51800015050        18\n",
              "938            982  639  54850010033        18\n",
              "939            982  639  54850010033        22"
            ]
          },
          "metadata": {
            "tags": []
          },
          "execution_count": 391
        }
      ]
    },
    {
      "cell_type": "code",
      "metadata": {
        "id": "I3g-yNIKX1qz",
        "colab_type": "code",
        "colab": {}
      },
      "source": [
        "l1=transaction[transaction['RETAIL_DISC']!=0]\n",
        "#customers with loyalty cards are given retail_desc"
      ],
      "execution_count": 0,
      "outputs": []
    },
    {
      "cell_type": "code",
      "metadata": {
        "id": "_ucy_YPcywWY",
        "colab_type": "code",
        "colab": {
          "base_uri": "https://localhost:8080/",
          "height": 317
        },
        "outputId": "6cf76cba-86f7-487e-b6c0-b9a34ff04f30"
      },
      "source": [
        "l1.describe()"
      ],
      "execution_count": 411,
      "outputs": [
        {
          "output_type": "execute_result",
          "data": {
            "text/html": [
              "<div>\n",
              "<style scoped>\n",
              "    .dataframe tbody tr th:only-of-type {\n",
              "        vertical-align: middle;\n",
              "    }\n",
              "\n",
              "    .dataframe tbody tr th {\n",
              "        vertical-align: top;\n",
              "    }\n",
              "\n",
              "    .dataframe thead th {\n",
              "        text-align: right;\n",
              "    }\n",
              "</style>\n",
              "<table border=\"1\" class=\"dataframe\">\n",
              "  <thead>\n",
              "    <tr style=\"text-align: right;\">\n",
              "      <th></th>\n",
              "      <th>household_key</th>\n",
              "      <th>BASKET_ID</th>\n",
              "      <th>DAY</th>\n",
              "      <th>PRODUCT_ID</th>\n",
              "      <th>QUANTITY</th>\n",
              "      <th>SALES_VALUE</th>\n",
              "      <th>STORE_ID</th>\n",
              "      <th>RETAIL_DISC</th>\n",
              "      <th>TRANS_TIME</th>\n",
              "      <th>WEEK_NO</th>\n",
              "      <th>COUPON_DISC</th>\n",
              "      <th>COUPON_MATCH_DISC</th>\n",
              "    </tr>\n",
              "  </thead>\n",
              "  <tbody>\n",
              "    <tr>\n",
              "      <th>count</th>\n",
              "      <td>1.303062e+06</td>\n",
              "      <td>1.303062e+06</td>\n",
              "      <td>1.303062e+06</td>\n",
              "      <td>1.303062e+06</td>\n",
              "      <td>1.303062e+06</td>\n",
              "      <td>1.303062e+06</td>\n",
              "      <td>1.303062e+06</td>\n",
              "      <td>1.303062e+06</td>\n",
              "      <td>1.303062e+06</td>\n",
              "      <td>1.303062e+06</td>\n",
              "      <td>1.303062e+06</td>\n",
              "      <td>1.303062e+06</td>\n",
              "    </tr>\n",
              "    <tr>\n",
              "      <th>mean</th>\n",
              "      <td>1.271391e+03</td>\n",
              "      <td>3.404750e+10</td>\n",
              "      <td>3.887533e+02</td>\n",
              "      <td>2.936734e+06</td>\n",
              "      <td>1.987315e+02</td>\n",
              "      <td>3.112755e+00</td>\n",
              "      <td>3.136521e+03</td>\n",
              "      <td>-1.073115e+00</td>\n",
              "      <td>1.563122e+03</td>\n",
              "      <td>5.622120e+01</td>\n",
              "      <td>-1.589653e-02</td>\n",
              "      <td>-3.677776e-03</td>\n",
              "    </tr>\n",
              "    <tr>\n",
              "      <th>std</th>\n",
              "      <td>7.310741e+02</td>\n",
              "      <td>4.738067e+09</td>\n",
              "      <td>1.907864e+02</td>\n",
              "      <td>3.839473e+06</td>\n",
              "      <td>1.621580e+03</td>\n",
              "      <td>4.490315e+00</td>\n",
              "      <td>8.929186e+03</td>\n",
              "      <td>1.592178e+00</td>\n",
              "      <td>4.008446e+02</td>\n",
              "      <td>2.725444e+01</td>\n",
              "      <td>1.872465e-01</td>\n",
              "      <td>4.511786e-02</td>\n",
              "    </tr>\n",
              "    <tr>\n",
              "      <th>min</th>\n",
              "      <td>1.000000e+00</td>\n",
              "      <td>2.698485e+10</td>\n",
              "      <td>1.000000e+00</td>\n",
              "      <td>2.635500e+04</td>\n",
              "      <td>0.000000e+00</td>\n",
              "      <td>0.000000e+00</td>\n",
              "      <td>1.000000e+00</td>\n",
              "      <td>-1.800000e+02</td>\n",
              "      <td>0.000000e+00</td>\n",
              "      <td>1.000000e+00</td>\n",
              "      <td>-5.593000e+01</td>\n",
              "      <td>-5.400000e+00</td>\n",
              "    </tr>\n",
              "    <tr>\n",
              "      <th>25%</th>\n",
              "      <td>6.520000e+02</td>\n",
              "      <td>3.024141e+10</td>\n",
              "      <td>2.280000e+02</td>\n",
              "      <td>9.161220e+05</td>\n",
              "      <td>1.000000e+00</td>\n",
              "      <td>1.250000e+00</td>\n",
              "      <td>3.300000e+02</td>\n",
              "      <td>-1.220000e+00</td>\n",
              "      <td>1.309000e+03</td>\n",
              "      <td>3.300000e+01</td>\n",
              "      <td>0.000000e+00</td>\n",
              "      <td>0.000000e+00</td>\n",
              "    </tr>\n",
              "    <tr>\n",
              "      <th>50%</th>\n",
              "      <td>1.270000e+03</td>\n",
              "      <td>3.279476e+10</td>\n",
              "      <td>3.910000e+02</td>\n",
              "      <td>1.024629e+06</td>\n",
              "      <td>1.000000e+00</td>\n",
              "      <td>2.000000e+00</td>\n",
              "      <td>3.720000e+02</td>\n",
              "      <td>-6.900000e-01</td>\n",
              "      <td>1.615000e+03</td>\n",
              "      <td>5.700000e+01</td>\n",
              "      <td>0.000000e+00</td>\n",
              "      <td>0.000000e+00</td>\n",
              "    </tr>\n",
              "    <tr>\n",
              "      <th>75%</th>\n",
              "      <td>1.924000e+03</td>\n",
              "      <td>4.012851e+10</td>\n",
              "      <td>5.560000e+02</td>\n",
              "      <td>1.136257e+06</td>\n",
              "      <td>1.000000e+00</td>\n",
              "      <td>3.190000e+00</td>\n",
              "      <td>4.220000e+02</td>\n",
              "      <td>-3.200000e-01</td>\n",
              "      <td>1.844000e+03</td>\n",
              "      <td>8.000000e+01</td>\n",
              "      <td>0.000000e+00</td>\n",
              "      <td>0.000000e+00</td>\n",
              "    </tr>\n",
              "    <tr>\n",
              "      <th>max</th>\n",
              "      <td>2.500000e+03</td>\n",
              "      <td>4.230536e+10</td>\n",
              "      <td>7.110000e+02</td>\n",
              "      <td>1.827302e+07</td>\n",
              "      <td>8.963800e+04</td>\n",
              "      <td>4.999900e+02</td>\n",
              "      <td>3.428000e+04</td>\n",
              "      <td>3.990000e+00</td>\n",
              "      <td>2.359000e+03</td>\n",
              "      <td>1.020000e+02</td>\n",
              "      <td>0.000000e+00</td>\n",
              "      <td>0.000000e+00</td>\n",
              "    </tr>\n",
              "  </tbody>\n",
              "</table>\n",
              "</div>"
            ],
            "text/plain": [
              "       household_key     BASKET_ID           DAY    PRODUCT_ID      QUANTITY  \\\n",
              "count   1.303062e+06  1.303062e+06  1.303062e+06  1.303062e+06  1.303062e+06   \n",
              "mean    1.271391e+03  3.404750e+10  3.887533e+02  2.936734e+06  1.987315e+02   \n",
              "std     7.310741e+02  4.738067e+09  1.907864e+02  3.839473e+06  1.621580e+03   \n",
              "min     1.000000e+00  2.698485e+10  1.000000e+00  2.635500e+04  0.000000e+00   \n",
              "25%     6.520000e+02  3.024141e+10  2.280000e+02  9.161220e+05  1.000000e+00   \n",
              "50%     1.270000e+03  3.279476e+10  3.910000e+02  1.024629e+06  1.000000e+00   \n",
              "75%     1.924000e+03  4.012851e+10  5.560000e+02  1.136257e+06  1.000000e+00   \n",
              "max     2.500000e+03  4.230536e+10  7.110000e+02  1.827302e+07  8.963800e+04   \n",
              "\n",
              "        SALES_VALUE      STORE_ID   RETAIL_DISC    TRANS_TIME       WEEK_NO  \\\n",
              "count  1.303062e+06  1.303062e+06  1.303062e+06  1.303062e+06  1.303062e+06   \n",
              "mean   3.112755e+00  3.136521e+03 -1.073115e+00  1.563122e+03  5.622120e+01   \n",
              "std    4.490315e+00  8.929186e+03  1.592178e+00  4.008446e+02  2.725444e+01   \n",
              "min    0.000000e+00  1.000000e+00 -1.800000e+02  0.000000e+00  1.000000e+00   \n",
              "25%    1.250000e+00  3.300000e+02 -1.220000e+00  1.309000e+03  3.300000e+01   \n",
              "50%    2.000000e+00  3.720000e+02 -6.900000e-01  1.615000e+03  5.700000e+01   \n",
              "75%    3.190000e+00  4.220000e+02 -3.200000e-01  1.844000e+03  8.000000e+01   \n",
              "max    4.999900e+02  3.428000e+04  3.990000e+00  2.359000e+03  1.020000e+02   \n",
              "\n",
              "        COUPON_DISC  COUPON_MATCH_DISC  \n",
              "count  1.303062e+06       1.303062e+06  \n",
              "mean  -1.589653e-02      -3.677776e-03  \n",
              "std    1.872465e-01       4.511786e-02  \n",
              "min   -5.593000e+01      -5.400000e+00  \n",
              "25%    0.000000e+00       0.000000e+00  \n",
              "50%    0.000000e+00       0.000000e+00  \n",
              "75%    0.000000e+00       0.000000e+00  \n",
              "max    0.000000e+00       0.000000e+00  "
            ]
          },
          "metadata": {
            "tags": []
          },
          "execution_count": 411
        }
      ]
    },
    {
      "cell_type": "code",
      "metadata": {
        "id": "zO9Rlr70xIbV",
        "colab_type": "code",
        "colab": {}
      },
      "source": [
        "l2=l1['household_key'].unique()"
      ],
      "execution_count": 0,
      "outputs": []
    },
    {
      "cell_type": "code",
      "metadata": {
        "id": "AZ54iyGwxVYQ",
        "colab_type": "code",
        "colab": {}
      },
      "source": [
        "l3=hh[hh['household_key'].isin(l2)]"
      ],
      "execution_count": 0,
      "outputs": []
    },
    {
      "cell_type": "code",
      "metadata": {
        "id": "GwVeuGMGxdPZ",
        "colab_type": "code",
        "colab": {
          "base_uri": "https://localhost:8080/",
          "height": 204
        },
        "outputId": "a2b5621d-34bd-402f-c7e1-8dd4cde477c4"
      },
      "source": [
        "l3.head()"
      ],
      "execution_count": 414,
      "outputs": [
        {
          "output_type": "execute_result",
          "data": {
            "text/html": [
              "<div>\n",
              "<style scoped>\n",
              "    .dataframe tbody tr th:only-of-type {\n",
              "        vertical-align: middle;\n",
              "    }\n",
              "\n",
              "    .dataframe tbody tr th {\n",
              "        vertical-align: top;\n",
              "    }\n",
              "\n",
              "    .dataframe thead th {\n",
              "        text-align: right;\n",
              "    }\n",
              "</style>\n",
              "<table border=\"1\" class=\"dataframe\">\n",
              "  <thead>\n",
              "    <tr style=\"text-align: right;\">\n",
              "      <th></th>\n",
              "      <th>AGE_DESC</th>\n",
              "      <th>MARITAL_STATUS_CODE</th>\n",
              "      <th>INCOME_DESC</th>\n",
              "      <th>HOMEOWNER_DESC</th>\n",
              "      <th>HH_COMP_DESC</th>\n",
              "      <th>HOUSEHOLD_SIZE_DESC</th>\n",
              "      <th>KID_CATEGORY_DESC</th>\n",
              "      <th>household_key</th>\n",
              "    </tr>\n",
              "  </thead>\n",
              "  <tbody>\n",
              "    <tr>\n",
              "      <th>0</th>\n",
              "      <td>65+</td>\n",
              "      <td>A</td>\n",
              "      <td>35-49K</td>\n",
              "      <td>Homeowner</td>\n",
              "      <td>2 Adults No Kids</td>\n",
              "      <td>2</td>\n",
              "      <td>0</td>\n",
              "      <td>1</td>\n",
              "    </tr>\n",
              "    <tr>\n",
              "      <th>1</th>\n",
              "      <td>45-54</td>\n",
              "      <td>A</td>\n",
              "      <td>50-74K</td>\n",
              "      <td>Homeowner</td>\n",
              "      <td>2 Adults No Kids</td>\n",
              "      <td>2</td>\n",
              "      <td>0</td>\n",
              "      <td>7</td>\n",
              "    </tr>\n",
              "    <tr>\n",
              "      <th>2</th>\n",
              "      <td>25-34</td>\n",
              "      <td>U</td>\n",
              "      <td>25-34K</td>\n",
              "      <td>Unknown</td>\n",
              "      <td>2 Adults Kids</td>\n",
              "      <td>3</td>\n",
              "      <td>1</td>\n",
              "      <td>8</td>\n",
              "    </tr>\n",
              "    <tr>\n",
              "      <th>3</th>\n",
              "      <td>25-34</td>\n",
              "      <td>U</td>\n",
              "      <td>75-99K</td>\n",
              "      <td>Homeowner</td>\n",
              "      <td>2 Adults Kids</td>\n",
              "      <td>4</td>\n",
              "      <td>2</td>\n",
              "      <td>13</td>\n",
              "    </tr>\n",
              "    <tr>\n",
              "      <th>4</th>\n",
              "      <td>45-54</td>\n",
              "      <td>B</td>\n",
              "      <td>50-74K</td>\n",
              "      <td>Homeowner</td>\n",
              "      <td>Single Female</td>\n",
              "      <td>1</td>\n",
              "      <td>0</td>\n",
              "      <td>16</td>\n",
              "    </tr>\n",
              "  </tbody>\n",
              "</table>\n",
              "</div>"
            ],
            "text/plain": [
              "  AGE_DESC MARITAL_STATUS_CODE INCOME_DESC HOMEOWNER_DESC      HH_COMP_DESC  \\\n",
              "0      65+                   A      35-49K      Homeowner  2 Adults No Kids   \n",
              "1    45-54                   A      50-74K      Homeowner  2 Adults No Kids   \n",
              "2    25-34                   U      25-34K        Unknown     2 Adults Kids   \n",
              "3    25-34                   U      75-99K      Homeowner     2 Adults Kids   \n",
              "4    45-54                   B      50-74K      Homeowner     Single Female   \n",
              "\n",
              "  HOUSEHOLD_SIZE_DESC KID_CATEGORY_DESC  household_key  \n",
              "0                   2                 0              1  \n",
              "1                   2                 0              7  \n",
              "2                   3                 1              8  \n",
              "3                   4                 2             13  \n",
              "4                   1                 0             16  "
            ]
          },
          "metadata": {
            "tags": []
          },
          "execution_count": 414
        }
      ]
    },
    {
      "cell_type": "code",
      "metadata": {
        "id": "KphF0kbpxfXO",
        "colab_type": "code",
        "colab": {
          "base_uri": "https://localhost:8080/",
          "height": 250
        },
        "outputId": "87789c89-2edd-4f4b-fd4b-f3609870ff2d"
      },
      "source": [
        "# Pie chart, where the slices will be ordered and plotted counter-clockwise:\n",
        "labels = 'No kids', '1','2','3+'\n",
        "sizes = [69.7,14.2,8.6,7.5]\n",
        "explode = (0.1, 0,0,0)  # only \"explode\" the big slice (i.e. 'coupons RedeemedNo kids')\n",
        "\n",
        "fig1, ax1 = plt.subplots()\n",
        "ax1.pie(sizes, explode=explode, labels=labels, autopct='%1.1f%%',\n",
        "        shadow=True, startangle=90)\n",
        "ax1.axis('equal')  # Equal aspect ratio ensures that pie is drawn as a circle.\n",
        "\n",
        "plt.show()"
      ],
      "execution_count": 404,
      "outputs": [
        {
          "output_type": "display_data",
          "data": {
            "image/png": "[encoded data removed]",
            "text/plain": [
              "<Figure size 432x288 with 1 Axes>"
            ]
          },
          "metadata": {
            "tags": []
          }
        }
      ]
    },
    {
      "cell_type": "code",
      "metadata": {
        "id": "cmFOzkeGyjt4",
        "colab_type": "code",
        "colab": {}
      },
      "source": [
        "nl1=transaction[transaction['RETAIL_DISC']==0]\n",
        "#customers with loyalty cards are given retail_desc"
      ],
      "execution_count": 0,
      "outputs": []
    },
    {
      "cell_type": "code",
      "metadata": {
        "id": "FDVjHJIL0JD4",
        "colab_type": "code",
        "colab": {
          "base_uri": "https://localhost:8080/",
          "height": 317
        },
        "outputId": "aaf77e4f-5605-4f70-9ce5-35d4db17590c"
      },
      "source": [
        "nl1.describe()"
      ],
      "execution_count": 413,
      "outputs": [
        {
          "output_type": "execute_result",
          "data": {
            "text/html": [
              "<div>\n",
              "<style scoped>\n",
              "    .dataframe tbody tr th:only-of-type {\n",
              "        vertical-align: middle;\n",
              "    }\n",
              "\n",
              "    .dataframe tbody tr th {\n",
              "        vertical-align: top;\n",
              "    }\n",
              "\n",
              "    .dataframe thead th {\n",
              "        text-align: right;\n",
              "    }\n",
              "</style>\n",
              "<table border=\"1\" class=\"dataframe\">\n",
              "  <thead>\n",
              "    <tr style=\"text-align: right;\">\n",
              "      <th></th>\n",
              "      <th>household_key</th>\n",
              "      <th>BASKET_ID</th>\n",
              "      <th>DAY</th>\n",
              "      <th>PRODUCT_ID</th>\n",
              "      <th>QUANTITY</th>\n",
              "      <th>SALES_VALUE</th>\n",
              "      <th>STORE_ID</th>\n",
              "      <th>RETAIL_DISC</th>\n",
              "      <th>TRANS_TIME</th>\n",
              "      <th>WEEK_NO</th>\n",
              "      <th>COUPON_DISC</th>\n",
              "      <th>COUPON_MATCH_DISC</th>\n",
              "    </tr>\n",
              "  </thead>\n",
              "  <tbody>\n",
              "    <tr>\n",
              "      <th>count</th>\n",
              "      <td>1.292670e+06</td>\n",
              "      <td>1.292670e+06</td>\n",
              "      <td>1.292670e+06</td>\n",
              "      <td>1.292670e+06</td>\n",
              "      <td>1.292670e+06</td>\n",
              "      <td>1.292670e+06</td>\n",
              "      <td>1.292670e+06</td>\n",
              "      <td>1292670.0</td>\n",
              "      <td>1.292670e+06</td>\n",
              "      <td>1.292670e+06</td>\n",
              "      <td>1.292670e+06</td>\n",
              "      <td>1.292670e+06</td>\n",
              "    </tr>\n",
              "    <tr>\n",
              "      <th>mean</th>\n",
              "      <td>1.272518e+03</td>\n",
              "      <td>3.400473e+10</td>\n",
              "      <td>3.887592e+02</td>\n",
              "      <td>2.845772e+06</td>\n",
              "      <td>1.335380e+00</td>\n",
              "      <td>3.095415e+00</td>\n",
              "      <td>3.148875e+03</td>\n",
              "      <td>0.0</td>\n",
              "      <td>1.560038e+03</td>\n",
              "      <td>5.622180e+01</td>\n",
              "      <td>-1.693965e-02</td>\n",
              "      <td>-2.153249e-03</td>\n",
              "    </tr>\n",
              "    <tr>\n",
              "      <th>std</th>\n",
              "      <td>7.209822e+02</td>\n",
              "      <td>4.684772e+09</td>\n",
              "      <td>1.886410e+02</td>\n",
              "      <td>3.834777e+06</td>\n",
              "      <td>3.613698e+01</td>\n",
              "      <td>3.846854e+00</td>\n",
              "      <td>8.945097e+03</td>\n",
              "      <td>0.0</td>\n",
              "      <td>3.988146e+02</td>\n",
              "      <td>2.694793e+01</td>\n",
              "      <td>2.430523e-01</td>\n",
              "      <td>3.331834e-02</td>\n",
              "    </tr>\n",
              "    <tr>\n",
              "      <th>min</th>\n",
              "      <td>1.000000e+00</td>\n",
              "      <td>2.698485e+10</td>\n",
              "      <td>1.000000e+00</td>\n",
              "      <td>2.567100e+04</td>\n",
              "      <td>0.000000e+00</td>\n",
              "      <td>0.000000e+00</td>\n",
              "      <td>1.000000e+00</td>\n",
              "      <td>0.0</td>\n",
              "      <td>0.000000e+00</td>\n",
              "      <td>1.000000e+00</td>\n",
              "      <td>-3.793000e+01</td>\n",
              "      <td>-7.700000e+00</td>\n",
              "    </tr>\n",
              "    <tr>\n",
              "      <th>25%</th>\n",
              "      <td>6.640000e+02</td>\n",
              "      <td>3.050361e+10</td>\n",
              "      <td>2.300000e+02</td>\n",
              "      <td>9.197000e+05</td>\n",
              "      <td>1.000000e+00</td>\n",
              "      <td>1.290000e+00</td>\n",
              "      <td>3.300000e+02</td>\n",
              "      <td>0.0</td>\n",
              "      <td>1.306000e+03</td>\n",
              "      <td>3.400000e+01</td>\n",
              "      <td>0.000000e+00</td>\n",
              "      <td>0.000000e+00</td>\n",
              "    </tr>\n",
              "    <tr>\n",
              "      <th>50%</th>\n",
              "      <td>1.272000e+03</td>\n",
              "      <td>3.276017e+10</td>\n",
              "      <td>3.890000e+02</td>\n",
              "      <td>1.029743e+06</td>\n",
              "      <td>1.000000e+00</td>\n",
              "      <td>2.290000e+00</td>\n",
              "      <td>3.720000e+02</td>\n",
              "      <td>0.0</td>\n",
              "      <td>1.612000e+03</td>\n",
              "      <td>5.600000e+01</td>\n",
              "      <td>0.000000e+00</td>\n",
              "      <td>0.000000e+00</td>\n",
              "    </tr>\n",
              "    <tr>\n",
              "      <th>75%</th>\n",
              "      <td>1.901000e+03</td>\n",
              "      <td>4.008859e+10</td>\n",
              "      <td>5.500000e+02</td>\n",
              "      <td>1.127831e+06</td>\n",
              "      <td>1.000000e+00</td>\n",
              "      <td>3.660000e+00</td>\n",
              "      <td>4.220000e+02</td>\n",
              "      <td>0.0</td>\n",
              "      <td>1.843000e+03</td>\n",
              "      <td>7.900000e+01</td>\n",
              "      <td>0.000000e+00</td>\n",
              "      <td>0.000000e+00</td>\n",
              "    </tr>\n",
              "    <tr>\n",
              "      <th>max</th>\n",
              "      <td>2.500000e+03</td>\n",
              "      <td>4.230536e+10</td>\n",
              "      <td>7.110000e+02</td>\n",
              "      <td>1.831630e+07</td>\n",
              "      <td>3.008000e+04</td>\n",
              "      <td>8.400000e+02</td>\n",
              "      <td>3.428000e+04</td>\n",
              "      <td>0.0</td>\n",
              "      <td>2.359000e+03</td>\n",
              "      <td>1.020000e+02</td>\n",
              "      <td>0.000000e+00</td>\n",
              "      <td>0.000000e+00</td>\n",
              "    </tr>\n",
              "  </tbody>\n",
              "</table>\n",
              "</div>"
            ],
            "text/plain": [
              "       household_key     BASKET_ID           DAY    PRODUCT_ID      QUANTITY  \\\n",
              "count   1.292670e+06  1.292670e+06  1.292670e+06  1.292670e+06  1.292670e+06   \n",
              "mean    1.272518e+03  3.400473e+10  3.887592e+02  2.845772e+06  1.335380e+00   \n",
              "std     7.209822e+02  4.684772e+09  1.886410e+02  3.834777e+06  3.613698e+01   \n",
              "min     1.000000e+00  2.698485e+10  1.000000e+00  2.567100e+04  0.000000e+00   \n",
              "25%     6.640000e+02  3.050361e+10  2.300000e+02  9.197000e+05  1.000000e+00   \n",
              "50%     1.272000e+03  3.276017e+10  3.890000e+02  1.029743e+06  1.000000e+00   \n",
              "75%     1.901000e+03  4.008859e+10  5.500000e+02  1.127831e+06  1.000000e+00   \n",
              "max     2.500000e+03  4.230536e+10  7.110000e+02  1.831630e+07  3.008000e+04   \n",
              "\n",
              "        SALES_VALUE      STORE_ID  RETAIL_DISC    TRANS_TIME       WEEK_NO  \\\n",
              "count  1.292670e+06  1.292670e+06    1292670.0  1.292670e+06  1.292670e+06   \n",
              "mean   3.095415e+00  3.148875e+03          0.0  1.560038e+03  5.622180e+01   \n",
              "std    3.846854e+00  8.945097e+03          0.0  3.988146e+02  2.694793e+01   \n",
              "min    0.000000e+00  1.000000e+00          0.0  0.000000e+00  1.000000e+00   \n",
              "25%    1.290000e+00  3.300000e+02          0.0  1.306000e+03  3.400000e+01   \n",
              "50%    2.290000e+00  3.720000e+02          0.0  1.612000e+03  5.600000e+01   \n",
              "75%    3.660000e+00  4.220000e+02          0.0  1.843000e+03  7.900000e+01   \n",
              "max    8.400000e+02  3.428000e+04          0.0  2.359000e+03  1.020000e+02   \n",
              "\n",
              "        COUPON_DISC  COUPON_MATCH_DISC  \n",
              "count  1.292670e+06       1.292670e+06  \n",
              "mean  -1.693965e-02      -2.153249e-03  \n",
              "std    2.430523e-01       3.331834e-02  \n",
              "min   -3.793000e+01      -7.700000e+00  \n",
              "25%    0.000000e+00       0.000000e+00  \n",
              "50%    0.000000e+00       0.000000e+00  \n",
              "75%    0.000000e+00       0.000000e+00  \n",
              "max    0.000000e+00       0.000000e+00  "
            ]
          },
          "metadata": {
            "tags": []
          },
          "execution_count": 413
        }
      ]
    },
    {
      "cell_type": "code",
      "metadata": {
        "id": "5CxlYBMq0Lhk",
        "colab_type": "code",
        "colab": {}
      },
      "source": [
        ""
      ],
      "execution_count": 0,
      "outputs": []
    }
  ]
}